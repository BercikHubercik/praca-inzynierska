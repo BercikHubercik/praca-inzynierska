{
 "cells": [
  {
   "cell_type": "code",
   "execution_count": 27,
   "metadata": {
    "collapsed": true,
    "pycharm": {
     "name": "#%%\n"
    }
   },
   "outputs": [
    {
     "data": {
      "text/plain": "                                               OriginalText  \\\nAF1.txt   Wczoraj rano przytrafiło mi się coś miłego. Pr...   \nAF10.txt  Pan Dussel, człowiek, o którym zawsze mówiono,...   \nAF11.txt  Jakbym w ciągu dnia nie słyszała wystarczająco...   \nAF12.txt  Pienię się z wściekłości, a nie wolno mi tego ...   \nAF13.txt  Wszyscy uważają, że jestem przesadna, gdy mówi...   \n\n                                                CleanedText  \\\nAF1.txt   wczoraj rano przytrafiło mi się coś miłego prz...   \nAF10.txt  pan dussel człowiek o którym zawsze mówiono że...   \nAF11.txt  jakbym w ciągu dnia nie słyszała wystarczająco...   \nAF12.txt  pienię się z wściekłości a nie wolno mi tego o...   \nAF13.txt  wszyscy uważają że jestem przesadna gdy mówię ...   \n\n                                                   WordList  Sentyment  \\\nAF1.txt   [wczoraj, rano, przytrafiło, mi, się, coś, mił...        5.0   \nAF10.txt  [pan, dussel, człowiek, o, którym, zawsze, mów...        1.0   \nAF11.txt  [jakbym, w, ciągu, dnia, nie, słyszała, wystar...        1.0   \nAF12.txt  [pienię, się, z, wściekłości, a, nie, wolno, m...        1.0   \nAF13.txt  [wszyscy, uważają, że, jestem, przesadna, gdy,...        1.0   \n\n          Lubienie  Wstręt  Złość  Strach  Zaskoczenie  Oczekiwanie  Radość  \\\nAF1.txt        2.0     0.0    0.0     0.0          3.0          0.0     2.0   \nAF10.txt       0.0     1.0    4.0     0.0          0.0          1.0     0.0   \nAF11.txt       0.0     1.0    3.0     1.0          0.0          1.0     0.0   \nAF12.txt       0.0     2.0    4.0     0.0          0.0          0.0     0.0   \nAF13.txt       0.0     2.0    4.0     0.0          0.0          0.0     0.0   \n\n          Smutek                                          RemovedSW  \\\nAF1.txt      0.0  wczoraj rano przytrafiło miłego przechodziłam ...   \nAF10.txt     2.0  dussel człowiek mówiono umie świetnie radzić d...   \nAF11.txt     2.0  jakbym ciągu dnia słyszała wystarczająco „psst...   \nAF12.txt     0.0  pienię wściekłości wolno okazać chciałabym tup...   \nAF13.txt     3.0  uważają przesadna mówię śmieszna milczę bezcze...   \n\n          Sentyment_nom  \nAF1.txt               1  \nAF10.txt             -1  \nAF11.txt             -1  \nAF12.txt             -1  \nAF13.txt             -1  ",
      "text/html": "<div>\n<style scoped>\n    .dataframe tbody tr th:only-of-type {\n        vertical-align: middle;\n    }\n\n    .dataframe tbody tr th {\n        vertical-align: top;\n    }\n\n    .dataframe thead th {\n        text-align: right;\n    }\n</style>\n<table border=\"1\" class=\"dataframe\">\n  <thead>\n    <tr style=\"text-align: right;\">\n      <th></th>\n      <th>OriginalText</th>\n      <th>CleanedText</th>\n      <th>WordList</th>\n      <th>Sentyment</th>\n      <th>Lubienie</th>\n      <th>Wstręt</th>\n      <th>Złość</th>\n      <th>Strach</th>\n      <th>Zaskoczenie</th>\n      <th>Oczekiwanie</th>\n      <th>Radość</th>\n      <th>Smutek</th>\n      <th>RemovedSW</th>\n      <th>Sentyment_nom</th>\n    </tr>\n  </thead>\n  <tbody>\n    <tr>\n      <th>AF1.txt</th>\n      <td>Wczoraj rano przytrafiło mi się coś miłego. Pr...</td>\n      <td>wczoraj rano przytrafiło mi się coś miłego prz...</td>\n      <td>[wczoraj, rano, przytrafiło, mi, się, coś, mił...</td>\n      <td>5.0</td>\n      <td>2.0</td>\n      <td>0.0</td>\n      <td>0.0</td>\n      <td>0.0</td>\n      <td>3.0</td>\n      <td>0.0</td>\n      <td>2.0</td>\n      <td>0.0</td>\n      <td>wczoraj rano przytrafiło miłego przechodziłam ...</td>\n      <td>1</td>\n    </tr>\n    <tr>\n      <th>AF10.txt</th>\n      <td>Pan Dussel, człowiek, o którym zawsze mówiono,...</td>\n      <td>pan dussel człowiek o którym zawsze mówiono że...</td>\n      <td>[pan, dussel, człowiek, o, którym, zawsze, mów...</td>\n      <td>1.0</td>\n      <td>0.0</td>\n      <td>1.0</td>\n      <td>4.0</td>\n      <td>0.0</td>\n      <td>0.0</td>\n      <td>1.0</td>\n      <td>0.0</td>\n      <td>2.0</td>\n      <td>dussel człowiek mówiono umie świetnie radzić d...</td>\n      <td>-1</td>\n    </tr>\n    <tr>\n      <th>AF11.txt</th>\n      <td>Jakbym w ciągu dnia nie słyszała wystarczająco...</td>\n      <td>jakbym w ciągu dnia nie słyszała wystarczająco...</td>\n      <td>[jakbym, w, ciągu, dnia, nie, słyszała, wystar...</td>\n      <td>1.0</td>\n      <td>0.0</td>\n      <td>1.0</td>\n      <td>3.0</td>\n      <td>1.0</td>\n      <td>0.0</td>\n      <td>1.0</td>\n      <td>0.0</td>\n      <td>2.0</td>\n      <td>jakbym ciągu dnia słyszała wystarczająco „psst...</td>\n      <td>-1</td>\n    </tr>\n    <tr>\n      <th>AF12.txt</th>\n      <td>Pienię się z wściekłości, a nie wolno mi tego ...</td>\n      <td>pienię się z wściekłości a nie wolno mi tego o...</td>\n      <td>[pienię, się, z, wściekłości, a, nie, wolno, m...</td>\n      <td>1.0</td>\n      <td>0.0</td>\n      <td>2.0</td>\n      <td>4.0</td>\n      <td>0.0</td>\n      <td>0.0</td>\n      <td>0.0</td>\n      <td>0.0</td>\n      <td>0.0</td>\n      <td>pienię wściekłości wolno okazać chciałabym tup...</td>\n      <td>-1</td>\n    </tr>\n    <tr>\n      <th>AF13.txt</th>\n      <td>Wszyscy uważają, że jestem przesadna, gdy mówi...</td>\n      <td>wszyscy uważają że jestem przesadna gdy mówię ...</td>\n      <td>[wszyscy, uważają, że, jestem, przesadna, gdy,...</td>\n      <td>1.0</td>\n      <td>0.0</td>\n      <td>2.0</td>\n      <td>4.0</td>\n      <td>0.0</td>\n      <td>0.0</td>\n      <td>0.0</td>\n      <td>0.0</td>\n      <td>3.0</td>\n      <td>uważają przesadna mówię śmieszna milczę bezcze...</td>\n      <td>-1</td>\n    </tr>\n  </tbody>\n</table>\n</div>"
     },
     "execution_count": 27,
     "metadata": {},
     "output_type": "execute_result"
    }
   ],
   "source": [
    "from ordinal_classifier import OrdinalClassifier\n",
    "import pandas as pd\n",
    "from DashApp.func import Classifier\n",
    "import plotly.graph_objects as go\n",
    "import plotly.express as px\n",
    "from sklearn.feature_extraction.text import CountVectorizer, TfidfVectorizer\n",
    "from sklearn.metrics import confusion_matrix, accuracy_score, precision_score, recall_score, f1_score\n",
    "from sklearn.model_selection import train_test_split\n",
    "from sklearn.naive_bayes import MultinomialNB\n",
    "import sklearn.metrics\n",
    "from sklearn import svm\n",
    "import copy\n",
    "from sklearn.model_selection import cross_val_predict, cross_validate\n",
    "df = pd.read_pickle(r'data\\data_df.pkl')\n",
    "df.head()"
   ]
  },
  {
   "cell_type": "code",
   "execution_count": 28,
   "outputs": [],
   "source": [
    "emotions = ['Lubienie', 'Wstręt', 'Złość', 'Strach', 'Zaskoczenie', 'Oczekiwanie', 'Radość',\n",
    "                         'Smutek']\n",
    "X = df['RemovedSW']\n",
    "vector = CountVectorizer()\n",
    "X_vec = vector.fit_transform(X).toarray()\n",
    "def predict_values_vec(X_vec, emotions, clf, df):\n",
    "    val_dict = {}\n",
    "    for emo in emotions:\n",
    "        ylabels = df[emo]\n",
    "        X_train, X_test, y_train, y_test = train_test_split(X_vec, ylabels, test_size=0.3)\n",
    "        ord_clf = OrdinalClassifier(clf)\n",
    "        ord_clf.fit(X_train, y_train)\n",
    "        y_pred = ord_clf.predict(X_test)\n",
    "        val_dict[emo] = (y_pred, y_test)\n",
    "\n",
    "    return val_dict\n",
    "\n",
    "\n",
    "\n",
    "def calc_acc(X_vec, emotions, clf, df):\n",
    "    dict = {}\n",
    "    val_dict = predict_values_vec(X_vec, emotions, clf, df)\n",
    "    for k in val_dict.keys():\n",
    "        y_pred, y_true = val_dict[k]\n",
    "        dict[k] = {'test_accuracy': accuracy_score(y_true, y_pred), 'test_f1_macro' : f1_score(y_true, y_pred, average='macro'), 'test_recall_macro' : recall_score(y_true, y_pred, average='macro'), 'test_precision_macro' : precision_score(y_true, y_pred, average='macro', zero_division=0)}\n",
    "    return dict"
   ],
   "metadata": {
    "collapsed": false,
    "pycharm": {
     "name": "#%%\n"
    }
   }
  },
  {
   "cell_type": "code",
   "execution_count": 29,
   "outputs": [
    {
     "data": {
      "text/plain": "                      Lubienie    Wstręt     Złość    Strach  Zaskoczenie  \\\ntest_accuracy         0.225806  0.258065  0.225806  0.258065     0.161290   \ntest_f1_macro         0.134459  0.244398  0.146667  0.201255     0.128024   \ntest_recall_macro     0.296923  0.347143  0.260000  0.303333     0.195000   \ntest_precision_macro  0.280952  0.328571  0.160000  0.222857     0.124848   \n\n                      Oczekiwanie    Radość    Smutek  \ntest_accuracy            0.193548  0.483871  0.258065  \ntest_f1_macro            0.107792  0.183590  0.242892  \ntest_recall_macro        0.258824  0.333333  0.279394  \ntest_precision_macro     0.110909  0.177778  0.234444  ",
      "text/html": "<div>\n<style scoped>\n    .dataframe tbody tr th:only-of-type {\n        vertical-align: middle;\n    }\n\n    .dataframe tbody tr th {\n        vertical-align: top;\n    }\n\n    .dataframe thead th {\n        text-align: right;\n    }\n</style>\n<table border=\"1\" class=\"dataframe\">\n  <thead>\n    <tr style=\"text-align: right;\">\n      <th></th>\n      <th>Lubienie</th>\n      <th>Wstręt</th>\n      <th>Złość</th>\n      <th>Strach</th>\n      <th>Zaskoczenie</th>\n      <th>Oczekiwanie</th>\n      <th>Radość</th>\n      <th>Smutek</th>\n    </tr>\n  </thead>\n  <tbody>\n    <tr>\n      <th>test_accuracy</th>\n      <td>0.225806</td>\n      <td>0.258065</td>\n      <td>0.225806</td>\n      <td>0.258065</td>\n      <td>0.161290</td>\n      <td>0.193548</td>\n      <td>0.483871</td>\n      <td>0.258065</td>\n    </tr>\n    <tr>\n      <th>test_f1_macro</th>\n      <td>0.134459</td>\n      <td>0.244398</td>\n      <td>0.146667</td>\n      <td>0.201255</td>\n      <td>0.128024</td>\n      <td>0.107792</td>\n      <td>0.183590</td>\n      <td>0.242892</td>\n    </tr>\n    <tr>\n      <th>test_recall_macro</th>\n      <td>0.296923</td>\n      <td>0.347143</td>\n      <td>0.260000</td>\n      <td>0.303333</td>\n      <td>0.195000</td>\n      <td>0.258824</td>\n      <td>0.333333</td>\n      <td>0.279394</td>\n    </tr>\n    <tr>\n      <th>test_precision_macro</th>\n      <td>0.280952</td>\n      <td>0.328571</td>\n      <td>0.160000</td>\n      <td>0.222857</td>\n      <td>0.124848</td>\n      <td>0.110909</td>\n      <td>0.177778</td>\n      <td>0.234444</td>\n    </tr>\n  </tbody>\n</table>\n</div>"
     },
     "execution_count": 29,
     "metadata": {},
     "output_type": "execute_result"
    }
   ],
   "source": [
    "score_df = pd.DataFrame(calc_acc(X_vec, emotions, MultinomialNB(), df))\n",
    "score_df.head()"
   ],
   "metadata": {
    "collapsed": false,
    "pycharm": {
     "name": "#%%\n"
    }
   }
  },
  {
   "cell_type": "code",
   "execution_count": 30,
   "outputs": [
    {
     "data": {
      "text/plain": "           Lubienie  Wstręt  Złość  Strach  Zaskoczenie  Oczekiwanie  Radość  \\\naccuracy       0.23    0.26   0.23    0.26         0.16         0.19    0.48   \nf1             0.13    0.24   0.15    0.20         0.13         0.11    0.18   \nrecall         0.30    0.35   0.26    0.30         0.20         0.26    0.33   \nprecision      0.28    0.33   0.16    0.22         0.12         0.11    0.18   \n\n           Smutek  \naccuracy     0.26  \nf1           0.24  \nrecall       0.28  \nprecision    0.23  ",
      "text/html": "<div>\n<style scoped>\n    .dataframe tbody tr th:only-of-type {\n        vertical-align: middle;\n    }\n\n    .dataframe tbody tr th {\n        vertical-align: top;\n    }\n\n    .dataframe thead th {\n        text-align: right;\n    }\n</style>\n<table border=\"1\" class=\"dataframe\">\n  <thead>\n    <tr style=\"text-align: right;\">\n      <th></th>\n      <th>Lubienie</th>\n      <th>Wstręt</th>\n      <th>Złość</th>\n      <th>Strach</th>\n      <th>Zaskoczenie</th>\n      <th>Oczekiwanie</th>\n      <th>Radość</th>\n      <th>Smutek</th>\n    </tr>\n  </thead>\n  <tbody>\n    <tr>\n      <th>accuracy</th>\n      <td>0.23</td>\n      <td>0.26</td>\n      <td>0.23</td>\n      <td>0.26</td>\n      <td>0.16</td>\n      <td>0.19</td>\n      <td>0.48</td>\n      <td>0.26</td>\n    </tr>\n    <tr>\n      <th>f1</th>\n      <td>0.13</td>\n      <td>0.24</td>\n      <td>0.15</td>\n      <td>0.20</td>\n      <td>0.13</td>\n      <td>0.11</td>\n      <td>0.18</td>\n      <td>0.24</td>\n    </tr>\n    <tr>\n      <th>recall</th>\n      <td>0.30</td>\n      <td>0.35</td>\n      <td>0.26</td>\n      <td>0.30</td>\n      <td>0.20</td>\n      <td>0.26</td>\n      <td>0.33</td>\n      <td>0.28</td>\n    </tr>\n    <tr>\n      <th>precision</th>\n      <td>0.28</td>\n      <td>0.33</td>\n      <td>0.16</td>\n      <td>0.22</td>\n      <td>0.12</td>\n      <td>0.11</td>\n      <td>0.18</td>\n      <td>0.23</td>\n    </tr>\n  </tbody>\n</table>\n</div>"
     },
     "execution_count": 30,
     "metadata": {},
     "output_type": "execute_result"
    }
   ],
   "source": [
    "\n",
    "score_df.rename(index={'test_accuracy': 'accuracy', 'test_f1_macro' : 'f1', 'test_recall_macro' : 'recall', 'test_precision_macro' : 'precision'}, inplace=True)\n",
    "score_df = score_df.round(decimals=2)\n",
    "score_df.head()"
   ],
   "metadata": {
    "collapsed": false,
    "pycharm": {
     "name": "#%%\n"
    }
   }
  },
  {
   "cell_type": "code",
   "execution_count": 30,
   "outputs": [],
   "source": [],
   "metadata": {
    "collapsed": false,
    "pycharm": {
     "name": "#%%\n"
    }
   }
  },
  {
   "cell_type": "code",
   "execution_count": 31,
   "outputs": [],
   "source": [
    "score_df.to_pickle(r'data\\MNB_noSW_ord_score.pkl')"
   ],
   "metadata": {
    "collapsed": false,
    "pycharm": {
     "name": "#%%\n"
    }
   }
  }
 ],
 "metadata": {
  "kernelspec": {
   "name": "pycharm-e6d2a138",
   "language": "python",
   "display_name": "PyCharm (CommandFiles)"
  },
  "language_info": {
   "codemirror_mode": {
    "name": "ipython",
    "version": 2
   },
   "file_extension": ".py",
   "mimetype": "text/x-python",
   "name": "python",
   "nbconvert_exporter": "python",
   "pygments_lexer": "ipython2",
   "version": "2.7.6"
  }
 },
 "nbformat": 4,
 "nbformat_minor": 0
}