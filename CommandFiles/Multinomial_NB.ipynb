{
 "cells": [
  {
   "cell_type": "code",
   "execution_count": 2,
   "metadata": {
    "collapsed": true
   },
   "outputs": [
    {
     "data": {
      "text/plain": "                                               OriginalText  \\\nAF1.txt   Wczoraj rano przytrafiło mi się coś miłego. Pr...   \nAF10.txt  Pan Dussel, człowiek, o którym zawsze mówiono,...   \nAF11.txt  Jakbym w ciągu dnia nie słyszała wystarczająco...   \nAF12.txt  Pienię się z wściekłości, a nie wolno mi tego ...   \nAF13.txt  Wszyscy uważają, że jestem przesadna, gdy mówi...   \n\n                                                CleanedText  \\\nAF1.txt   wczoraj rano przytrafiło mi się coś miłego prz...   \nAF10.txt  pan dussel człowiek o którym zawsze mówiono że...   \nAF11.txt  jakbym w ciągu dnia nie słyszała wystarczająco...   \nAF12.txt  pienię się z wściekłości a nie wolno mi tego o...   \nAF13.txt  wszyscy uważają że jestem przesadna gdy mówię ...   \n\n                                                   WordList  Sentyment  \\\nAF1.txt   [wczoraj, rano, przytrafiło, mi, się, coś, mił...        5.0   \nAF10.txt  [pan, dussel, człowiek, o, którym, zawsze, mów...        1.0   \nAF11.txt  [jakbym, w, ciągu, dnia, nie, słyszała, wystar...        1.0   \nAF12.txt  [pienię, się, z, wściekłości, a, nie, wolno, m...        1.0   \nAF13.txt  [wszyscy, uważają, że, jestem, przesadna, gdy,...        1.0   \n\n          Lubienie  Wstręt  Złość  Strach  Zaskoczenie  Oczekiwanie  Radość  \\\nAF1.txt        2.0     0.0    0.0     0.0          3.0          0.0     2.0   \nAF10.txt       0.0     1.0    4.0     0.0          0.0          1.0     0.0   \nAF11.txt       0.0     1.0    3.0     1.0          0.0          1.0     0.0   \nAF12.txt       0.0     2.0    4.0     0.0          0.0          0.0     0.0   \nAF13.txt       0.0     2.0    4.0     0.0          0.0          0.0     0.0   \n\n          Smutek  \nAF1.txt      0.0  \nAF10.txt     2.0  \nAF11.txt     2.0  \nAF12.txt     0.0  \nAF13.txt     3.0  ",
      "text/html": "<div>\n<style scoped>\n    .dataframe tbody tr th:only-of-type {\n        vertical-align: middle;\n    }\n\n    .dataframe tbody tr th {\n        vertical-align: top;\n    }\n\n    .dataframe thead th {\n        text-align: right;\n    }\n</style>\n<table border=\"1\" class=\"dataframe\">\n  <thead>\n    <tr style=\"text-align: right;\">\n      <th></th>\n      <th>OriginalText</th>\n      <th>CleanedText</th>\n      <th>WordList</th>\n      <th>Sentyment</th>\n      <th>Lubienie</th>\n      <th>Wstręt</th>\n      <th>Złość</th>\n      <th>Strach</th>\n      <th>Zaskoczenie</th>\n      <th>Oczekiwanie</th>\n      <th>Radość</th>\n      <th>Smutek</th>\n    </tr>\n  </thead>\n  <tbody>\n    <tr>\n      <th>AF1.txt</th>\n      <td>Wczoraj rano przytrafiło mi się coś miłego. Pr...</td>\n      <td>wczoraj rano przytrafiło mi się coś miłego prz...</td>\n      <td>[wczoraj, rano, przytrafiło, mi, się, coś, mił...</td>\n      <td>5.0</td>\n      <td>2.0</td>\n      <td>0.0</td>\n      <td>0.0</td>\n      <td>0.0</td>\n      <td>3.0</td>\n      <td>0.0</td>\n      <td>2.0</td>\n      <td>0.0</td>\n    </tr>\n    <tr>\n      <th>AF10.txt</th>\n      <td>Pan Dussel, człowiek, o którym zawsze mówiono,...</td>\n      <td>pan dussel człowiek o którym zawsze mówiono że...</td>\n      <td>[pan, dussel, człowiek, o, którym, zawsze, mów...</td>\n      <td>1.0</td>\n      <td>0.0</td>\n      <td>1.0</td>\n      <td>4.0</td>\n      <td>0.0</td>\n      <td>0.0</td>\n      <td>1.0</td>\n      <td>0.0</td>\n      <td>2.0</td>\n    </tr>\n    <tr>\n      <th>AF11.txt</th>\n      <td>Jakbym w ciągu dnia nie słyszała wystarczająco...</td>\n      <td>jakbym w ciągu dnia nie słyszała wystarczająco...</td>\n      <td>[jakbym, w, ciągu, dnia, nie, słyszała, wystar...</td>\n      <td>1.0</td>\n      <td>0.0</td>\n      <td>1.0</td>\n      <td>3.0</td>\n      <td>1.0</td>\n      <td>0.0</td>\n      <td>1.0</td>\n      <td>0.0</td>\n      <td>2.0</td>\n    </tr>\n    <tr>\n      <th>AF12.txt</th>\n      <td>Pienię się z wściekłości, a nie wolno mi tego ...</td>\n      <td>pienię się z wściekłości a nie wolno mi tego o...</td>\n      <td>[pienię, się, z, wściekłości, a, nie, wolno, m...</td>\n      <td>1.0</td>\n      <td>0.0</td>\n      <td>2.0</td>\n      <td>4.0</td>\n      <td>0.0</td>\n      <td>0.0</td>\n      <td>0.0</td>\n      <td>0.0</td>\n      <td>0.0</td>\n    </tr>\n    <tr>\n      <th>AF13.txt</th>\n      <td>Wszyscy uważają, że jestem przesadna, gdy mówi...</td>\n      <td>wszyscy uważają że jestem przesadna gdy mówię ...</td>\n      <td>[wszyscy, uważają, że, jestem, przesadna, gdy,...</td>\n      <td>1.0</td>\n      <td>0.0</td>\n      <td>2.0</td>\n      <td>4.0</td>\n      <td>0.0</td>\n      <td>0.0</td>\n      <td>0.0</td>\n      <td>0.0</td>\n      <td>3.0</td>\n    </tr>\n  </tbody>\n</table>\n</div>"
     },
     "execution_count": 2,
     "metadata": {},
     "output_type": "execute_result"
    }
   ],
   "source": [
    "import math\n",
    "\n",
    "import pandas as pd\n",
    "\n",
    "df = pd.read_pickle(r'data\\data_df.pkl')\n",
    "df.head()"
   ]
  },
  {
   "cell_type": "code",
   "execution_count": 2,
   "outputs": [],
   "source": [],
   "metadata": {
    "collapsed": false,
    "pycharm": {
     "name": "#%%\n"
    }
   }
  },
  {
   "cell_type": "code",
   "execution_count": 2,
   "outputs": [],
   "source": [],
   "metadata": {
    "collapsed": false,
    "pycharm": {
     "name": "#%%\n"
    }
   }
  },
  {
   "cell_type": "code",
   "execution_count": 2,
   "outputs": [],
   "source": [],
   "metadata": {
    "collapsed": false,
    "pycharm": {
     "name": "#%%\n"
    }
   }
  },
  {
   "cell_type": "code",
   "execution_count": 2,
   "outputs": [],
   "source": [],
   "metadata": {
    "collapsed": false,
    "pycharm": {
     "name": "#%%\n"
    }
   }
  },
  {
   "cell_type": "code",
   "execution_count": 2,
   "outputs": [],
   "source": [],
   "metadata": {
    "collapsed": false,
    "pycharm": {
     "name": "#%%\n"
    }
   }
  },
  {
   "cell_type": "code",
   "execution_count": 12,
   "outputs": [
    {
     "name": "stdout",
     "output_type": "stream",
     "text": [
      "0.0\n",
      "1.0\n",
      "2.0\n",
      "3.0\n",
      "4.0\n"
     ]
    }
   ],
   "source": [
    "from sklearn.base import clone\n",
    "import numpy as np\n",
    "class OrdinalClassifier:\n",
    "\n",
    "    def __init__(self, clf):\n",
    "        self.clf = clf\n",
    "        self.clfs = {}\n",
    "\n",
    "    def fit(self, X, y):\n",
    "        self.unique_class = np.sort(np.unique(y))\n",
    "        if self.unique_class.shape[0] > 2:\n",
    "            for i in range(self.unique_class.shape[0] - 1):\n",
    "                # for each k - 1 ordinal value we fit a binary classification problem\n",
    "                binary_y = (y > self.unique_class[i]).astype(np.uint8)\n",
    "                clf = clone(self.clf)\n",
    "                clf.fit(X, binary_y)\n",
    "                self.clfs[i] = clf\n",
    "\n",
    "    def predict_proba(self, X):\n",
    "        clfs_predict = {k: self.clfs[k].predict_proba(X) for k in self.clfs}\n",
    "        predicted = []\n",
    "        for i, y in enumerate(self.unique_class):\n",
    "            print(y)\n",
    "\n",
    "            if i == 0:\n",
    "                # V1 = 1 - Pr(y > V1)\n",
    "                predicted.append(1 - clfs_predict[y][:, 1])\n",
    "            elif y in clfs_predict:\n",
    "                # Vi = Pr(y > Vi-1) - Pr(y > Vi)\n",
    "                predicted.append(clfs_predict[y - 1][:, 1] - clfs_predict[y][:, 1])\n",
    "            else:\n",
    "                # Vk = Pr(y > Vk-1)\n",
    "                if y - 1 in clfs_predict.keys():\n",
    "                    predicted.append(clfs_predict[y - 1][:, 1])\n",
    "                else:\n",
    "                    raise ValueError\n",
    "        return np.vstack(predicted).T\n",
    "\n",
    "\n",
    "    def predict(self, X):\n",
    "        return np.argmax(self.predict_proba(X), axis=1)\n",
    "\n",
    "\n",
    "\n",
    "from sklearn.naive_bayes import MultinomialNB\n",
    "from sklearn.feature_extraction.text import CountVectorizer,TfidfVectorizer\n",
    "from sklearn.model_selection import train_test_split\n",
    "X = df['CleanedText']\n",
    "\n",
    "ylabels = df['Sentyment']\n",
    "ylabels = ylabels.apply(lambda x: x-1)# the labels, or answers, we want to test against\n",
    "vector = CountVectorizer()\n",
    "X_vec = vector.fit_transform(X).toarray()\n",
    "X_train, X_test, y_train, y_test = train_test_split(X_vec, ylabels, test_size=0.3)\n",
    "\n",
    "model = MultinomialNB()\n",
    "clf = OrdinalClassifier(model)\n",
    "clf.fit(X_train, y_train)\n",
    "y_pred = clf.predict(X_test)\n",
    "\n"
   ],
   "metadata": {
    "collapsed": false,
    "pycharm": {
     "name": "#%%\n"
    }
   }
  },
  {
   "cell_type": "code",
   "execution_count": 7,
   "outputs": [
    {
     "name": "stdout",
     "output_type": "stream",
     "text": [
      "[0 0 0 0 0 0 0 0 0 0 0 0 0 0 0 0 0 0 0 0 0 0 0 0 0 0 0 0 0 0 2]\n",
      "[ 0.  0.  0.  2.  0.  2.  0.  0.  0.  0.  2.  0.  2.  0.  4.  0.  3.  0.\n",
      "  0.  2.  2.  0.  0.  0.  1.  0.  0.  1.  0.  0. -1.]\n"
     ]
    }
   ],
   "source": [
    "print(y_pred)\n",
    "print(y_test.values - y_pred)"
   ],
   "metadata": {
    "collapsed": false,
    "pycharm": {
     "name": "#%%\n"
    }
   }
  },
  {
   "cell_type": "code",
   "execution_count": 4,
   "outputs": [],
   "source": [],
   "metadata": {
    "collapsed": false,
    "pycharm": {
     "name": "#%%\n"
    }
   }
  }
 ],
 "metadata": {
  "kernelspec": {
   "name": "pycharm-e6d2a138",
   "language": "python",
   "display_name": "PyCharm (CommandFiles)"
  },
  "language_info": {
   "codemirror_mode": {
    "name": "ipython",
    "version": 2
   },
   "file_extension": ".py",
   "mimetype": "text/x-python",
   "name": "python",
   "nbconvert_exporter": "python",
   "pygments_lexer": "ipython2",
   "version": "2.7.6"
  }
 },
 "nbformat": 4,
 "nbformat_minor": 0
}