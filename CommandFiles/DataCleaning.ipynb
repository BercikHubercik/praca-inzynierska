{
 "cells": [
  {
   "cell_type": "code",
   "execution_count": 36,
   "outputs": [
    {
     "name": "stdout",
     "output_type": "stream",
     "text": [
      "Kilka dni później, kiedy już zadomowiliśmy się w nowym pokoju, tata wyrywa mnie ze snu. – Wstawaj, Francis. Ubieraj się i biegnij po ciocię Aggie. Mama jej potrzebuje. Pospiesz się! Mama stęka w łóżku, ma twarz zupełnie białą. Tata wyciągnął z łóżka Malachy’ego i bliźniaki i posadził na podłodze przy wygasłym ogniu. Biegnę przez ulicę i pukam do drzwi cioci Aggie, dopóki nie zjawia się jęczący i kaszlący wuj Pa Keating. – O co chodzi? – Mama stęka w łóżku. Chyba jest chora. Teraz schodzi ciocia Aggie i narzeka. – Odkąd przyjechaliście z tej Ameryki, tylko z wami kłopoty. – Aggie, daj mu spokój, to tylko dzieciak. Robi to, co mu kazali. Ciocia chce, żeby wujek wrócił do łóżka, bo przecież rano musi iść do pracy, nie tak jak ci z Północy, których nazwisk nie będzie wymieniać. – Nie, idę z tobą, coś się stało Angeli. Tata każe mi usiąść obok braci. Nie wiem, co się stało mamie, bo wszyscy szepczą tak, że ledwo słyszę, jak ciocia Aggie mówi do wuja Pa, że dziecko stracone, biegnij po karetkę. Wujek Pa wybiega za drzwi. Ciocia teraz zwraca się do mamy: – Mów sobie, co chcesz o Limerick, ale karetka przyjeżdża szybko. – Nie odzywa się do ojca, nawet na niego nie patrzy. – Tato, czy mama jest chora? – pyta Malachy. – Wszystko będzie dobrze, synu. Musi ją zobaczyć doktor. Zastanawiam się, jakie dziecko stracone, bo przecież wszyscy tu jesteśmy, raz, dwa, trzy, wszyscy czterej, żadne dziecko nie przepadło. Dlaczego nikt mi nie powie, co się stało mamie? Wraca wujek Pa, a tuż za nim zjawia się karetka. Wchodzi człowiek z noszami, wynoszą mamę, a na podłodze przy łóżku zostają ślady krwi. Kiedy Malachy przygryzł sobie język, też była krew i była także koło psa na ulicy, i umarł. Chcę zapytać taty, czy mama odejdzie na zawsze, tak jak moja siostra Margaret, ale tata jedzie z mamą, a nie ma sensu o cokolwiek pytać cioci Aggie, bo boję się, że mnie skrzyczy. Ciocia wyciera plamy na podłodze, każe nam wracać do łóżka i czekać, aż wróci tata. Jest środek nocy, leżymy we czterech w łóżku, mamy ciepło, więc zasypiamy. Budzi nas tata, by nam powiedzieć, że mamie jest dobrze i wygodnie w szpitalu i że bardzo szybko wróci do domu. \n"
     ]
    }
   ],
   "source": [
    "import os\n",
    "directory = os.path.abspath('..\\OriginalData\\Teksty')\n",
    "\n",
    "filenames = os.listdir(directory)\n",
    "data = {}\n",
    "for filename in filenames:\n",
    "    file_path = os.path.join(directory, filename)\n",
    "    with open(file_path, 'r', encoding=\"utf8\") as file:\n",
    "        data[filename] = file.read().replace('\\n', ' ')\n",
    "\n",
    "print(data['PA1.txt'])"
   ],
   "metadata": {
    "collapsed": false,
    "pycharm": {
     "name": "#%%\n"
    }
   }
  },
  {
   "cell_type": "code",
   "execution_count": 37,
   "outputs": [
    {
     "data": {
      "text/plain": "                                               OriginalText\nAF1.txt   Wczoraj rano przytrafiło mi się coś miłego. Pr...\nAF10.txt  Pan Dussel, człowiek, o którym zawsze mówiono,...\nAF11.txt  Jakbym w ciągu dnia nie słyszała wystarczająco...\nAF12.txt  Pienię się z wściekłości, a nie wolno mi tego ...\nAF13.txt  Wszyscy uważają, że jestem przesadna, gdy mówi...",
      "text/html": "<div>\n<style scoped>\n    .dataframe tbody tr th:only-of-type {\n        vertical-align: middle;\n    }\n\n    .dataframe tbody tr th {\n        vertical-align: top;\n    }\n\n    .dataframe thead th {\n        text-align: right;\n    }\n</style>\n<table border=\"1\" class=\"dataframe\">\n  <thead>\n    <tr style=\"text-align: right;\">\n      <th></th>\n      <th>OriginalText</th>\n    </tr>\n  </thead>\n  <tbody>\n    <tr>\n      <th>AF1.txt</th>\n      <td>Wczoraj rano przytrafiło mi się coś miłego. Pr...</td>\n    </tr>\n    <tr>\n      <th>AF10.txt</th>\n      <td>Pan Dussel, człowiek, o którym zawsze mówiono,...</td>\n    </tr>\n    <tr>\n      <th>AF11.txt</th>\n      <td>Jakbym w ciągu dnia nie słyszała wystarczająco...</td>\n    </tr>\n    <tr>\n      <th>AF12.txt</th>\n      <td>Pienię się z wściekłości, a nie wolno mi tego ...</td>\n    </tr>\n    <tr>\n      <th>AF13.txt</th>\n      <td>Wszyscy uważają, że jestem przesadna, gdy mówi...</td>\n    </tr>\n  </tbody>\n</table>\n</div>"
     },
     "execution_count": 37,
     "metadata": {},
     "output_type": "execute_result"
    }
   ],
   "source": [
    "import pandas as pd\n",
    "text_df = pd.DataFrame.from_dict(data, orient='index')\n",
    "text_df = text_df.rename(columns={0 : \"OriginalText\"})\n",
    "text_df.columns.values\n",
    "text_df.head()"
   ],
   "metadata": {
    "collapsed": false,
    "pycharm": {
     "name": "#%%\n"
    }
   }
  },
  {
   "cell_type": "code",
   "execution_count": 77,
   "outputs": [],
   "source": [
    "import re\n",
    "import string\n",
    "\n",
    "def clean_text(text : str):\n",
    "    '''Make text lowercase, remove punctuation,and non-sensical text '''\n",
    "    text = text.lower()\n",
    "    text = re.sub('[%s]' % re.escape(string.punctuation), '', text)\n",
    "    text = re.sub('[‘’“”…]', '', text)\n",
    "    text = text.replace(' –', '')\n",
    "    text = re.sub('\\n', ' ', text)\n",
    "    return text"
   ],
   "metadata": {
    "collapsed": false,
    "pycharm": {
     "name": "#%%\n"
    }
   }
  },
  {
   "cell_type": "code",
   "execution_count": 81,
   "outputs": [
    {
     "name": "stdout",
     "output_type": "stream",
     "text": [
      "wczoraj rano przytrafiło mi się coś miłego przechodziłam obok przechowalni rowerów gdy ktoś mnie zawołał obejrzałam się i zobaczyłam za sobą przystojnego chłopaka którego spotkałam poprzedniego wieczora u wilmy jest jej dalekim kuzynem a wilma jest koleżanką z początku sądziłam że jest bardzo miła i faktycznie jest ale przez cały dzień nie mówi o niczym innym tylko o chłopakach a to staje się męczące chłopak trochę zmieszany podszedł nieco bliżej i przedstawił się jako hello silberberg byłam trochę zaskoczona i nie wiedziałam za bardzo czego chce ale to się szybko wyjaśniło chciał skorzystać z mojego towarzystwa i odprowadzić mnie do szkoły jeżeli i tak idziesz w tym samym kierunku to pójdę z tobą odpowiedziałam i poszliśmy razem hello ma już szesnaście lat i potrafi w ciekawy sposób opowiadać o przeróżnych rzeczach dziś rano znowu na mnie czekał i od tej pory tak już zostanie \n"
     ]
    },
    {
     "data": {
      "text/plain": "                                               OriginalText  \\\nAF1.txt   Wczoraj rano przytrafiło mi się coś miłego. Pr...   \nAF10.txt  Pan Dussel, człowiek, o którym zawsze mówiono,...   \nAF11.txt  Jakbym w ciągu dnia nie słyszała wystarczająco...   \nAF12.txt  Pienię się z wściekłości, a nie wolno mi tego ...   \nAF13.txt  Wszyscy uważają, że jestem przesadna, gdy mówi...   \n\n                                                CleanedText  \nAF1.txt   wczoraj rano przytrafiło mi się coś miłego prz...  \nAF10.txt  pan dussel człowiek o którym zawsze mówiono że...  \nAF11.txt  jakbym w ciągu dnia nie słyszała wystarczająco...  \nAF12.txt  pienię się z wściekłości a nie wolno mi tego o...  \nAF13.txt  wszyscy uważają że jestem przesadna gdy mówię ...  ",
      "text/html": "<div>\n<style scoped>\n    .dataframe tbody tr th:only-of-type {\n        vertical-align: middle;\n    }\n\n    .dataframe tbody tr th {\n        vertical-align: top;\n    }\n\n    .dataframe thead th {\n        text-align: right;\n    }\n</style>\n<table border=\"1\" class=\"dataframe\">\n  <thead>\n    <tr style=\"text-align: right;\">\n      <th></th>\n      <th>OriginalText</th>\n      <th>CleanedText</th>\n    </tr>\n  </thead>\n  <tbody>\n    <tr>\n      <th>AF1.txt</th>\n      <td>Wczoraj rano przytrafiło mi się coś miłego. Pr...</td>\n      <td>wczoraj rano przytrafiło mi się coś miłego prz...</td>\n    </tr>\n    <tr>\n      <th>AF10.txt</th>\n      <td>Pan Dussel, człowiek, o którym zawsze mówiono,...</td>\n      <td>pan dussel człowiek o którym zawsze mówiono że...</td>\n    </tr>\n    <tr>\n      <th>AF11.txt</th>\n      <td>Jakbym w ciągu dnia nie słyszała wystarczająco...</td>\n      <td>jakbym w ciągu dnia nie słyszała wystarczająco...</td>\n    </tr>\n    <tr>\n      <th>AF12.txt</th>\n      <td>Pienię się z wściekłości, a nie wolno mi tego ...</td>\n      <td>pienię się z wściekłości a nie wolno mi tego o...</td>\n    </tr>\n    <tr>\n      <th>AF13.txt</th>\n      <td>Wszyscy uważają, że jestem przesadna, gdy mówi...</td>\n      <td>wszyscy uważają że jestem przesadna gdy mówię ...</td>\n    </tr>\n  </tbody>\n</table>\n</div>"
     },
     "execution_count": 81,
     "metadata": {},
     "output_type": "execute_result"
    }
   ],
   "source": [
    "tab  = []\n",
    "for text in text_df['OriginalText']:\n",
    "    tab.append(clean_text(text))\n",
    "print(tab[0])\n",
    "text_df['CleanedText'] = tab\n",
    "text_df.head()\n",
    "\n",
    "\n"
   ],
   "metadata": {
    "collapsed": false,
    "pycharm": {
     "name": "#%%\n"
    }
   }
  },
  {
   "cell_type": "code",
   "execution_count": 87,
   "outputs": [
    {
     "name": "stdout",
     "output_type": "stream",
     "text": [
      "['wczoraj', 'rano', 'przytrafiło', 'mi', 'się', 'coś', 'miłego', 'przechodziłam', 'obok', 'przechowalni', 'rowerów', 'gdy', 'ktoś', 'mnie', 'zawołał', 'obejrzałam', 'się', 'i', 'zobaczyłam', 'za', 'sobą', 'przystojnego', 'chłopaka', 'którego', 'spotkałam', 'poprzedniego', 'wieczora', 'u', 'wilmy', 'jest', 'jej', 'dalekim', 'kuzynem', 'a', 'wilma', 'jest', 'koleżanką', 'z', 'początku', 'sądziłam', 'że', 'jest', 'bardzo', 'miła', 'i', 'faktycznie', 'jest', 'ale', 'przez', 'cały', 'dzień', 'nie', 'mówi', 'o', 'niczym', 'innym', 'tylko', 'o', 'chłopakach', 'a', 'to', 'staje', 'się', 'męczące', 'chłopak', 'trochę', 'zmieszany', 'podszedł', 'nieco', 'bliżej', 'i', 'przedstawił', 'się', 'jako', 'hello', 'silberberg', 'byłam', 'trochę', 'zaskoczona', 'i', 'nie', 'wiedziałam', 'za', 'bardzo', 'czego', 'chce', 'ale', 'to', 'się', 'szybko', 'wyjaśniło', 'chciał', 'skorzystać', 'z', 'mojego', 'towarzystwa', 'i', 'odprowadzić', 'mnie', 'do', 'szkoły', 'jeżeli', 'i', 'tak', 'idziesz', 'w', 'tym', 'samym', 'kierunku', 'to', 'pójdę', 'z', 'tobą', 'odpowiedziałam', 'i', 'poszliśmy', 'razem', 'hello', 'ma', 'już', 'szesnaście', 'lat', 'i', 'potrafi', 'w', 'ciekawy', 'sposób', 'opowiadać', 'o', 'przeróżnych', 'rzeczach', 'dziś', 'rano', 'znowu', 'na', 'mnie', 'czekał', 'i', 'od', 'tej', 'pory', 'tak', 'już', 'zostanie']\n"
     ]
    },
    {
     "data": {
      "text/plain": "                                               OriginalText  \\\nAF1.txt   Wczoraj rano przytrafiło mi się coś miłego. Pr...   \nAF10.txt  Pan Dussel, człowiek, o którym zawsze mówiono,...   \nAF11.txt  Jakbym w ciągu dnia nie słyszała wystarczająco...   \nAF12.txt  Pienię się z wściekłości, a nie wolno mi tego ...   \nAF13.txt  Wszyscy uważają, że jestem przesadna, gdy mówi...   \n\n                                                CleanedText  \\\nAF1.txt   wczoraj rano przytrafiło mi się coś miłego prz...   \nAF10.txt  pan dussel człowiek o którym zawsze mówiono że...   \nAF11.txt  jakbym w ciągu dnia nie słyszała wystarczająco...   \nAF12.txt  pienię się z wściekłości a nie wolno mi tego o...   \nAF13.txt  wszyscy uważają że jestem przesadna gdy mówię ...   \n\n                                                   WordList  \nAF1.txt   [wczoraj, rano, przytrafiło, mi, się, coś, mił...  \nAF10.txt  [pan, dussel, człowiek, o, którym, zawsze, mów...  \nAF11.txt  [jakbym, w, ciągu, dnia, nie, słyszała, wystar...  \nAF12.txt  [pienię, się, z, wściekłości, a, nie, wolno, m...  \nAF13.txt  [wszyscy, uważają, że, jestem, przesadna, gdy,...  ",
      "text/html": "<div>\n<style scoped>\n    .dataframe tbody tr th:only-of-type {\n        vertical-align: middle;\n    }\n\n    .dataframe tbody tr th {\n        vertical-align: top;\n    }\n\n    .dataframe thead th {\n        text-align: right;\n    }\n</style>\n<table border=\"1\" class=\"dataframe\">\n  <thead>\n    <tr style=\"text-align: right;\">\n      <th></th>\n      <th>OriginalText</th>\n      <th>CleanedText</th>\n      <th>WordList</th>\n    </tr>\n  </thead>\n  <tbody>\n    <tr>\n      <th>AF1.txt</th>\n      <td>Wczoraj rano przytrafiło mi się coś miłego. Pr...</td>\n      <td>wczoraj rano przytrafiło mi się coś miłego prz...</td>\n      <td>[wczoraj, rano, przytrafiło, mi, się, coś, mił...</td>\n    </tr>\n    <tr>\n      <th>AF10.txt</th>\n      <td>Pan Dussel, człowiek, o którym zawsze mówiono,...</td>\n      <td>pan dussel człowiek o którym zawsze mówiono że...</td>\n      <td>[pan, dussel, człowiek, o, którym, zawsze, mów...</td>\n    </tr>\n    <tr>\n      <th>AF11.txt</th>\n      <td>Jakbym w ciągu dnia nie słyszała wystarczająco...</td>\n      <td>jakbym w ciągu dnia nie słyszała wystarczająco...</td>\n      <td>[jakbym, w, ciągu, dnia, nie, słyszała, wystar...</td>\n    </tr>\n    <tr>\n      <th>AF12.txt</th>\n      <td>Pienię się z wściekłości, a nie wolno mi tego ...</td>\n      <td>pienię się z wściekłości a nie wolno mi tego o...</td>\n      <td>[pienię, się, z, wściekłości, a, nie, wolno, m...</td>\n    </tr>\n    <tr>\n      <th>AF13.txt</th>\n      <td>Wszyscy uważają, że jestem przesadna, gdy mówi...</td>\n      <td>wszyscy uważają że jestem przesadna gdy mówię ...</td>\n      <td>[wszyscy, uważają, że, jestem, przesadna, gdy,...</td>\n    </tr>\n  </tbody>\n</table>\n</div>"
     },
     "execution_count": 87,
     "metadata": {},
     "output_type": "execute_result"
    }
   ],
   "source": [
    "tab = []\n",
    "for text in text_df['CleanedText']:\n",
    "    tab.append(text.split())\n",
    "print(tab[0])\n",
    "text_df['WordList'] = tab\n",
    "text_df.head()"
   ],
   "metadata": {
    "collapsed": false,
    "pycharm": {
     "name": "#%%\n"
    }
   }
  },
  {
   "cell_type": "code",
   "execution_count": 101,
   "outputs": [],
   "source": [
    "text_df.to_pickle(r'data\\text_df.pkl')"
   ],
   "metadata": {
    "collapsed": false,
    "pycharm": {
     "name": "#%%\n"
    }
   }
  },
  {
   "cell_type": "code",
   "execution_count": 2,
   "outputs": [
    {
     "data": {
      "text/plain": "                                               OriginalText  \\\nAF1.txt   Wczoraj rano przytrafiło mi się coś miłego. Pr...   \nAF10.txt  Pan Dussel, człowiek, o którym zawsze mówiono,...   \nAF11.txt  Jakbym w ciągu dnia nie słyszała wystarczająco...   \nAF12.txt  Pienię się z wściekłości, a nie wolno mi tego ...   \nAF13.txt  Wszyscy uważają, że jestem przesadna, gdy mówi...   \n\n                                                CleanedText  \\\nAF1.txt   wczoraj rano przytrafiło mi się coś miłego prz...   \nAF10.txt  pan dussel człowiek o którym zawsze mówiono że...   \nAF11.txt  jakbym w ciągu dnia nie słyszała wystarczająco...   \nAF12.txt  pienię się z wściekłości a nie wolno mi tego o...   \nAF13.txt  wszyscy uważają że jestem przesadna gdy mówię ...   \n\n                                                   WordList  \nAF1.txt   [wczoraj, rano, przytrafiło, mi, się, coś, mił...  \nAF10.txt  [pan, dussel, człowiek, o, którym, zawsze, mów...  \nAF11.txt  [jakbym, w, ciągu, dnia, nie, słyszała, wystar...  \nAF12.txt  [pienię, się, z, wściekłości, a, nie, wolno, m...  \nAF13.txt  [wszyscy, uważają, że, jestem, przesadna, gdy,...  ",
      "text/html": "<div>\n<style scoped>\n    .dataframe tbody tr th:only-of-type {\n        vertical-align: middle;\n    }\n\n    .dataframe tbody tr th {\n        vertical-align: top;\n    }\n\n    .dataframe thead th {\n        text-align: right;\n    }\n</style>\n<table border=\"1\" class=\"dataframe\">\n  <thead>\n    <tr style=\"text-align: right;\">\n      <th></th>\n      <th>OriginalText</th>\n      <th>CleanedText</th>\n      <th>WordList</th>\n    </tr>\n  </thead>\n  <tbody>\n    <tr>\n      <th>AF1.txt</th>\n      <td>Wczoraj rano przytrafiło mi się coś miłego. Pr...</td>\n      <td>wczoraj rano przytrafiło mi się coś miłego prz...</td>\n      <td>[wczoraj, rano, przytrafiło, mi, się, coś, mił...</td>\n    </tr>\n    <tr>\n      <th>AF10.txt</th>\n      <td>Pan Dussel, człowiek, o którym zawsze mówiono,...</td>\n      <td>pan dussel człowiek o którym zawsze mówiono że...</td>\n      <td>[pan, dussel, człowiek, o, którym, zawsze, mów...</td>\n    </tr>\n    <tr>\n      <th>AF11.txt</th>\n      <td>Jakbym w ciągu dnia nie słyszała wystarczająco...</td>\n      <td>jakbym w ciągu dnia nie słyszała wystarczająco...</td>\n      <td>[jakbym, w, ciągu, dnia, nie, słyszała, wystar...</td>\n    </tr>\n    <tr>\n      <th>AF12.txt</th>\n      <td>Pienię się z wściekłości, a nie wolno mi tego ...</td>\n      <td>pienię się z wściekłości a nie wolno mi tego o...</td>\n      <td>[pienię, się, z, wściekłości, a, nie, wolno, m...</td>\n    </tr>\n    <tr>\n      <th>AF13.txt</th>\n      <td>Wszyscy uważają, że jestem przesadna, gdy mówi...</td>\n      <td>wszyscy uważają że jestem przesadna gdy mówię ...</td>\n      <td>[wszyscy, uważają, że, jestem, przesadna, gdy,...</td>\n    </tr>\n  </tbody>\n</table>\n</div>"
     },
     "execution_count": 2,
     "metadata": {},
     "output_type": "execute_result"
    }
   ],
   "source": [
    "import pandas as pd\n",
    "text_df = pd.read_pickle(r'data\\text_df.pkl')\n",
    "text_df.head()\n"
   ],
   "metadata": {
    "collapsed": false,
    "pycharm": {
     "name": "#%%\n"
    }
   }
  },
  {
   "cell_type": "code",
   "execution_count": 3,
   "outputs": [],
   "source": [
    "import spacy\n",
    "nlp = spacy.load(\"pl_core_news_lg\")\n"
   ],
   "metadata": {
    "collapsed": false,
    "pycharm": {
     "name": "#%%\n"
    }
   }
  },
  {
   "cell_type": "code",
   "execution_count": 6,
   "outputs": [
    {
     "name": "stdout",
     "output_type": "stream",
     "text": [
      "Wczoraj : advmod ADV\n",
      "rano : advmod ADV\n",
      "przytrafiło : ROOT VERB\n",
      "mi : iobj PRON\n",
      "się : expl:pv PRON\n",
      "coś : nsubj PRON\n",
      "miłego : amod ADJ\n",
      ". : punct PUNCT\n",
      "Przechodziłam : ROOT VERB\n",
      "obok : case ADP\n",
      "przechowalni : obl NOUN\n",
      "rowerów : nmod:arg NOUN\n",
      ", : punct PUNCT\n",
      "gdy : advmod ADV\n",
      "ktoś : nsubj PRON\n",
      "mnie : obj PRON\n",
      "zawołał : advcl VERB\n",
      ". : punct PUNCT\n",
      "Obejrzałam : ROOT VERB\n",
      "się : expl:pv PRON\n",
      "i : cc CCONJ\n",
      "zobaczyłam : conj VERB\n",
      "za : case ADP\n",
      "sobą : obl PRON\n",
      "przystojnego : amod ADJ\n",
      "chłopaka : obj NOUN\n",
      ", : punct PUNCT\n",
      "którego : obj DET\n",
      "spotkałam : acl:relcl VERB\n",
      "poprzedniego : amod ADJ\n",
      "wieczora : obl NOUN\n",
      "u : case ADP\n",
      "Wilmy : obl PROPN\n",
      ". : punct PUNCT\n",
      "Jest : cop VERB\n",
      "jej : nmod PRON\n",
      "dalekim : amod ADJ\n",
      "kuzynem : ROOT NOUN\n",
      ", : punct PUNCT\n",
      "a : cc CCONJ\n",
      "Wilma : nsubj PROPN\n",
      "jest : cop AUX\n",
      "koleżanką : conj NOUN\n",
      ". : punct PUNCT\n",
      "Z : case ADP\n",
      "początku : obl NOUN\n",
      "sądziłam : ROOT VERB\n",
      ", : punct PUNCT\n",
      "że : mark SCONJ\n",
      "jest : cop AUX\n",
      "bardzo : advmod ADV\n",
      "miła : ccomp ADJ\n",
      ". : punct PUNCT\n",
      "I : cc CCONJ\n",
      "faktycznie : parataxis:insert ADV\n",
      "jest : ROOT VERB\n",
      ", : punct PUNCT\n",
      "ale : cc CCONJ\n",
      "przez : case ADP\n",
      "cały : amod ADJ\n",
      "dzień : obl NOUN\n",
      "nie : advmod:neg PART\n",
      "mówi : conj VERB\n",
      "o : case ADP\n",
      "niczym : obl:arg PRON\n",
      "innym : amod ADJ\n",
      ", : punct PUNCT\n",
      "tylko : cc:preconj CCONJ\n",
      "o : case ADP\n",
      "chłopakach : conj NOUN\n",
      ", : punct PUNCT\n",
      "a : cc CCONJ\n",
      "to : nsubj PRON\n",
      "staje : conj VERB\n",
      "się : expl:pv PRON\n",
      "męczące : xcomp:pred ADJ\n",
      ". : punct PUNCT\n",
      "Chłopak : nsubj NOUN\n",
      ", : punct PUNCT\n",
      "trochę : advmod ADV\n",
      "zmieszany : acl ADJ\n",
      ", : punct PUNCT\n",
      "podszedł : ROOT VERB\n",
      "nieco : advmod ADV\n",
      "bliżej : advmod ADV\n",
      "i : cc CCONJ\n",
      "przedstawił : conj VERB\n",
      "się : expl:pv PRON\n",
      "jako : mark SCONJ\n",
      "Hello : obl PROPN\n",
      "Silberberg : flat PROPN\n",
      ". : punct PUNCT\n",
      "Byłam : cop AUX\n",
      "trochę : advmod ADV\n",
      "zaskoczona : ROOT ADJ\n",
      "i : cc CCONJ\n",
      "nie : advmod:neg PART\n",
      "wiedziałam : conj VERB\n",
      "za : advmod:emph ADP\n",
      "bardzo : advmod ADV\n",
      ", : punct PUNCT\n",
      "czego : iobj PRON\n",
      "chce : acl:relcl VERB\n",
      ", : punct PUNCT\n",
      "ale : cc CCONJ\n",
      "to : nsubj PRON\n",
      "się : expl:pv PRON\n",
      "szybko : advmod ADV\n",
      "wyjaśniło : conj VERB\n",
      ". : punct PUNCT\n",
      "Chciał : ROOT VERB\n",
      "skorzystać : xcomp VERB\n",
      "z : case ADP\n",
      "mojego : det:poss DET\n",
      "towarzystwa : obl:arg NOUN\n",
      "i : cc CCONJ\n",
      "odprowadzić : conj VERB\n",
      "mnie : obj PRON\n",
      "do : case ADP\n",
      "szkoły : obl NOUN\n",
      ". : punct PUNCT\n",
      "– : punct PUNCT\n",
      "Jeżeli : mark SCONJ\n",
      "i : advmod:emph PART\n",
      "tak : advmod ADV\n",
      "idziesz : advcl VERB\n",
      "w : case ADP\n",
      "tym : det DET\n",
      "samym : fixed ADJ\n",
      "kierunku : obl NOUN\n",
      ", : punct PUNCT\n",
      "to : mark SCONJ\n",
      "pójdę : parataxis:obj VERB\n",
      "z : case ADP\n",
      "tobą : obl:arg PRON\n",
      "– : punct PUNCT\n",
      "odpowiedziałam : ROOT VERB\n",
      "i : cc CCONJ\n",
      "poszliśmy : conj VERB\n",
      "razem : advmod ADV\n",
      ". : punct PUNCT\n",
      "Hello : nsubj PROPN\n",
      "ma : ROOT VERB\n",
      "już : advmod:emph PART\n",
      "szesnaście : nummod:gov NUM\n",
      "lat : iobj NOUN\n",
      "i : cc CCONJ\n",
      "potrafi : conj VERB\n",
      "w : case ADP\n",
      "ciekawy : amod ADJ\n",
      "sposób : obl NOUN\n",
      "opowiadać : xcomp VERB\n",
      "o : case ADP\n",
      "przeróżnych : amod ADJ\n",
      "rzeczach : obl:arg NOUN\n",
      ". : punct PUNCT\n",
      "Dziś : advmod ADV\n",
      "rano : advmod ADV\n",
      "znowu : advmod:emph PART\n",
      "na : case ADP\n",
      "mnie : obl:arg PRON\n",
      "czekał : ROOT VERB\n",
      "i : cc CCONJ\n",
      "od : case ADP\n",
      "tej : det DET\n",
      "pory : obl NOUN\n",
      "tak : advmod ADV\n",
      "już : advmod:emph PART\n",
      "zostanie : conj VERB\n",
      ". : punct PUNCT\n"
     ]
    }
   ],
   "source": [
    "doc = nlp(text_df['OriginalText']['AF1.txt'])\n",
    "\n",
    "\n",
    "for token in doc:\n",
    "    print(token.text + ' : ' + token.dep_ + ' ' + token.pos_)\n"
   ],
   "metadata": {
    "collapsed": false,
    "pycharm": {
     "name": "#%%\n"
    }
   }
  },
  {
   "cell_type": "code",
   "execution_count": 17,
   "outputs": [
    {
     "data": {
      "text/plain": "        Sygnatura czasowa Z jaką płcią/płciami się identyfikujesz?  \\\n0 2021-11-21 19:24:26.883                                Mężczyzna   \n1 2021-11-21 19:40:56.647                                Mężczyzna   \n2 2021-11-23 01:33:17.952                                Mężczyzna   \n3 2021-11-23 01:37:49.811                                Mężczyzna   \n4 2021-11-26 23:31:05.708                                  Kobieta   \n\n  Jakiego kierunku studentem/absolwentem jesteś?  \\\n0                                    Psychologia   \n1                            Kierunek techniczny   \n2                                    Psychologia   \n3               Psychologia, Kierunek techniczny   \n4                                    Psychologia   \n\n   Jaki był ogólny nastrój narratora, podczas opisywanych przez niego wydarzeń?  \\\n0                                                1.0                              \n1                                                2.0                              \n2                                                2.0                              \n3                                                1.0                              \n4                                                2.0                              \n\n   Lubienie  Wstręt  Złość  Strach  Zaskoczenie  Oczekiwanie  Radość  Smutek  \\\n0       0.0     0.0    1.0     3.0          3.0          0.0     0.0     1.0   \n1       1.0     4.0    3.0     2.0          1.0          1.0     0.0     4.0   \n2       0.0     1.0    4.0     1.0          1.0          0.0     0.0     0.0   \n3       0.0     1.0    4.0     1.0          2.0          1.0     0.0     1.0   \n4       1.0     0.0    0.0     3.0          0.0          0.0     0.0     0.0   \n\n  Wpisz poniżej tytuł wyświetlonego tekstu np. PA1.txt [najlepiej skopiować i wkleić - kwestia techniczna]  \\\n0                                            PA1.txt                                                         \n1                                            PA7.txt                                                         \n2                                            PA8.txt                                                         \n3                                           PA28.txt                                                         \n4                                           PA30.txt                                                         \n\n  NazwaTekstu  \n0     PA1.txt  \n1     PA7.txt  \n2     PA8.txt  \n3    PA28.txt  \n4    PA30.txt  ",
      "text/html": "<div>\n<style scoped>\n    .dataframe tbody tr th:only-of-type {\n        vertical-align: middle;\n    }\n\n    .dataframe tbody tr th {\n        vertical-align: top;\n    }\n\n    .dataframe thead th {\n        text-align: right;\n    }\n</style>\n<table border=\"1\" class=\"dataframe\">\n  <thead>\n    <tr style=\"text-align: right;\">\n      <th></th>\n      <th>Sygnatura czasowa</th>\n      <th>Z jaką płcią/płciami się identyfikujesz?</th>\n      <th>Jakiego kierunku studentem/absolwentem jesteś?</th>\n      <th>Jaki był ogólny nastrój narratora, podczas opisywanych przez niego wydarzeń?</th>\n      <th>Lubienie</th>\n      <th>Wstręt</th>\n      <th>Złość</th>\n      <th>Strach</th>\n      <th>Zaskoczenie</th>\n      <th>Oczekiwanie</th>\n      <th>Radość</th>\n      <th>Smutek</th>\n      <th>Wpisz poniżej tytuł wyświetlonego tekstu np. PA1.txt [najlepiej skopiować i wkleić - kwestia techniczna]</th>\n      <th>NazwaTekstu</th>\n    </tr>\n  </thead>\n  <tbody>\n    <tr>\n      <th>0</th>\n      <td>2021-11-21 19:24:26.883</td>\n      <td>Mężczyzna</td>\n      <td>Psychologia</td>\n      <td>1.0</td>\n      <td>0.0</td>\n      <td>0.0</td>\n      <td>1.0</td>\n      <td>3.0</td>\n      <td>3.0</td>\n      <td>0.0</td>\n      <td>0.0</td>\n      <td>1.0</td>\n      <td>PA1.txt</td>\n      <td>PA1.txt</td>\n    </tr>\n    <tr>\n      <th>1</th>\n      <td>2021-11-21 19:40:56.647</td>\n      <td>Mężczyzna</td>\n      <td>Kierunek techniczny</td>\n      <td>2.0</td>\n      <td>1.0</td>\n      <td>4.0</td>\n      <td>3.0</td>\n      <td>2.0</td>\n      <td>1.0</td>\n      <td>1.0</td>\n      <td>0.0</td>\n      <td>4.0</td>\n      <td>PA7.txt</td>\n      <td>PA7.txt</td>\n    </tr>\n    <tr>\n      <th>2</th>\n      <td>2021-11-23 01:33:17.952</td>\n      <td>Mężczyzna</td>\n      <td>Psychologia</td>\n      <td>2.0</td>\n      <td>0.0</td>\n      <td>1.0</td>\n      <td>4.0</td>\n      <td>1.0</td>\n      <td>1.0</td>\n      <td>0.0</td>\n      <td>0.0</td>\n      <td>0.0</td>\n      <td>PA8.txt</td>\n      <td>PA8.txt</td>\n    </tr>\n    <tr>\n      <th>3</th>\n      <td>2021-11-23 01:37:49.811</td>\n      <td>Mężczyzna</td>\n      <td>Psychologia, Kierunek techniczny</td>\n      <td>1.0</td>\n      <td>0.0</td>\n      <td>1.0</td>\n      <td>4.0</td>\n      <td>1.0</td>\n      <td>2.0</td>\n      <td>1.0</td>\n      <td>0.0</td>\n      <td>1.0</td>\n      <td>PA28.txt</td>\n      <td>PA28.txt</td>\n    </tr>\n    <tr>\n      <th>4</th>\n      <td>2021-11-26 23:31:05.708</td>\n      <td>Kobieta</td>\n      <td>Psychologia</td>\n      <td>2.0</td>\n      <td>1.0</td>\n      <td>0.0</td>\n      <td>0.0</td>\n      <td>3.0</td>\n      <td>0.0</td>\n      <td>0.0</td>\n      <td>0.0</td>\n      <td>0.0</td>\n      <td>PA30.txt</td>\n      <td>PA30.txt</td>\n    </tr>\n  </tbody>\n</table>\n</div>"
     },
     "execution_count": 17,
     "metadata": {},
     "output_type": "execute_result"
    }
   ],
   "source": [
    "import pandas as pd\n",
    "import os\n",
    "file_path = os.path.abspath('..\\OriginalData\\ocena_tekstów.xlsx')\n",
    "df = pd.read_excel(file_path)\n",
    "df.head()"
   ],
   "metadata": {
    "collapsed": false,
    "pycharm": {
     "name": "#%%\n"
    }
   }
  },
  {
   "cell_type": "code",
   "execution_count": 18,
   "outputs": [
    {
     "data": {
      "text/plain": "   Jaki był ogólny nastrój narratora, podczas opisywanych przez niego wydarzeń?  \\\n0                                                1.0                              \n1                                                2.0                              \n2                                                2.0                              \n3                                                1.0                              \n4                                                2.0                              \n\n   Lubienie  Wstręt  Złość  Strach  Zaskoczenie  Oczekiwanie  Radość  Smutek  \\\n0       0.0     0.0    1.0     3.0          3.0          0.0     0.0     1.0   \n1       1.0     4.0    3.0     2.0          1.0          1.0     0.0     4.0   \n2       0.0     1.0    4.0     1.0          1.0          0.0     0.0     0.0   \n3       0.0     1.0    4.0     1.0          2.0          1.0     0.0     1.0   \n4       1.0     0.0    0.0     3.0          0.0          0.0     0.0     0.0   \n\n  Wpisz poniżej tytuł wyświetlonego tekstu np. PA1.txt [najlepiej skopiować i wkleić - kwestia techniczna]  \n0                                            PA1.txt                                                        \n1                                            PA7.txt                                                        \n2                                            PA8.txt                                                        \n3                                           PA28.txt                                                        \n4                                           PA30.txt                                                        ",
      "text/html": "<div>\n<style scoped>\n    .dataframe tbody tr th:only-of-type {\n        vertical-align: middle;\n    }\n\n    .dataframe tbody tr th {\n        vertical-align: top;\n    }\n\n    .dataframe thead th {\n        text-align: right;\n    }\n</style>\n<table border=\"1\" class=\"dataframe\">\n  <thead>\n    <tr style=\"text-align: right;\">\n      <th></th>\n      <th>Jaki był ogólny nastrój narratora, podczas opisywanych przez niego wydarzeń?</th>\n      <th>Lubienie</th>\n      <th>Wstręt</th>\n      <th>Złość</th>\n      <th>Strach</th>\n      <th>Zaskoczenie</th>\n      <th>Oczekiwanie</th>\n      <th>Radość</th>\n      <th>Smutek</th>\n      <th>Wpisz poniżej tytuł wyświetlonego tekstu np. PA1.txt [najlepiej skopiować i wkleić - kwestia techniczna]</th>\n    </tr>\n  </thead>\n  <tbody>\n    <tr>\n      <th>0</th>\n      <td>1.0</td>\n      <td>0.0</td>\n      <td>0.0</td>\n      <td>1.0</td>\n      <td>3.0</td>\n      <td>3.0</td>\n      <td>0.0</td>\n      <td>0.0</td>\n      <td>1.0</td>\n      <td>PA1.txt</td>\n    </tr>\n    <tr>\n      <th>1</th>\n      <td>2.0</td>\n      <td>1.0</td>\n      <td>4.0</td>\n      <td>3.0</td>\n      <td>2.0</td>\n      <td>1.0</td>\n      <td>1.0</td>\n      <td>0.0</td>\n      <td>4.0</td>\n      <td>PA7.txt</td>\n    </tr>\n    <tr>\n      <th>2</th>\n      <td>2.0</td>\n      <td>0.0</td>\n      <td>1.0</td>\n      <td>4.0</td>\n      <td>1.0</td>\n      <td>1.0</td>\n      <td>0.0</td>\n      <td>0.0</td>\n      <td>0.0</td>\n      <td>PA8.txt</td>\n    </tr>\n    <tr>\n      <th>3</th>\n      <td>1.0</td>\n      <td>0.0</td>\n      <td>1.0</td>\n      <td>4.0</td>\n      <td>1.0</td>\n      <td>2.0</td>\n      <td>1.0</td>\n      <td>0.0</td>\n      <td>1.0</td>\n      <td>PA28.txt</td>\n    </tr>\n    <tr>\n      <th>4</th>\n      <td>2.0</td>\n      <td>1.0</td>\n      <td>0.0</td>\n      <td>0.0</td>\n      <td>3.0</td>\n      <td>0.0</td>\n      <td>0.0</td>\n      <td>0.0</td>\n      <td>0.0</td>\n      <td>PA30.txt</td>\n    </tr>\n  </tbody>\n</table>\n</div>"
     },
     "execution_count": 18,
     "metadata": {},
     "output_type": "execute_result"
    }
   ],
   "source": [
    "df.drop(['Sygnatura czasowa', 'Z jaką płcią/płciami się identyfikujesz?', 'Jakiego kierunku studentem/absolwentem jesteś?','NazwaTekstu'], axis=1,inplace=True)\n",
    "df.head()"
   ],
   "metadata": {
    "collapsed": false,
    "pycharm": {
     "name": "#%%\n"
    }
   }
  },
  {
   "cell_type": "code",
   "execution_count": 19,
   "outputs": [
    {
     "data": {
      "text/plain": "   Sentyment  Lubienie  Wstręt  Złość  Strach  Zaskoczenie  Oczekiwanie  \\\n0        1.0       0.0     0.0    1.0     3.0          3.0          0.0   \n1        2.0       1.0     4.0    3.0     2.0          1.0          1.0   \n2        2.0       0.0     1.0    4.0     1.0          1.0          0.0   \n3        1.0       0.0     1.0    4.0     1.0          2.0          1.0   \n4        2.0       1.0     0.0    0.0     3.0          0.0          0.0   \n\n   Radość  Smutek TextTitle  \n0     0.0     1.0   PA1.txt  \n1     0.0     4.0   PA7.txt  \n2     0.0     0.0   PA8.txt  \n3     0.0     1.0  PA28.txt  \n4     0.0     0.0  PA30.txt  ",
      "text/html": "<div>\n<style scoped>\n    .dataframe tbody tr th:only-of-type {\n        vertical-align: middle;\n    }\n\n    .dataframe tbody tr th {\n        vertical-align: top;\n    }\n\n    .dataframe thead th {\n        text-align: right;\n    }\n</style>\n<table border=\"1\" class=\"dataframe\">\n  <thead>\n    <tr style=\"text-align: right;\">\n      <th></th>\n      <th>Sentyment</th>\n      <th>Lubienie</th>\n      <th>Wstręt</th>\n      <th>Złość</th>\n      <th>Strach</th>\n      <th>Zaskoczenie</th>\n      <th>Oczekiwanie</th>\n      <th>Radość</th>\n      <th>Smutek</th>\n      <th>TextTitle</th>\n    </tr>\n  </thead>\n  <tbody>\n    <tr>\n      <th>0</th>\n      <td>1.0</td>\n      <td>0.0</td>\n      <td>0.0</td>\n      <td>1.0</td>\n      <td>3.0</td>\n      <td>3.0</td>\n      <td>0.0</td>\n      <td>0.0</td>\n      <td>1.0</td>\n      <td>PA1.txt</td>\n    </tr>\n    <tr>\n      <th>1</th>\n      <td>2.0</td>\n      <td>1.0</td>\n      <td>4.0</td>\n      <td>3.0</td>\n      <td>2.0</td>\n      <td>1.0</td>\n      <td>1.0</td>\n      <td>0.0</td>\n      <td>4.0</td>\n      <td>PA7.txt</td>\n    </tr>\n    <tr>\n      <th>2</th>\n      <td>2.0</td>\n      <td>0.0</td>\n      <td>1.0</td>\n      <td>4.0</td>\n      <td>1.0</td>\n      <td>1.0</td>\n      <td>0.0</td>\n      <td>0.0</td>\n      <td>0.0</td>\n      <td>PA8.txt</td>\n    </tr>\n    <tr>\n      <th>3</th>\n      <td>1.0</td>\n      <td>0.0</td>\n      <td>1.0</td>\n      <td>4.0</td>\n      <td>1.0</td>\n      <td>2.0</td>\n      <td>1.0</td>\n      <td>0.0</td>\n      <td>1.0</td>\n      <td>PA28.txt</td>\n    </tr>\n    <tr>\n      <th>4</th>\n      <td>2.0</td>\n      <td>1.0</td>\n      <td>0.0</td>\n      <td>0.0</td>\n      <td>3.0</td>\n      <td>0.0</td>\n      <td>0.0</td>\n      <td>0.0</td>\n      <td>0.0</td>\n      <td>PA30.txt</td>\n    </tr>\n  </tbody>\n</table>\n</div>"
     },
     "execution_count": 19,
     "metadata": {},
     "output_type": "execute_result"
    }
   ],
   "source": [
    "df.rename(columns={'Jaki był ogólny nastrój narratora, podczas opisywanych przez niego wydarzeń?':'Sentyment', 'Wpisz poniżej tytuł wyświetlonego tekstu np. PA1.txt [najlepiej skopiować i wkleić - kwestia techniczna]':'TextTitle'},inplace=True)\n",
    "df.head()"
   ],
   "metadata": {
    "collapsed": false,
    "pycharm": {
     "name": "#%%\n"
    }
   }
  },
  {
   "cell_type": "code",
   "execution_count": 33,
   "outputs": [
    {
     "name": "stdout",
     "output_type": "stream",
     "text": [
      "count          112\n",
      "unique         101\n",
      "top       PO24.txt\n",
      "freq             3\n",
      "Name: TextTitle, dtype: object\n",
      "PO24.txt\n",
      "PA31.txt\n",
      "PO22.txt\n",
      "PA38.txt\n",
      "PO27.txt\n",
      "AF2.txt\n",
      "PO12.txt\n",
      "PA21.txt\n",
      "PA13.txt\n",
      "['PO24.txt', 'PA31.txt', 'PO22.txt', 'PA38.txt', 'PO27.txt', 'AF2.txt', 'PO12.txt', 'PA21.txt', 'PA13.txt']\n"
     ]
    }
   ],
   "source": [
    "print(df['TextTitle'].describe())\n",
    "tab = []\n",
    "ser = df['TextTitle'].value_counts()\n",
    "for i in ser.index:\n",
    "    if ser[i] > 1:\n",
    "        print(i)\n",
    "        tab.append(i)\n",
    "print(tab)\n"
   ],
   "metadata": {
    "collapsed": false,
    "pycharm": {
     "name": "#%%\n"
    }
   }
  },
  {
   "cell_type": "markdown",
   "source": [
    "#### Texts with more than one assessment gets the mean of assessments"
   ],
   "metadata": {
    "collapsed": false
   }
  },
  {
   "cell_type": "code",
   "execution_count": 41,
   "outputs": [
    {
     "data": {
      "text/plain": "   TextTitle  Sentyment  Lubienie  Wstręt     Złość    Strach  Zaskoczenie  \\\n0    AF1.txt   5.000000       2.0     0.0  0.000000  0.000000          3.0   \n1   AF10.txt   1.000000       0.0     1.0  4.000000  0.000000          0.0   \n2   AF11.txt   1.000000       0.0     1.0  3.000000  1.000000          0.0   \n3   AF12.txt   1.000000       0.0     2.0  4.000000  0.000000          0.0   \n4   AF13.txt   1.000000       0.0     2.0  4.000000  0.000000          0.0   \n5   AF14.txt   1.000000       1.0     0.0  0.000000  4.000000          2.0   \n6   AF15.txt   1.000000       0.0     4.0  4.000000  0.000000          1.0   \n7   AF16.txt   3.000000       2.0     0.0  0.000000  4.000000          3.0   \n8   AF17.txt   2.000000       0.0     3.0  3.000000  0.000000          2.0   \n9   AF18.txt   1.000000       0.0     1.0  2.000000  0.000000          1.0   \n10  AF19.txt   1.000000       0.0     0.0  0.000000  2.000000          0.0   \n11   AF2.txt   1.500000       0.0     0.0  0.500000  3.000000          3.0   \n12  AF20.txt   3.000000       3.0     0.0  1.000000  1.000000          2.0   \n13   AF3.txt   1.000000       0.0     0.0  0.000000  4.000000          0.0   \n14   AF4.txt   4.000000       3.0     0.0  0.000000  0.000000          0.0   \n15   AF5.txt   2.000000       1.0     3.0  1.000000  4.000000          0.0   \n16   AF6.txt   4.000000       1.0     3.0  1.000000  0.000000          0.0   \n17   AF7.txt   1.000000       1.0     4.0  4.000000  2.000000          0.0   \n18   AF8.txt   2.000000       0.0     0.0  0.000000  3.000000          3.0   \n19   AF9.txt   2.000000       0.0     4.0  1.000000  4.000000          0.0   \n20   PA1.txt   1.000000       0.0     0.0  1.000000  3.000000          3.0   \n21  PA10.txt   2.000000       2.0     3.0  3.000000  4.000000          4.0   \n22  PA11.txt   1.000000       0.0     3.0  3.000000  4.000000          0.0   \n23  PA12.txt   2.000000       2.0     0.0  1.000000  1.000000          2.0   \n24  PA13.txt   2.000000       0.5     2.5  2.500000  2.000000          1.5   \n25  PA14.txt   4.000000       3.0     0.0  1.000000  0.000000          2.0   \n26  PA15.txt   2.000000       0.0     0.0  1.000000  0.000000          0.0   \n27  PA16.txt   1.000000       0.0     1.0  2.000000  1.000000          0.0   \n28  PA17.txt   1.000000       0.0     1.0  4.000000  0.000000          0.0   \n29  PA18.txt   2.000000       0.0     2.0  0.000000  2.000000          0.0   \n30  PA19.txt   3.000000       1.0     0.0  2.000000  0.000000          2.0   \n31   PA2.txt   3.000000       2.0     0.0  0.000000  2.000000          1.0   \n32  PA20.txt   3.000000       0.0     2.0  0.000000  1.000000          0.0   \n33  PA21.txt   3.000000       0.5     1.0  0.500000  3.000000          1.5   \n34  PA22.txt   3.000000       0.0     1.0  0.000000  3.000000          2.0   \n35  PA23.txt   3.000000       2.0     1.0  1.000000  0.000000          0.0   \n36  PA24.txt   3.000000       1.0     0.0  1.000000  3.000000          3.0   \n37  PA25.txt   2.000000       0.0     2.0  3.000000  2.000000          0.0   \n38  PA26.txt   1.000000       0.0     1.0  3.000000  3.000000          0.0   \n39  PA27.txt   3.000000       1.0     1.0  1.000000  0.000000          2.0   \n40  PA28.txt   1.000000       0.0     1.0  4.000000  1.000000          2.0   \n41  PA29.txt   2.000000       0.0     2.0  1.000000  0.000000          2.0   \n42   PA3.txt   2.000000       0.0     1.0  2.000000  2.000000          3.0   \n43  PA30.txt   2.000000       1.0     0.0  0.000000  3.000000          0.0   \n44  PA31.txt   1.666667       0.0     3.0  3.333333  0.666667          2.0   \n45  PA32.txt   3.000000       2.0     0.0  0.000000  0.000000          3.0   \n46  PA33.txt   3.000000       2.0     0.0  0.000000  2.000000          2.0   \n47  PA34.txt   5.000000       3.0     0.0  2.000000  0.000000          0.0   \n48  PA35.txt   3.000000       1.0     2.0  2.000000  0.000000          0.0   \n49  PA36.txt   3.000000       0.0     1.0  0.000000  3.000000          3.0   \n50  PA37.txt   4.000000       4.0     0.0  0.000000  0.000000          0.0   \n51  PA38.txt   2.500000       1.0     0.0  0.000000  3.000000          0.0   \n52  PA39.txt   2.000000       1.0     3.0  3.000000  1.000000          2.0   \n53   PA4.txt   1.000000       0.0     2.0  4.000000  0.000000          2.0   \n54  PA40.txt   2.000000       1.0     4.0  3.000000  1.000000          0.0   \n55   PA5.txt   3.000000       1.0     0.0  1.000000  0.000000          2.0   \n56   PA6.txt   3.000000       0.0     0.0  0.000000  4.000000          1.0   \n57   PA7.txt   2.000000       1.0     4.0  3.000000  2.000000          1.0   \n58   PA8.txt   2.000000       0.0     1.0  4.000000  1.000000          1.0   \n59   PA9.txt   1.000000       2.0     0.0  0.000000  0.000000          0.0   \n\n    Oczekiwanie    Radość  Smutek  \n0      0.000000  2.000000     0.0  \n1      1.000000  0.000000     2.0  \n2      1.000000  0.000000     2.0  \n3      0.000000  0.000000     0.0  \n4      0.000000  0.000000     3.0  \n5      0.000000  0.000000     2.0  \n6      0.000000  0.000000     3.0  \n7      0.000000  2.000000     0.0  \n8      0.000000  0.000000     2.0  \n9      0.000000  0.000000     3.0  \n10     2.000000  0.000000     3.0  \n11     0.500000  0.000000     3.0  \n12     0.000000  0.000000     2.0  \n13     0.000000  0.000000     1.0  \n14     1.000000  2.000000     0.0  \n15     2.000000  0.000000     2.0  \n16     2.000000  2.000000     0.0  \n17     2.000000  0.000000     2.0  \n18     0.000000  2.000000     0.0  \n19     0.000000  0.000000     4.0  \n20     0.000000  0.000000     1.0  \n21     2.000000  3.000000     3.0  \n22     0.000000  0.000000     4.0  \n23     0.000000  0.000000     3.0  \n24     1.500000  0.500000     3.5  \n25     0.000000  2.000000     0.0  \n26     2.000000  0.000000     2.0  \n27     1.000000  0.000000     2.0  \n28     1.000000  0.000000     2.0  \n29     2.000000  0.000000     0.0  \n30     0.000000  0.000000     2.0  \n31     2.000000  2.000000     2.0  \n32     2.000000  1.000000     0.0  \n33     1.000000  0.000000     2.0  \n34     0.000000  0.000000     1.0  \n35     2.000000  1.000000     0.0  \n36     3.000000  2.000000     3.0  \n37     3.000000  0.000000     1.0  \n38     0.000000  0.000000     2.0  \n39     0.000000  0.000000     1.0  \n40     1.000000  0.000000     1.0  \n41     0.000000  0.000000     0.0  \n42     0.000000  0.000000     1.0  \n43     0.000000  0.000000     0.0  \n44     0.333333  0.333333     2.0  \n45     2.000000  0.000000     0.0  \n46     0.000000  0.000000     2.0  \n47     2.000000  4.000000     1.0  \n48     3.000000  0.000000     1.0  \n49     3.000000  0.000000     2.0  \n50     1.000000  3.000000     1.0  \n51     1.500000  1.000000     1.5  \n52     0.000000  1.000000     2.0  \n53     0.000000  0.000000     2.0  \n54     0.000000  0.000000     2.0  \n55     0.000000  2.000000     1.0  \n56     4.000000  0.000000     0.0  \n57     1.000000  0.000000     4.0  \n58     0.000000  0.000000     0.0  \n59     0.000000  1.000000     2.0  ",
      "text/html": "<div>\n<style scoped>\n    .dataframe tbody tr th:only-of-type {\n        vertical-align: middle;\n    }\n\n    .dataframe tbody tr th {\n        vertical-align: top;\n    }\n\n    .dataframe thead th {\n        text-align: right;\n    }\n</style>\n<table border=\"1\" class=\"dataframe\">\n  <thead>\n    <tr style=\"text-align: right;\">\n      <th></th>\n      <th>TextTitle</th>\n      <th>Sentyment</th>\n      <th>Lubienie</th>\n      <th>Wstręt</th>\n      <th>Złość</th>\n      <th>Strach</th>\n      <th>Zaskoczenie</th>\n      <th>Oczekiwanie</th>\n      <th>Radość</th>\n      <th>Smutek</th>\n    </tr>\n  </thead>\n  <tbody>\n    <tr>\n      <th>0</th>\n      <td>AF1.txt</td>\n      <td>5.000000</td>\n      <td>2.0</td>\n      <td>0.0</td>\n      <td>0.000000</td>\n      <td>0.000000</td>\n      <td>3.0</td>\n      <td>0.000000</td>\n      <td>2.000000</td>\n      <td>0.0</td>\n    </tr>\n    <tr>\n      <th>1</th>\n      <td>AF10.txt</td>\n      <td>1.000000</td>\n      <td>0.0</td>\n      <td>1.0</td>\n      <td>4.000000</td>\n      <td>0.000000</td>\n      <td>0.0</td>\n      <td>1.000000</td>\n      <td>0.000000</td>\n      <td>2.0</td>\n    </tr>\n    <tr>\n      <th>2</th>\n      <td>AF11.txt</td>\n      <td>1.000000</td>\n      <td>0.0</td>\n      <td>1.0</td>\n      <td>3.000000</td>\n      <td>1.000000</td>\n      <td>0.0</td>\n      <td>1.000000</td>\n      <td>0.000000</td>\n      <td>2.0</td>\n    </tr>\n    <tr>\n      <th>3</th>\n      <td>AF12.txt</td>\n      <td>1.000000</td>\n      <td>0.0</td>\n      <td>2.0</td>\n      <td>4.000000</td>\n      <td>0.000000</td>\n      <td>0.0</td>\n      <td>0.000000</td>\n      <td>0.000000</td>\n      <td>0.0</td>\n    </tr>\n    <tr>\n      <th>4</th>\n      <td>AF13.txt</td>\n      <td>1.000000</td>\n      <td>0.0</td>\n      <td>2.0</td>\n      <td>4.000000</td>\n      <td>0.000000</td>\n      <td>0.0</td>\n      <td>0.000000</td>\n      <td>0.000000</td>\n      <td>3.0</td>\n    </tr>\n    <tr>\n      <th>5</th>\n      <td>AF14.txt</td>\n      <td>1.000000</td>\n      <td>1.0</td>\n      <td>0.0</td>\n      <td>0.000000</td>\n      <td>4.000000</td>\n      <td>2.0</td>\n      <td>0.000000</td>\n      <td>0.000000</td>\n      <td>2.0</td>\n    </tr>\n    <tr>\n      <th>6</th>\n      <td>AF15.txt</td>\n      <td>1.000000</td>\n      <td>0.0</td>\n      <td>4.0</td>\n      <td>4.000000</td>\n      <td>0.000000</td>\n      <td>1.0</td>\n      <td>0.000000</td>\n      <td>0.000000</td>\n      <td>3.0</td>\n    </tr>\n    <tr>\n      <th>7</th>\n      <td>AF16.txt</td>\n      <td>3.000000</td>\n      <td>2.0</td>\n      <td>0.0</td>\n      <td>0.000000</td>\n      <td>4.000000</td>\n      <td>3.0</td>\n      <td>0.000000</td>\n      <td>2.000000</td>\n      <td>0.0</td>\n    </tr>\n    <tr>\n      <th>8</th>\n      <td>AF17.txt</td>\n      <td>2.000000</td>\n      <td>0.0</td>\n      <td>3.0</td>\n      <td>3.000000</td>\n      <td>0.000000</td>\n      <td>2.0</td>\n      <td>0.000000</td>\n      <td>0.000000</td>\n      <td>2.0</td>\n    </tr>\n    <tr>\n      <th>9</th>\n      <td>AF18.txt</td>\n      <td>1.000000</td>\n      <td>0.0</td>\n      <td>1.0</td>\n      <td>2.000000</td>\n      <td>0.000000</td>\n      <td>1.0</td>\n      <td>0.000000</td>\n      <td>0.000000</td>\n      <td>3.0</td>\n    </tr>\n    <tr>\n      <th>10</th>\n      <td>AF19.txt</td>\n      <td>1.000000</td>\n      <td>0.0</td>\n      <td>0.0</td>\n      <td>0.000000</td>\n      <td>2.000000</td>\n      <td>0.0</td>\n      <td>2.000000</td>\n      <td>0.000000</td>\n      <td>3.0</td>\n    </tr>\n    <tr>\n      <th>11</th>\n      <td>AF2.txt</td>\n      <td>1.500000</td>\n      <td>0.0</td>\n      <td>0.0</td>\n      <td>0.500000</td>\n      <td>3.000000</td>\n      <td>3.0</td>\n      <td>0.500000</td>\n      <td>0.000000</td>\n      <td>3.0</td>\n    </tr>\n    <tr>\n      <th>12</th>\n      <td>AF20.txt</td>\n      <td>3.000000</td>\n      <td>3.0</td>\n      <td>0.0</td>\n      <td>1.000000</td>\n      <td>1.000000</td>\n      <td>2.0</td>\n      <td>0.000000</td>\n      <td>0.000000</td>\n      <td>2.0</td>\n    </tr>\n    <tr>\n      <th>13</th>\n      <td>AF3.txt</td>\n      <td>1.000000</td>\n      <td>0.0</td>\n      <td>0.0</td>\n      <td>0.000000</td>\n      <td>4.000000</td>\n      <td>0.0</td>\n      <td>0.000000</td>\n      <td>0.000000</td>\n      <td>1.0</td>\n    </tr>\n    <tr>\n      <th>14</th>\n      <td>AF4.txt</td>\n      <td>4.000000</td>\n      <td>3.0</td>\n      <td>0.0</td>\n      <td>0.000000</td>\n      <td>0.000000</td>\n      <td>0.0</td>\n      <td>1.000000</td>\n      <td>2.000000</td>\n      <td>0.0</td>\n    </tr>\n    <tr>\n      <th>15</th>\n      <td>AF5.txt</td>\n      <td>2.000000</td>\n      <td>1.0</td>\n      <td>3.0</td>\n      <td>1.000000</td>\n      <td>4.000000</td>\n      <td>0.0</td>\n      <td>2.000000</td>\n      <td>0.000000</td>\n      <td>2.0</td>\n    </tr>\n    <tr>\n      <th>16</th>\n      <td>AF6.txt</td>\n      <td>4.000000</td>\n      <td>1.0</td>\n      <td>3.0</td>\n      <td>1.000000</td>\n      <td>0.000000</td>\n      <td>0.0</td>\n      <td>2.000000</td>\n      <td>2.000000</td>\n      <td>0.0</td>\n    </tr>\n    <tr>\n      <th>17</th>\n      <td>AF7.txt</td>\n      <td>1.000000</td>\n      <td>1.0</td>\n      <td>4.0</td>\n      <td>4.000000</td>\n      <td>2.000000</td>\n      <td>0.0</td>\n      <td>2.000000</td>\n      <td>0.000000</td>\n      <td>2.0</td>\n    </tr>\n    <tr>\n      <th>18</th>\n      <td>AF8.txt</td>\n      <td>2.000000</td>\n      <td>0.0</td>\n      <td>0.0</td>\n      <td>0.000000</td>\n      <td>3.000000</td>\n      <td>3.0</td>\n      <td>0.000000</td>\n      <td>2.000000</td>\n      <td>0.0</td>\n    </tr>\n    <tr>\n      <th>19</th>\n      <td>AF9.txt</td>\n      <td>2.000000</td>\n      <td>0.0</td>\n      <td>4.0</td>\n      <td>1.000000</td>\n      <td>4.000000</td>\n      <td>0.0</td>\n      <td>0.000000</td>\n      <td>0.000000</td>\n      <td>4.0</td>\n    </tr>\n    <tr>\n      <th>20</th>\n      <td>PA1.txt</td>\n      <td>1.000000</td>\n      <td>0.0</td>\n      <td>0.0</td>\n      <td>1.000000</td>\n      <td>3.000000</td>\n      <td>3.0</td>\n      <td>0.000000</td>\n      <td>0.000000</td>\n      <td>1.0</td>\n    </tr>\n    <tr>\n      <th>21</th>\n      <td>PA10.txt</td>\n      <td>2.000000</td>\n      <td>2.0</td>\n      <td>3.0</td>\n      <td>3.000000</td>\n      <td>4.000000</td>\n      <td>4.0</td>\n      <td>2.000000</td>\n      <td>3.000000</td>\n      <td>3.0</td>\n    </tr>\n    <tr>\n      <th>22</th>\n      <td>PA11.txt</td>\n      <td>1.000000</td>\n      <td>0.0</td>\n      <td>3.0</td>\n      <td>3.000000</td>\n      <td>4.000000</td>\n      <td>0.0</td>\n      <td>0.000000</td>\n      <td>0.000000</td>\n      <td>4.0</td>\n    </tr>\n    <tr>\n      <th>23</th>\n      <td>PA12.txt</td>\n      <td>2.000000</td>\n      <td>2.0</td>\n      <td>0.0</td>\n      <td>1.000000</td>\n      <td>1.000000</td>\n      <td>2.0</td>\n      <td>0.000000</td>\n      <td>0.000000</td>\n      <td>3.0</td>\n    </tr>\n    <tr>\n      <th>24</th>\n      <td>PA13.txt</td>\n      <td>2.000000</td>\n      <td>0.5</td>\n      <td>2.5</td>\n      <td>2.500000</td>\n      <td>2.000000</td>\n      <td>1.5</td>\n      <td>1.500000</td>\n      <td>0.500000</td>\n      <td>3.5</td>\n    </tr>\n    <tr>\n      <th>25</th>\n      <td>PA14.txt</td>\n      <td>4.000000</td>\n      <td>3.0</td>\n      <td>0.0</td>\n      <td>1.000000</td>\n      <td>0.000000</td>\n      <td>2.0</td>\n      <td>0.000000</td>\n      <td>2.000000</td>\n      <td>0.0</td>\n    </tr>\n    <tr>\n      <th>26</th>\n      <td>PA15.txt</td>\n      <td>2.000000</td>\n      <td>0.0</td>\n      <td>0.0</td>\n      <td>1.000000</td>\n      <td>0.000000</td>\n      <td>0.0</td>\n      <td>2.000000</td>\n      <td>0.000000</td>\n      <td>2.0</td>\n    </tr>\n    <tr>\n      <th>27</th>\n      <td>PA16.txt</td>\n      <td>1.000000</td>\n      <td>0.0</td>\n      <td>1.0</td>\n      <td>2.000000</td>\n      <td>1.000000</td>\n      <td>0.0</td>\n      <td>1.000000</td>\n      <td>0.000000</td>\n      <td>2.0</td>\n    </tr>\n    <tr>\n      <th>28</th>\n      <td>PA17.txt</td>\n      <td>1.000000</td>\n      <td>0.0</td>\n      <td>1.0</td>\n      <td>4.000000</td>\n      <td>0.000000</td>\n      <td>0.0</td>\n      <td>1.000000</td>\n      <td>0.000000</td>\n      <td>2.0</td>\n    </tr>\n    <tr>\n      <th>29</th>\n      <td>PA18.txt</td>\n      <td>2.000000</td>\n      <td>0.0</td>\n      <td>2.0</td>\n      <td>0.000000</td>\n      <td>2.000000</td>\n      <td>0.0</td>\n      <td>2.000000</td>\n      <td>0.000000</td>\n      <td>0.0</td>\n    </tr>\n    <tr>\n      <th>30</th>\n      <td>PA19.txt</td>\n      <td>3.000000</td>\n      <td>1.0</td>\n      <td>0.0</td>\n      <td>2.000000</td>\n      <td>0.000000</td>\n      <td>2.0</td>\n      <td>0.000000</td>\n      <td>0.000000</td>\n      <td>2.0</td>\n    </tr>\n    <tr>\n      <th>31</th>\n      <td>PA2.txt</td>\n      <td>3.000000</td>\n      <td>2.0</td>\n      <td>0.0</td>\n      <td>0.000000</td>\n      <td>2.000000</td>\n      <td>1.0</td>\n      <td>2.000000</td>\n      <td>2.000000</td>\n      <td>2.0</td>\n    </tr>\n    <tr>\n      <th>32</th>\n      <td>PA20.txt</td>\n      <td>3.000000</td>\n      <td>0.0</td>\n      <td>2.0</td>\n      <td>0.000000</td>\n      <td>1.000000</td>\n      <td>0.0</td>\n      <td>2.000000</td>\n      <td>1.000000</td>\n      <td>0.0</td>\n    </tr>\n    <tr>\n      <th>33</th>\n      <td>PA21.txt</td>\n      <td>3.000000</td>\n      <td>0.5</td>\n      <td>1.0</td>\n      <td>0.500000</td>\n      <td>3.000000</td>\n      <td>1.5</td>\n      <td>1.000000</td>\n      <td>0.000000</td>\n      <td>2.0</td>\n    </tr>\n    <tr>\n      <th>34</th>\n      <td>PA22.txt</td>\n      <td>3.000000</td>\n      <td>0.0</td>\n      <td>1.0</td>\n      <td>0.000000</td>\n      <td>3.000000</td>\n      <td>2.0</td>\n      <td>0.000000</td>\n      <td>0.000000</td>\n      <td>1.0</td>\n    </tr>\n    <tr>\n      <th>35</th>\n      <td>PA23.txt</td>\n      <td>3.000000</td>\n      <td>2.0</td>\n      <td>1.0</td>\n      <td>1.000000</td>\n      <td>0.000000</td>\n      <td>0.0</td>\n      <td>2.000000</td>\n      <td>1.000000</td>\n      <td>0.0</td>\n    </tr>\n    <tr>\n      <th>36</th>\n      <td>PA24.txt</td>\n      <td>3.000000</td>\n      <td>1.0</td>\n      <td>0.0</td>\n      <td>1.000000</td>\n      <td>3.000000</td>\n      <td>3.0</td>\n      <td>3.000000</td>\n      <td>2.000000</td>\n      <td>3.0</td>\n    </tr>\n    <tr>\n      <th>37</th>\n      <td>PA25.txt</td>\n      <td>2.000000</td>\n      <td>0.0</td>\n      <td>2.0</td>\n      <td>3.000000</td>\n      <td>2.000000</td>\n      <td>0.0</td>\n      <td>3.000000</td>\n      <td>0.000000</td>\n      <td>1.0</td>\n    </tr>\n    <tr>\n      <th>38</th>\n      <td>PA26.txt</td>\n      <td>1.000000</td>\n      <td>0.0</td>\n      <td>1.0</td>\n      <td>3.000000</td>\n      <td>3.000000</td>\n      <td>0.0</td>\n      <td>0.000000</td>\n      <td>0.000000</td>\n      <td>2.0</td>\n    </tr>\n    <tr>\n      <th>39</th>\n      <td>PA27.txt</td>\n      <td>3.000000</td>\n      <td>1.0</td>\n      <td>1.0</td>\n      <td>1.000000</td>\n      <td>0.000000</td>\n      <td>2.0</td>\n      <td>0.000000</td>\n      <td>0.000000</td>\n      <td>1.0</td>\n    </tr>\n    <tr>\n      <th>40</th>\n      <td>PA28.txt</td>\n      <td>1.000000</td>\n      <td>0.0</td>\n      <td>1.0</td>\n      <td>4.000000</td>\n      <td>1.000000</td>\n      <td>2.0</td>\n      <td>1.000000</td>\n      <td>0.000000</td>\n      <td>1.0</td>\n    </tr>\n    <tr>\n      <th>41</th>\n      <td>PA29.txt</td>\n      <td>2.000000</td>\n      <td>0.0</td>\n      <td>2.0</td>\n      <td>1.000000</td>\n      <td>0.000000</td>\n      <td>2.0</td>\n      <td>0.000000</td>\n      <td>0.000000</td>\n      <td>0.0</td>\n    </tr>\n    <tr>\n      <th>42</th>\n      <td>PA3.txt</td>\n      <td>2.000000</td>\n      <td>0.0</td>\n      <td>1.0</td>\n      <td>2.000000</td>\n      <td>2.000000</td>\n      <td>3.0</td>\n      <td>0.000000</td>\n      <td>0.000000</td>\n      <td>1.0</td>\n    </tr>\n    <tr>\n      <th>43</th>\n      <td>PA30.txt</td>\n      <td>2.000000</td>\n      <td>1.0</td>\n      <td>0.0</td>\n      <td>0.000000</td>\n      <td>3.000000</td>\n      <td>0.0</td>\n      <td>0.000000</td>\n      <td>0.000000</td>\n      <td>0.0</td>\n    </tr>\n    <tr>\n      <th>44</th>\n      <td>PA31.txt</td>\n      <td>1.666667</td>\n      <td>0.0</td>\n      <td>3.0</td>\n      <td>3.333333</td>\n      <td>0.666667</td>\n      <td>2.0</td>\n      <td>0.333333</td>\n      <td>0.333333</td>\n      <td>2.0</td>\n    </tr>\n    <tr>\n      <th>45</th>\n      <td>PA32.txt</td>\n      <td>3.000000</td>\n      <td>2.0</td>\n      <td>0.0</td>\n      <td>0.000000</td>\n      <td>0.000000</td>\n      <td>3.0</td>\n      <td>2.000000</td>\n      <td>0.000000</td>\n      <td>0.0</td>\n    </tr>\n    <tr>\n      <th>46</th>\n      <td>PA33.txt</td>\n      <td>3.000000</td>\n      <td>2.0</td>\n      <td>0.0</td>\n      <td>0.000000</td>\n      <td>2.000000</td>\n      <td>2.0</td>\n      <td>0.000000</td>\n      <td>0.000000</td>\n      <td>2.0</td>\n    </tr>\n    <tr>\n      <th>47</th>\n      <td>PA34.txt</td>\n      <td>5.000000</td>\n      <td>3.0</td>\n      <td>0.0</td>\n      <td>2.000000</td>\n      <td>0.000000</td>\n      <td>0.0</td>\n      <td>2.000000</td>\n      <td>4.000000</td>\n      <td>1.0</td>\n    </tr>\n    <tr>\n      <th>48</th>\n      <td>PA35.txt</td>\n      <td>3.000000</td>\n      <td>1.0</td>\n      <td>2.0</td>\n      <td>2.000000</td>\n      <td>0.000000</td>\n      <td>0.0</td>\n      <td>3.000000</td>\n      <td>0.000000</td>\n      <td>1.0</td>\n    </tr>\n    <tr>\n      <th>49</th>\n      <td>PA36.txt</td>\n      <td>3.000000</td>\n      <td>0.0</td>\n      <td>1.0</td>\n      <td>0.000000</td>\n      <td>3.000000</td>\n      <td>3.0</td>\n      <td>3.000000</td>\n      <td>0.000000</td>\n      <td>2.0</td>\n    </tr>\n    <tr>\n      <th>50</th>\n      <td>PA37.txt</td>\n      <td>4.000000</td>\n      <td>4.0</td>\n      <td>0.0</td>\n      <td>0.000000</td>\n      <td>0.000000</td>\n      <td>0.0</td>\n      <td>1.000000</td>\n      <td>3.000000</td>\n      <td>1.0</td>\n    </tr>\n    <tr>\n      <th>51</th>\n      <td>PA38.txt</td>\n      <td>2.500000</td>\n      <td>1.0</td>\n      <td>0.0</td>\n      <td>0.000000</td>\n      <td>3.000000</td>\n      <td>0.0</td>\n      <td>1.500000</td>\n      <td>1.000000</td>\n      <td>1.5</td>\n    </tr>\n    <tr>\n      <th>52</th>\n      <td>PA39.txt</td>\n      <td>2.000000</td>\n      <td>1.0</td>\n      <td>3.0</td>\n      <td>3.000000</td>\n      <td>1.000000</td>\n      <td>2.0</td>\n      <td>0.000000</td>\n      <td>1.000000</td>\n      <td>2.0</td>\n    </tr>\n    <tr>\n      <th>53</th>\n      <td>PA4.txt</td>\n      <td>1.000000</td>\n      <td>0.0</td>\n      <td>2.0</td>\n      <td>4.000000</td>\n      <td>0.000000</td>\n      <td>2.0</td>\n      <td>0.000000</td>\n      <td>0.000000</td>\n      <td>2.0</td>\n    </tr>\n    <tr>\n      <th>54</th>\n      <td>PA40.txt</td>\n      <td>2.000000</td>\n      <td>1.0</td>\n      <td>4.0</td>\n      <td>3.000000</td>\n      <td>1.000000</td>\n      <td>0.0</td>\n      <td>0.000000</td>\n      <td>0.000000</td>\n      <td>2.0</td>\n    </tr>\n    <tr>\n      <th>55</th>\n      <td>PA5.txt</td>\n      <td>3.000000</td>\n      <td>1.0</td>\n      <td>0.0</td>\n      <td>1.000000</td>\n      <td>0.000000</td>\n      <td>2.0</td>\n      <td>0.000000</td>\n      <td>2.000000</td>\n      <td>1.0</td>\n    </tr>\n    <tr>\n      <th>56</th>\n      <td>PA6.txt</td>\n      <td>3.000000</td>\n      <td>0.0</td>\n      <td>0.0</td>\n      <td>0.000000</td>\n      <td>4.000000</td>\n      <td>1.0</td>\n      <td>4.000000</td>\n      <td>0.000000</td>\n      <td>0.0</td>\n    </tr>\n    <tr>\n      <th>57</th>\n      <td>PA7.txt</td>\n      <td>2.000000</td>\n      <td>1.0</td>\n      <td>4.0</td>\n      <td>3.000000</td>\n      <td>2.000000</td>\n      <td>1.0</td>\n      <td>1.000000</td>\n      <td>0.000000</td>\n      <td>4.0</td>\n    </tr>\n    <tr>\n      <th>58</th>\n      <td>PA8.txt</td>\n      <td>2.000000</td>\n      <td>0.0</td>\n      <td>1.0</td>\n      <td>4.000000</td>\n      <td>1.000000</td>\n      <td>1.0</td>\n      <td>0.000000</td>\n      <td>0.000000</td>\n      <td>0.0</td>\n    </tr>\n    <tr>\n      <th>59</th>\n      <td>PA9.txt</td>\n      <td>1.000000</td>\n      <td>2.0</td>\n      <td>0.0</td>\n      <td>0.000000</td>\n      <td>0.000000</td>\n      <td>0.0</td>\n      <td>0.000000</td>\n      <td>1.000000</td>\n      <td>2.0</td>\n    </tr>\n  </tbody>\n</table>\n</div>"
     },
     "execution_count": 41,
     "metadata": {},
     "output_type": "execute_result"
    }
   ],
   "source": [
    "df1 = df.groupby('TextTitle').mean().reset_index()\n",
    "df1['TextTitle'].describe()\n",
    "df1.head(60)\n"
   ],
   "metadata": {
    "collapsed": false,
    "pycharm": {
     "name": "#%%\n"
    }
   }
  },
  {
   "cell_type": "code",
   "execution_count": 43,
   "outputs": [
    {
     "data": {
      "text/plain": "           Sentyment  Lubienie  Wstręt  Złość  Strach  Zaskoczenie  \\\nTextTitle                                                            \nAF1.txt          5.0       2.0     0.0    0.0     0.0          3.0   \nAF10.txt         1.0       0.0     1.0    4.0     0.0          0.0   \nAF11.txt         1.0       0.0     1.0    3.0     1.0          0.0   \nAF12.txt         1.0       0.0     2.0    4.0     0.0          0.0   \nAF13.txt         1.0       0.0     2.0    4.0     0.0          0.0   \n\n           Oczekiwanie  Radość  Smutek  \nTextTitle                               \nAF1.txt            0.0     2.0     0.0  \nAF10.txt           1.0     0.0     2.0  \nAF11.txt           1.0     0.0     2.0  \nAF12.txt           0.0     0.0     0.0  \nAF13.txt           0.0     0.0     3.0  ",
      "text/html": "<div>\n<style scoped>\n    .dataframe tbody tr th:only-of-type {\n        vertical-align: middle;\n    }\n\n    .dataframe tbody tr th {\n        vertical-align: top;\n    }\n\n    .dataframe thead th {\n        text-align: right;\n    }\n</style>\n<table border=\"1\" class=\"dataframe\">\n  <thead>\n    <tr style=\"text-align: right;\">\n      <th></th>\n      <th>Sentyment</th>\n      <th>Lubienie</th>\n      <th>Wstręt</th>\n      <th>Złość</th>\n      <th>Strach</th>\n      <th>Zaskoczenie</th>\n      <th>Oczekiwanie</th>\n      <th>Radość</th>\n      <th>Smutek</th>\n    </tr>\n    <tr>\n      <th>TextTitle</th>\n      <th></th>\n      <th></th>\n      <th></th>\n      <th></th>\n      <th></th>\n      <th></th>\n      <th></th>\n      <th></th>\n      <th></th>\n    </tr>\n  </thead>\n  <tbody>\n    <tr>\n      <th>AF1.txt</th>\n      <td>5.0</td>\n      <td>2.0</td>\n      <td>0.0</td>\n      <td>0.0</td>\n      <td>0.0</td>\n      <td>3.0</td>\n      <td>0.0</td>\n      <td>2.0</td>\n      <td>0.0</td>\n    </tr>\n    <tr>\n      <th>AF10.txt</th>\n      <td>1.0</td>\n      <td>0.0</td>\n      <td>1.0</td>\n      <td>4.0</td>\n      <td>0.0</td>\n      <td>0.0</td>\n      <td>1.0</td>\n      <td>0.0</td>\n      <td>2.0</td>\n    </tr>\n    <tr>\n      <th>AF11.txt</th>\n      <td>1.0</td>\n      <td>0.0</td>\n      <td>1.0</td>\n      <td>3.0</td>\n      <td>1.0</td>\n      <td>0.0</td>\n      <td>1.0</td>\n      <td>0.0</td>\n      <td>2.0</td>\n    </tr>\n    <tr>\n      <th>AF12.txt</th>\n      <td>1.0</td>\n      <td>0.0</td>\n      <td>2.0</td>\n      <td>4.0</td>\n      <td>0.0</td>\n      <td>0.0</td>\n      <td>0.0</td>\n      <td>0.0</td>\n      <td>0.0</td>\n    </tr>\n    <tr>\n      <th>AF13.txt</th>\n      <td>1.0</td>\n      <td>0.0</td>\n      <td>2.0</td>\n      <td>4.0</td>\n      <td>0.0</td>\n      <td>0.0</td>\n      <td>0.0</td>\n      <td>0.0</td>\n      <td>3.0</td>\n    </tr>\n  </tbody>\n</table>\n</div>"
     },
     "execution_count": 43,
     "metadata": {},
     "output_type": "execute_result"
    }
   ],
   "source": [
    "df1.set_index('TextTitle',inplace=True)\n",
    "df1.head()\n"
   ],
   "metadata": {
    "collapsed": false,
    "pycharm": {
     "name": "#%%\n"
    }
   }
  },
  {
   "cell_type": "code",
   "execution_count": 46,
   "outputs": [
    {
     "data": {
      "text/plain": "        Sentyment    Lubienie      Wstręt       Złość      Strach  \\\ncount  101.000000  101.000000  101.000000  101.000000  101.000000   \nmean     2.244224    1.102310    1.202970    1.523102    1.417492   \nstd      1.216910    1.296356    1.353104    1.445881    1.418650   \nmin      1.000000    0.000000    0.000000    0.000000    0.000000   \n25%      1.000000    0.000000    0.000000    0.000000    0.000000   \n50%      2.000000    1.000000    1.000000    1.000000    1.000000   \n75%      3.000000    2.000000    2.000000    3.000000    3.000000   \nmax      5.000000    4.000000    4.000000    4.000000    4.000000   \n\n       Zaskoczenie  Oczekiwanie      Radość      Smutek  \ncount   101.000000   101.000000  101.000000  101.000000  \nmean      1.567657     0.828383    0.673267    1.681518  \nstd       1.366500     1.076635    1.185777    1.353822  \nmin       0.000000     0.000000    0.000000    0.000000  \n25%       0.000000     0.000000    0.000000    0.000000  \n50%       2.000000     0.000000    0.000000    2.000000  \n75%       3.000000     2.000000    1.000000    3.000000  \nmax       4.000000     4.000000    4.000000    4.000000  ",
      "text/html": "<div>\n<style scoped>\n    .dataframe tbody tr th:only-of-type {\n        vertical-align: middle;\n    }\n\n    .dataframe tbody tr th {\n        vertical-align: top;\n    }\n\n    .dataframe thead th {\n        text-align: right;\n    }\n</style>\n<table border=\"1\" class=\"dataframe\">\n  <thead>\n    <tr style=\"text-align: right;\">\n      <th></th>\n      <th>Sentyment</th>\n      <th>Lubienie</th>\n      <th>Wstręt</th>\n      <th>Złość</th>\n      <th>Strach</th>\n      <th>Zaskoczenie</th>\n      <th>Oczekiwanie</th>\n      <th>Radość</th>\n      <th>Smutek</th>\n    </tr>\n  </thead>\n  <tbody>\n    <tr>\n      <th>count</th>\n      <td>101.000000</td>\n      <td>101.000000</td>\n      <td>101.000000</td>\n      <td>101.000000</td>\n      <td>101.000000</td>\n      <td>101.000000</td>\n      <td>101.000000</td>\n      <td>101.000000</td>\n      <td>101.000000</td>\n    </tr>\n    <tr>\n      <th>mean</th>\n      <td>2.244224</td>\n      <td>1.102310</td>\n      <td>1.202970</td>\n      <td>1.523102</td>\n      <td>1.417492</td>\n      <td>1.567657</td>\n      <td>0.828383</td>\n      <td>0.673267</td>\n      <td>1.681518</td>\n    </tr>\n    <tr>\n      <th>std</th>\n      <td>1.216910</td>\n      <td>1.296356</td>\n      <td>1.353104</td>\n      <td>1.445881</td>\n      <td>1.418650</td>\n      <td>1.366500</td>\n      <td>1.076635</td>\n      <td>1.185777</td>\n      <td>1.353822</td>\n    </tr>\n    <tr>\n      <th>min</th>\n      <td>1.000000</td>\n      <td>0.000000</td>\n      <td>0.000000</td>\n      <td>0.000000</td>\n      <td>0.000000</td>\n      <td>0.000000</td>\n      <td>0.000000</td>\n      <td>0.000000</td>\n      <td>0.000000</td>\n    </tr>\n    <tr>\n      <th>25%</th>\n      <td>1.000000</td>\n      <td>0.000000</td>\n      <td>0.000000</td>\n      <td>0.000000</td>\n      <td>0.000000</td>\n      <td>0.000000</td>\n      <td>0.000000</td>\n      <td>0.000000</td>\n      <td>0.000000</td>\n    </tr>\n    <tr>\n      <th>50%</th>\n      <td>2.000000</td>\n      <td>1.000000</td>\n      <td>1.000000</td>\n      <td>1.000000</td>\n      <td>1.000000</td>\n      <td>2.000000</td>\n      <td>0.000000</td>\n      <td>0.000000</td>\n      <td>2.000000</td>\n    </tr>\n    <tr>\n      <th>75%</th>\n      <td>3.000000</td>\n      <td>2.000000</td>\n      <td>2.000000</td>\n      <td>3.000000</td>\n      <td>3.000000</td>\n      <td>3.000000</td>\n      <td>2.000000</td>\n      <td>1.000000</td>\n      <td>3.000000</td>\n    </tr>\n    <tr>\n      <th>max</th>\n      <td>5.000000</td>\n      <td>4.000000</td>\n      <td>4.000000</td>\n      <td>4.000000</td>\n      <td>4.000000</td>\n      <td>4.000000</td>\n      <td>4.000000</td>\n      <td>4.000000</td>\n      <td>4.000000</td>\n    </tr>\n  </tbody>\n</table>\n</div>"
     },
     "execution_count": 46,
     "metadata": {},
     "output_type": "execute_result"
    }
   ],
   "source": [
    "final_df = text_df.join(df1)\n",
    "final_df.head()\n",
    "final_df.describe()\n"
   ],
   "metadata": {
    "collapsed": false,
    "pycharm": {
     "name": "#%%\n"
    }
   }
  },
  {
   "cell_type": "code",
   "execution_count": 23,
   "outputs": [],
   "source": [
    "\n",
    "df.to_pickle(r'data\\data_df.pkl')"
   ],
   "metadata": {
    "collapsed": false,
    "pycharm": {
     "name": "#%%\n"
    }
   }
  },
  {
   "cell_type": "code",
   "execution_count": 2,
   "outputs": [
    {
     "data": {
      "text/plain": "                                               OriginalText  \\\nAF1.txt   Wczoraj rano przytrafiło mi się coś miłego. Pr...   \nAF10.txt  Pan Dussel, człowiek, o którym zawsze mówiono,...   \nAF11.txt  Jakbym w ciągu dnia nie słyszała wystarczająco...   \nAF12.txt  Pienię się z wściekłości, a nie wolno mi tego ...   \nAF13.txt  Wszyscy uważają, że jestem przesadna, gdy mówi...   \n\n                                                CleanedText  \\\nAF1.txt   wczoraj rano przytrafiło mi się coś miłego prz...   \nAF10.txt  pan dussel człowiek o którym zawsze mówiono że...   \nAF11.txt  jakbym w ciągu dnia nie słyszała wystarczająco...   \nAF12.txt  pienię się z wściekłości a nie wolno mi tego o...   \nAF13.txt  wszyscy uważają że jestem przesadna gdy mówię ...   \n\n                                                   WordList  Sentyment  \\\nAF1.txt   [wczoraj, rano, przytrafiło, mi, się, coś, mił...        5.0   \nAF10.txt  [pan, dussel, człowiek, o, którym, zawsze, mów...        1.0   \nAF11.txt  [jakbym, w, ciągu, dnia, nie, słyszała, wystar...        1.0   \nAF12.txt  [pienię, się, z, wściekłości, a, nie, wolno, m...        1.0   \nAF13.txt  [wszyscy, uważają, że, jestem, przesadna, gdy,...        1.0   \n\n          Lubienie  Wstręt  Złość  Strach  Zaskoczenie  Oczekiwanie  Radość  \\\nAF1.txt        2.0     0.0    0.0     0.0          3.0          0.0     2.0   \nAF10.txt       0.0     1.0    4.0     0.0          0.0          1.0     0.0   \nAF11.txt       0.0     1.0    3.0     1.0          0.0          1.0     0.0   \nAF12.txt       0.0     2.0    4.0     0.0          0.0          0.0     0.0   \nAF13.txt       0.0     2.0    4.0     0.0          0.0          0.0     0.0   \n\n          Smutek                                          RemovedSW  \nAF1.txt      0.0  wczoraj rano przytrafiło miłego przechodziłam ...  \nAF10.txt     2.0  dussel człowiek mówiono umie świetnie radzić d...  \nAF11.txt     2.0  jakbym ciągu dnia słyszała wystarczająco „psst...  \nAF12.txt     0.0  pienię wściekłości wolno okazać chciałabym tup...  \nAF13.txt     3.0  uważają przesadna mówię śmieszna milczę bezcze...  ",
      "text/html": "<div>\n<style scoped>\n    .dataframe tbody tr th:only-of-type {\n        vertical-align: middle;\n    }\n\n    .dataframe tbody tr th {\n        vertical-align: top;\n    }\n\n    .dataframe thead th {\n        text-align: right;\n    }\n</style>\n<table border=\"1\" class=\"dataframe\">\n  <thead>\n    <tr style=\"text-align: right;\">\n      <th></th>\n      <th>OriginalText</th>\n      <th>CleanedText</th>\n      <th>WordList</th>\n      <th>Sentyment</th>\n      <th>Lubienie</th>\n      <th>Wstręt</th>\n      <th>Złość</th>\n      <th>Strach</th>\n      <th>Zaskoczenie</th>\n      <th>Oczekiwanie</th>\n      <th>Radość</th>\n      <th>Smutek</th>\n      <th>RemovedSW</th>\n    </tr>\n  </thead>\n  <tbody>\n    <tr>\n      <th>AF1.txt</th>\n      <td>Wczoraj rano przytrafiło mi się coś miłego. Pr...</td>\n      <td>wczoraj rano przytrafiło mi się coś miłego prz...</td>\n      <td>[wczoraj, rano, przytrafiło, mi, się, coś, mił...</td>\n      <td>5.0</td>\n      <td>2.0</td>\n      <td>0.0</td>\n      <td>0.0</td>\n      <td>0.0</td>\n      <td>3.0</td>\n      <td>0.0</td>\n      <td>2.0</td>\n      <td>0.0</td>\n      <td>wczoraj rano przytrafiło miłego przechodziłam ...</td>\n    </tr>\n    <tr>\n      <th>AF10.txt</th>\n      <td>Pan Dussel, człowiek, o którym zawsze mówiono,...</td>\n      <td>pan dussel człowiek o którym zawsze mówiono że...</td>\n      <td>[pan, dussel, człowiek, o, którym, zawsze, mów...</td>\n      <td>1.0</td>\n      <td>0.0</td>\n      <td>1.0</td>\n      <td>4.0</td>\n      <td>0.0</td>\n      <td>0.0</td>\n      <td>1.0</td>\n      <td>0.0</td>\n      <td>2.0</td>\n      <td>dussel człowiek mówiono umie świetnie radzić d...</td>\n    </tr>\n    <tr>\n      <th>AF11.txt</th>\n      <td>Jakbym w ciągu dnia nie słyszała wystarczająco...</td>\n      <td>jakbym w ciągu dnia nie słyszała wystarczająco...</td>\n      <td>[jakbym, w, ciągu, dnia, nie, słyszała, wystar...</td>\n      <td>1.0</td>\n      <td>0.0</td>\n      <td>1.0</td>\n      <td>3.0</td>\n      <td>1.0</td>\n      <td>0.0</td>\n      <td>1.0</td>\n      <td>0.0</td>\n      <td>2.0</td>\n      <td>jakbym ciągu dnia słyszała wystarczająco „psst...</td>\n    </tr>\n    <tr>\n      <th>AF12.txt</th>\n      <td>Pienię się z wściekłości, a nie wolno mi tego ...</td>\n      <td>pienię się z wściekłości a nie wolno mi tego o...</td>\n      <td>[pienię, się, z, wściekłości, a, nie, wolno, m...</td>\n      <td>1.0</td>\n      <td>0.0</td>\n      <td>2.0</td>\n      <td>4.0</td>\n      <td>0.0</td>\n      <td>0.0</td>\n      <td>0.0</td>\n      <td>0.0</td>\n      <td>0.0</td>\n      <td>pienię wściekłości wolno okazać chciałabym tup...</td>\n    </tr>\n    <tr>\n      <th>AF13.txt</th>\n      <td>Wszyscy uważają, że jestem przesadna, gdy mówi...</td>\n      <td>wszyscy uważają że jestem przesadna gdy mówię ...</td>\n      <td>[wszyscy, uważają, że, jestem, przesadna, gdy,...</td>\n      <td>1.0</td>\n      <td>0.0</td>\n      <td>2.0</td>\n      <td>4.0</td>\n      <td>0.0</td>\n      <td>0.0</td>\n      <td>0.0</td>\n      <td>0.0</td>\n      <td>3.0</td>\n      <td>uważają przesadna mówię śmieszna milczę bezcze...</td>\n    </tr>\n  </tbody>\n</table>\n</div>"
     },
     "execution_count": 2,
     "metadata": {},
     "output_type": "execute_result"
    }
   ],
   "source": [
    "import pandas as pd\n",
    "\n",
    "df = pd.read_pickle(r'data\\data_df.pkl')\n",
    "\n",
    "df.head()\n"
   ],
   "metadata": {
    "collapsed": false,
    "pycharm": {
     "name": "#%%\n"
    }
   }
  },
  {
   "cell_type": "code",
   "execution_count": 16,
   "outputs": [
    {
     "name": "stdout",
     "output_type": "stream",
     "text": [
      "[5.0, 1.0, 1.0, 1.0, 1.0, 1.0, 1.0, 3.0, 2.0, 1.0, 1.0, 2.0, 3.0, 1.0, 4.0, 2.0, 4.0, 1.0, 2.0, 2.0, 1.0, 2.0, 1.0, 2.0, 2.0, 4.0, 2.0, 1.0, 1.0, 2.0, 3.0, 3.0, 3.0, 3.0, 3.0, 3.0, 3.0, 2.0, 1.0, 3.0, 1.0, 2.0, 2.0, 2.0, 2.0, 3.0, 3.0, 5.0, 3.0, 3.0, 4.0, 2.0, 2.0, 1.0, 2.0, 3.0, 3.0, 2.0, 2.0, 1.0, 2.0, 5.0, 3.0, 2.0, 2.0, 1.0, 1.0, 2.0, 2.0, 2.0, 1.0, 1.0, 1.0, 5.0, 2.0, 1.0, 3.0, 1.0, 5.0, 3.0, 2.0, 5.0, 3.0, 4.0, 4.0, 5.0, 1.0, 1.0, 4.0, 2.0, 1.0, 5.0, 1.0, 1.0, 1.0, 1.0, 1.0, 2.0, 2.0, 2.0, 2.0]\n"
     ]
    }
   ],
   "source": [
    "sent =  list(df['Sentyment'].values)\n",
    "print(sent)"
   ],
   "metadata": {
    "collapsed": false,
    "pycharm": {
     "name": "#%%\n"
    }
   }
  },
  {
   "cell_type": "code",
   "execution_count": 21,
   "outputs": [
    {
     "name": "stdout",
     "output_type": "stream",
     "text": [
      "[5.0, 1.0, 1.0, 1.0, 1.0, 1.0, 1.0, 3.0, 2.0, 1.0, 1.0, 2.0, 3.0, 1.0, 4.0, 2.0, 4.0, 1.0, 2.0, 2.0, 1.0, 2.0, 1.0, 2.0, 2.0, 4.0, 2.0, 1.0, 1.0, 2.0, 3.0, 3.0, 3.0, 3.0, 3.0, 3.0, 3.0, 2.0, 1.0, 3.0, 1.0, 2.0, 2.0, 2.0, 2.0, 3.0, 3.0, 5.0, 3.0, 3.0, 4.0, 2.0, 2.0, 1.0, 2.0, 3.0, 3.0, 2.0, 2.0, 1.0, 2.0, 5.0, 3.0, 2.0, 2.0, 1.0, 1.0, 2.0, 2.0, 2.0, 1.0, 1.0, 1.0, 5.0, 2.0, 1.0, 3.0, 1.0, 5.0, 3.0, 2.0, 5.0, 3.0, 4.0, 4.0, 5.0, 1.0, 1.0, 4.0, 2.0, 1.0, 5.0, 1.0, 1.0, 1.0, 1.0, 1.0, 2.0, 2.0, 2.0, 2.0]\n",
      "5.0\n",
      "1.0\n",
      "1.0\n",
      "1.0\n",
      "1.0\n",
      "1.0\n",
      "1.0\n",
      "3.0\n",
      "2.0\n",
      "1.0\n",
      "1.0\n",
      "2.0\n",
      "3.0\n",
      "1.0\n",
      "4.0\n",
      "2.0\n",
      "4.0\n",
      "1.0\n",
      "2.0\n",
      "2.0\n",
      "1.0\n",
      "2.0\n",
      "1.0\n",
      "2.0\n",
      "2.0\n",
      "4.0\n",
      "2.0\n",
      "1.0\n",
      "1.0\n",
      "2.0\n",
      "3.0\n",
      "3.0\n",
      "3.0\n",
      "3.0\n",
      "3.0\n",
      "3.0\n",
      "3.0\n",
      "2.0\n",
      "1.0\n",
      "3.0\n",
      "1.0\n",
      "2.0\n",
      "2.0\n",
      "2.0\n",
      "2.0\n",
      "3.0\n",
      "3.0\n",
      "5.0\n",
      "3.0\n",
      "3.0\n",
      "4.0\n",
      "2.0\n",
      "2.0\n",
      "1.0\n",
      "2.0\n",
      "3.0\n",
      "3.0\n",
      "2.0\n",
      "2.0\n",
      "1.0\n",
      "2.0\n",
      "5.0\n",
      "3.0\n",
      "2.0\n",
      "2.0\n",
      "1.0\n",
      "1.0\n",
      "2.0\n",
      "2.0\n",
      "2.0\n",
      "1.0\n",
      "1.0\n",
      "1.0\n",
      "5.0\n",
      "2.0\n",
      "1.0\n",
      "3.0\n",
      "1.0\n",
      "5.0\n",
      "3.0\n",
      "2.0\n",
      "5.0\n",
      "3.0\n",
      "4.0\n",
      "4.0\n",
      "5.0\n",
      "1.0\n",
      "1.0\n",
      "4.0\n",
      "2.0\n",
      "1.0\n",
      "5.0\n",
      "1.0\n",
      "1.0\n",
      "1.0\n",
      "1.0\n",
      "1.0\n",
      "2.0\n",
      "2.0\n",
      "2.0\n",
      "2.0\n",
      "[1, -1, -1, -1, -1, -1, -1, 0, -1, -1, -1, -1, 0, -1, 1, -1, 1, -1, -1, -1, -1, -1, -1, -1, -1, 1, -1, -1, -1, -1, 0, 0, 0, 0, 0, 0, 0, -1, -1, 0, -1, -1, -1, -1, -1, 0, 0, 1, 0, 0, 1, -1, -1, -1, -1, 0, 0, -1, -1, -1, -1, 1, 0, -1, -1, -1, -1, -1, -1, -1, -1, -1, -1, 1, -1, -1, 0, -1, 1, 0, -1, 1, 0, 1, 1, 1, -1, -1, 1, -1, -1, 1, -1, -1, -1, -1, -1, -1, -1, -1, -1]\n"
     ]
    }
   ],
   "source": [
    "print(sent)\n",
    "tab = []\n",
    "for val in sent:\n",
    "   print(val)\n",
    "   if val == 3.0:\n",
    "       new = 0\n",
    "   elif val > 3.0:\n",
    "       new = 1\n",
    "   elif val < 3.0:\n",
    "       new = -1\n",
    "   tab.append(new)\n",
    "print(tab)\n",
    "\n"
   ],
   "metadata": {
    "collapsed": false,
    "pycharm": {
     "name": "#%%\n"
    }
   }
  },
  {
   "cell_type": "code",
   "execution_count": 22,
   "outputs": [
    {
     "data": {
      "text/plain": "                                               OriginalText  \\\nAF1.txt   Wczoraj rano przytrafiło mi się coś miłego. Pr...   \nAF10.txt  Pan Dussel, człowiek, o którym zawsze mówiono,...   \nAF11.txt  Jakbym w ciągu dnia nie słyszała wystarczająco...   \nAF12.txt  Pienię się z wściekłości, a nie wolno mi tego ...   \nAF13.txt  Wszyscy uważają, że jestem przesadna, gdy mówi...   \nAF14.txt  Wczoraj wieczorem mieliśmy spięcie, poza tym n...   \nAF15.txt  Wczoraj wieczorem leżałam w łóżku i czekałam n...   \nAF16.txt  Z powodu zbyt głośnych strzałów mama zamknęła ...   \nAF17.txt  Wczoraj po południu, za pozwoleniem taty, zapy...   \nAF18.txt  Wczoraj miałam pechowy dzień. Ukłułam się w pr...   \n\n                                                CleanedText  \\\nAF1.txt   wczoraj rano przytrafiło mi się coś miłego prz...   \nAF10.txt  pan dussel człowiek o którym zawsze mówiono że...   \nAF11.txt  jakbym w ciągu dnia nie słyszała wystarczająco...   \nAF12.txt  pienię się z wściekłości a nie wolno mi tego o...   \nAF13.txt  wszyscy uważają że jestem przesadna gdy mówię ...   \nAF14.txt  wczoraj wieczorem mieliśmy spięcie poza tym ni...   \nAF15.txt  wczoraj wieczorem leżałam w łóżku i czekałam n...   \nAF16.txt  z powodu zbyt głośnych strzałów mama zamknęła ...   \nAF17.txt  wczoraj po południu za pozwoleniem taty zapyta...   \nAF18.txt  wczoraj miałam pechowy dzień ukłułam się w pra...   \n\n                                                   WordList  Sentyment  \\\nAF1.txt   [wczoraj, rano, przytrafiło, mi, się, coś, mił...        5.0   \nAF10.txt  [pan, dussel, człowiek, o, którym, zawsze, mów...        1.0   \nAF11.txt  [jakbym, w, ciągu, dnia, nie, słyszała, wystar...        1.0   \nAF12.txt  [pienię, się, z, wściekłości, a, nie, wolno, m...        1.0   \nAF13.txt  [wszyscy, uważają, że, jestem, przesadna, gdy,...        1.0   \nAF14.txt  [wczoraj, wieczorem, mieliśmy, spięcie, poza, ...        1.0   \nAF15.txt  [wczoraj, wieczorem, leżałam, w, łóżku, i, cze...        1.0   \nAF16.txt  [z, powodu, zbyt, głośnych, strzałów, mama, za...        3.0   \nAF17.txt  [wczoraj, po, południu, za, pozwoleniem, taty,...        2.0   \nAF18.txt  [wczoraj, miałam, pechowy, dzień, ukłułam, się...        1.0   \n\n          Lubienie  Wstręt  Złość  Strach  Zaskoczenie  Oczekiwanie  Radość  \\\nAF1.txt        2.0     0.0    0.0     0.0          3.0          0.0     2.0   \nAF10.txt       0.0     1.0    4.0     0.0          0.0          1.0     0.0   \nAF11.txt       0.0     1.0    3.0     1.0          0.0          1.0     0.0   \nAF12.txt       0.0     2.0    4.0     0.0          0.0          0.0     0.0   \nAF13.txt       0.0     2.0    4.0     0.0          0.0          0.0     0.0   \nAF14.txt       1.0     0.0    0.0     4.0          2.0          0.0     0.0   \nAF15.txt       0.0     4.0    4.0     0.0          1.0          0.0     0.0   \nAF16.txt       2.0     0.0    0.0     4.0          3.0          0.0     2.0   \nAF17.txt       0.0     3.0    3.0     0.0          2.0          0.0     0.0   \nAF18.txt       0.0     1.0    2.0     0.0          1.0          0.0     0.0   \n\n          Smutek                                          RemovedSW  \\\nAF1.txt      0.0  wczoraj rano przytrafiło miłego przechodziłam ...   \nAF10.txt     2.0  dussel człowiek mówiono umie świetnie radzić d...   \nAF11.txt     2.0  jakbym ciągu dnia słyszała wystarczająco „psst...   \nAF12.txt     0.0  pienię wściekłości wolno okazać chciałabym tup...   \nAF13.txt     3.0  uważają przesadna mówię śmieszna milczę bezcze...   \nAF14.txt     2.0  wczoraj wieczorem mieliśmy spięcie nieustannie...   \nAF15.txt     3.0  wczoraj wieczorem leżałam łóżku czekałam tatę ...   \nAF16.txt     0.0  powodu zbyt głośnych strzałów mama zamknęła no...   \nAF17.txt     2.0  wczoraj południu pozwoleniem taty zapytałam du...   \nAF18.txt     3.0  wczoraj miałam pechowy dzień ukłułam prawy kci...   \n\n          Sentyment_nom  \nAF1.txt               1  \nAF10.txt             -1  \nAF11.txt             -1  \nAF12.txt             -1  \nAF13.txt             -1  \nAF14.txt             -1  \nAF15.txt             -1  \nAF16.txt              0  \nAF17.txt             -1  \nAF18.txt             -1  ",
      "text/html": "<div>\n<style scoped>\n    .dataframe tbody tr th:only-of-type {\n        vertical-align: middle;\n    }\n\n    .dataframe tbody tr th {\n        vertical-align: top;\n    }\n\n    .dataframe thead th {\n        text-align: right;\n    }\n</style>\n<table border=\"1\" class=\"dataframe\">\n  <thead>\n    <tr style=\"text-align: right;\">\n      <th></th>\n      <th>OriginalText</th>\n      <th>CleanedText</th>\n      <th>WordList</th>\n      <th>Sentyment</th>\n      <th>Lubienie</th>\n      <th>Wstręt</th>\n      <th>Złość</th>\n      <th>Strach</th>\n      <th>Zaskoczenie</th>\n      <th>Oczekiwanie</th>\n      <th>Radość</th>\n      <th>Smutek</th>\n      <th>RemovedSW</th>\n      <th>Sentyment_nom</th>\n    </tr>\n  </thead>\n  <tbody>\n    <tr>\n      <th>AF1.txt</th>\n      <td>Wczoraj rano przytrafiło mi się coś miłego. Pr...</td>\n      <td>wczoraj rano przytrafiło mi się coś miłego prz...</td>\n      <td>[wczoraj, rano, przytrafiło, mi, się, coś, mił...</td>\n      <td>5.0</td>\n      <td>2.0</td>\n      <td>0.0</td>\n      <td>0.0</td>\n      <td>0.0</td>\n      <td>3.0</td>\n      <td>0.0</td>\n      <td>2.0</td>\n      <td>0.0</td>\n      <td>wczoraj rano przytrafiło miłego przechodziłam ...</td>\n      <td>1</td>\n    </tr>\n    <tr>\n      <th>AF10.txt</th>\n      <td>Pan Dussel, człowiek, o którym zawsze mówiono,...</td>\n      <td>pan dussel człowiek o którym zawsze mówiono że...</td>\n      <td>[pan, dussel, człowiek, o, którym, zawsze, mów...</td>\n      <td>1.0</td>\n      <td>0.0</td>\n      <td>1.0</td>\n      <td>4.0</td>\n      <td>0.0</td>\n      <td>0.0</td>\n      <td>1.0</td>\n      <td>0.0</td>\n      <td>2.0</td>\n      <td>dussel człowiek mówiono umie świetnie radzić d...</td>\n      <td>-1</td>\n    </tr>\n    <tr>\n      <th>AF11.txt</th>\n      <td>Jakbym w ciągu dnia nie słyszała wystarczająco...</td>\n      <td>jakbym w ciągu dnia nie słyszała wystarczająco...</td>\n      <td>[jakbym, w, ciągu, dnia, nie, słyszała, wystar...</td>\n      <td>1.0</td>\n      <td>0.0</td>\n      <td>1.0</td>\n      <td>3.0</td>\n      <td>1.0</td>\n      <td>0.0</td>\n      <td>1.0</td>\n      <td>0.0</td>\n      <td>2.0</td>\n      <td>jakbym ciągu dnia słyszała wystarczająco „psst...</td>\n      <td>-1</td>\n    </tr>\n    <tr>\n      <th>AF12.txt</th>\n      <td>Pienię się z wściekłości, a nie wolno mi tego ...</td>\n      <td>pienię się z wściekłości a nie wolno mi tego o...</td>\n      <td>[pienię, się, z, wściekłości, a, nie, wolno, m...</td>\n      <td>1.0</td>\n      <td>0.0</td>\n      <td>2.0</td>\n      <td>4.0</td>\n      <td>0.0</td>\n      <td>0.0</td>\n      <td>0.0</td>\n      <td>0.0</td>\n      <td>0.0</td>\n      <td>pienię wściekłości wolno okazać chciałabym tup...</td>\n      <td>-1</td>\n    </tr>\n    <tr>\n      <th>AF13.txt</th>\n      <td>Wszyscy uważają, że jestem przesadna, gdy mówi...</td>\n      <td>wszyscy uważają że jestem przesadna gdy mówię ...</td>\n      <td>[wszyscy, uważają, że, jestem, przesadna, gdy,...</td>\n      <td>1.0</td>\n      <td>0.0</td>\n      <td>2.0</td>\n      <td>4.0</td>\n      <td>0.0</td>\n      <td>0.0</td>\n      <td>0.0</td>\n      <td>0.0</td>\n      <td>3.0</td>\n      <td>uważają przesadna mówię śmieszna milczę bezcze...</td>\n      <td>-1</td>\n    </tr>\n    <tr>\n      <th>AF14.txt</th>\n      <td>Wczoraj wieczorem mieliśmy spięcie, poza tym n...</td>\n      <td>wczoraj wieczorem mieliśmy spięcie poza tym ni...</td>\n      <td>[wczoraj, wieczorem, mieliśmy, spięcie, poza, ...</td>\n      <td>1.0</td>\n      <td>1.0</td>\n      <td>0.0</td>\n      <td>0.0</td>\n      <td>4.0</td>\n      <td>2.0</td>\n      <td>0.0</td>\n      <td>0.0</td>\n      <td>2.0</td>\n      <td>wczoraj wieczorem mieliśmy spięcie nieustannie...</td>\n      <td>-1</td>\n    </tr>\n    <tr>\n      <th>AF15.txt</th>\n      <td>Wczoraj wieczorem leżałam w łóżku i czekałam n...</td>\n      <td>wczoraj wieczorem leżałam w łóżku i czekałam n...</td>\n      <td>[wczoraj, wieczorem, leżałam, w, łóżku, i, cze...</td>\n      <td>1.0</td>\n      <td>0.0</td>\n      <td>4.0</td>\n      <td>4.0</td>\n      <td>0.0</td>\n      <td>1.0</td>\n      <td>0.0</td>\n      <td>0.0</td>\n      <td>3.0</td>\n      <td>wczoraj wieczorem leżałam łóżku czekałam tatę ...</td>\n      <td>-1</td>\n    </tr>\n    <tr>\n      <th>AF16.txt</th>\n      <td>Z powodu zbyt głośnych strzałów mama zamknęła ...</td>\n      <td>z powodu zbyt głośnych strzałów mama zamknęła ...</td>\n      <td>[z, powodu, zbyt, głośnych, strzałów, mama, za...</td>\n      <td>3.0</td>\n      <td>2.0</td>\n      <td>0.0</td>\n      <td>0.0</td>\n      <td>4.0</td>\n      <td>3.0</td>\n      <td>0.0</td>\n      <td>2.0</td>\n      <td>0.0</td>\n      <td>powodu zbyt głośnych strzałów mama zamknęła no...</td>\n      <td>0</td>\n    </tr>\n    <tr>\n      <th>AF17.txt</th>\n      <td>Wczoraj po południu, za pozwoleniem taty, zapy...</td>\n      <td>wczoraj po południu za pozwoleniem taty zapyta...</td>\n      <td>[wczoraj, po, południu, za, pozwoleniem, taty,...</td>\n      <td>2.0</td>\n      <td>0.0</td>\n      <td>3.0</td>\n      <td>3.0</td>\n      <td>0.0</td>\n      <td>2.0</td>\n      <td>0.0</td>\n      <td>0.0</td>\n      <td>2.0</td>\n      <td>wczoraj południu pozwoleniem taty zapytałam du...</td>\n      <td>-1</td>\n    </tr>\n    <tr>\n      <th>AF18.txt</th>\n      <td>Wczoraj miałam pechowy dzień. Ukłułam się w pr...</td>\n      <td>wczoraj miałam pechowy dzień ukłułam się w pra...</td>\n      <td>[wczoraj, miałam, pechowy, dzień, ukłułam, się...</td>\n      <td>1.0</td>\n      <td>0.0</td>\n      <td>1.0</td>\n      <td>2.0</td>\n      <td>0.0</td>\n      <td>1.0</td>\n      <td>0.0</td>\n      <td>0.0</td>\n      <td>3.0</td>\n      <td>wczoraj miałam pechowy dzień ukłułam prawy kci...</td>\n      <td>-1</td>\n    </tr>\n  </tbody>\n</table>\n</div>"
     },
     "execution_count": 22,
     "metadata": {},
     "output_type": "execute_result"
    }
   ],
   "source": [
    "df['Sentyment_nom'] = tab\n",
    "df.head(10)"
   ],
   "metadata": {
    "collapsed": false,
    "pycharm": {
     "name": "#%%\n"
    }
   }
  },
  {
   "cell_type": "code",
   "execution_count": 11,
   "outputs": [],
   "source": [
    "\n",
    "import spacy\n",
    "nlp = spacy.load(\"pl_core_news_lg\")\n"
   ],
   "metadata": {
    "collapsed": false,
    "pycharm": {
     "name": "#%%\n"
    }
   }
  },
  {
   "cell_type": "code",
   "execution_count": 27,
   "outputs": [
    {
     "name": "stdout",
     "output_type": "stream",
     "text": [
      "['a', 'aby', 'ach', 'acz', 'aczkolwiek', 'aj', 'albo', 'ale', 'alez', 'ależ', 'ani', 'az', 'aż', 'bardziej', 'bardzo', 'beda', 'bedzie', 'bez', 'deda', 'będą', 'bede', 'będę', 'będzie', 'bo', 'bowiem', 'by', 'byc', 'być', 'byl', 'byla', 'byli', 'bylo', 'byly', 'był', 'była', 'było', 'były', 'bynajmniej', 'cala', 'cali', 'caly', 'cała', 'cały', 'ci', 'cie', 'ciebie', 'cię', 'co', 'cokolwiek', 'cos', 'coś', 'czasami', 'czasem', 'czemu', 'czy', 'czyli', 'daleko', 'dla', 'dlaczego', 'dlatego', 'do', 'dobrze', 'dokad', 'dokąd', 'dosc', 'dość', 'duzo', 'dużo', 'dwa', 'dwaj', 'dwie', 'dwoje', 'dzis', 'dzisiaj', 'dziś', 'gdy', 'gdyby', 'gdyz', 'gdyż', 'gdzie', 'gdziekolwiek', 'gdzies', 'gdzieś', 'go', 'i', 'ich', 'ile', 'im', 'inna', 'inne', 'inny', 'innych', 'iz', 'iż', 'ja', 'jak', 'jakas', 'jakaś', 'jakby', 'jaki', 'jakichs', 'jakichś', 'jakie', 'jakis', 'jakiś', 'jakiz', 'jakiż', 'jakkolwiek', 'jako', 'jakos', 'jakoś', 'ją', 'je', 'jeden', 'jedna', 'jednak', 'jednakze', 'jednakże', 'jedno', 'jego', 'jej', 'jemu', 'jesli', 'jest', 'jestem', 'jeszcze', 'jeśli', 'jezeli', 'jeżeli', 'juz', 'już', 'kazdy', 'każdy', 'kiedy', 'kilka', 'kims', 'kimś', 'kto', 'ktokolwiek', 'ktora', 'ktore', 'ktorego', 'ktorej', 'ktory', 'ktorych', 'ktorym', 'ktorzy', 'ktos', 'ktoś', 'która', 'które', 'którego', 'której', 'który', 'których', 'którym', 'którzy', 'ku', 'lat', 'lecz', 'lub', 'ma', 'mają', 'mało', 'mam', 'mi', 'miedzy', 'między', 'mimo', 'mna', 'mną', 'mnie', 'moga', 'mogą', 'moi', 'moim', 'moj', 'moja', 'moje', 'moze', 'mozliwe', 'mozna', 'może', 'możliwe', 'można', 'mój', 'mu', 'musi', 'my', 'na', 'nad', 'nam', 'nami', 'nas', 'nasi', 'nasz', 'nasza', 'nasze', 'naszego', 'naszych', 'natomiast', 'natychmiast', 'nawet', 'nia', 'nią', 'nic', 'nich', 'nie', 'niech', 'niego', 'niej', 'niemu', 'nigdy', 'nim', 'nimi', 'niz', 'niż', 'no', 'o', 'obok', 'od', 'około', 'on', 'ona', 'one', 'oni', 'ono', 'oraz', 'oto', 'owszem', 'pan', 'pana', 'pani', 'po', 'pod', 'podczas', 'pomimo', 'ponad', 'poniewaz', 'ponieważ', 'powinien', 'powinna', 'powinni', 'powinno', 'poza', 'prawie', 'przeciez', 'przecież', 'przed', 'przede', 'przedtem', 'przez', 'przy', 'roku', 'rowniez', 'również', 'sam', 'sama', 'są', 'sie', 'się', 'skad', 'skąd', 'soba', 'sobą', 'sobie', 'sposob', 'sposób', 'swoje', 'ta', 'tak', 'taka', 'taki', 'takie', 'takze', 'także', 'tam', 'te', 'tego', 'tej', 'ten', 'teraz', 'też', 'to', 'toba', 'tobą', 'tobie', 'totez', 'toteż', 'totobą', 'trzeba', 'tu', 'tutaj', 'twoi', 'twoim', 'twoj', 'twoja', 'twoje', 'twój', 'twym', 'ty', 'tych', 'tylko', 'tym', 'u', 'w', 'wam', 'wami', 'was', 'wasz', 'wasza', 'wasze', 'we', 'według', 'wiele', 'wielu', 'więc', 'więcej', 'wlasnie', 'właśnie', 'wszyscy', 'wszystkich', 'wszystkie', 'wszystkim', 'wszystko', 'wtedy', 'wy', 'z', 'za', 'zaden', 'zadna', 'zadne', 'zadnych', 'zapewne', 'zawsze', 'ze', 'zeby', 'zeznowu', 'zł', 'znow', 'znowu', 'znów', 'zostal', 'został', 'żaden', 'żadna', 'żadne', 'żadnych', 'że', 'żeby']\n"
     ]
    }
   ],
   "source": [
    "doc = nlp(df['OriginalText']['AF1.txt'])\n",
    "with open(r'data/stop_words.txt', encoding='utf8') as f:\n",
    "    sw = f.readlines()\n",
    "\n",
    "sw = [w.replace('\\n', '') for w in sw]\n",
    "print(sw)\n"
   ],
   "metadata": {
    "collapsed": false,
    "pycharm": {
     "name": "#%%\n"
    }
   }
  },
  {
   "cell_type": "code",
   "execution_count": 29,
   "outputs": [
    {
     "name": "stdout",
     "output_type": "stream",
     "text": [
      "['wczoraj', 'rano', 'przytrafiło', 'miłego', 'przechodziłam', 'przechowalni', 'rowerów', 'zawołał', 'obejrzałam', 'zobaczyłam', 'przystojnego', 'chłopaka', 'spotkałam', 'poprzedniego', 'wieczora', 'wilmy', 'dalekim', 'kuzynem', 'wilma', 'koleżanką', 'początku', 'sądziłam', 'miła', 'faktycznie', 'dzień', 'mówi', 'niczym', 'innym', 'chłopakach', 'staje', 'męczące', 'chłopak', 'trochę', 'zmieszany', 'podszedł', 'nieco', 'bliżej', 'przedstawił', 'hello', 'silberberg', 'byłam', 'trochę', 'zaskoczona', 'wiedziałam', 'czego', 'chce', 'szybko', 'wyjaśniło', 'chciał', 'skorzystać', 'mojego', 'towarzystwa', 'odprowadzić', 'szkoły', 'idziesz', 'samym', 'kierunku', 'pójdę', 'odpowiedziałam', 'poszliśmy', 'razem', 'hello', 'szesnaście', 'potrafi', 'ciekawy', 'opowiadać', 'przeróżnych', 'rzeczach', 'rano', 'czekał', 'pory', 'zostanie']\n"
     ]
    }
   ],
   "source": [
    "tab = []\n",
    "for text in df['WordList']:\n",
    "    tab.append([word for word in text if word not in sw])\n",
    "print(tab[0])\n"
   ],
   "metadata": {
    "collapsed": false,
    "pycharm": {
     "name": "#%%\n"
    }
   }
  },
  {
   "cell_type": "code",
   "execution_count": 33,
   "outputs": [
    {
     "data": {
      "text/plain": "                                               OriginalText  \\\nAF1.txt   Wczoraj rano przytrafiło mi się coś miłego. Pr...   \nAF10.txt  Pan Dussel, człowiek, o którym zawsze mówiono,...   \nAF11.txt  Jakbym w ciągu dnia nie słyszała wystarczająco...   \nAF12.txt  Pienię się z wściekłości, a nie wolno mi tego ...   \nAF13.txt  Wszyscy uważają, że jestem przesadna, gdy mówi...   \n\n                                                CleanedText  \\\nAF1.txt   wczoraj rano przytrafiło mi się coś miłego prz...   \nAF10.txt  pan dussel człowiek o którym zawsze mówiono że...   \nAF11.txt  jakbym w ciągu dnia nie słyszała wystarczająco...   \nAF12.txt  pienię się z wściekłości a nie wolno mi tego o...   \nAF13.txt  wszyscy uważają że jestem przesadna gdy mówię ...   \n\n                                                   WordList  Sentyment  \\\nAF1.txt   [wczoraj, rano, przytrafiło, mi, się, coś, mił...        5.0   \nAF10.txt  [pan, dussel, człowiek, o, którym, zawsze, mów...        1.0   \nAF11.txt  [jakbym, w, ciągu, dnia, nie, słyszała, wystar...        1.0   \nAF12.txt  [pienię, się, z, wściekłości, a, nie, wolno, m...        1.0   \nAF13.txt  [wszyscy, uważają, że, jestem, przesadna, gdy,...        1.0   \n\n          Lubienie  Wstręt  Złość  Strach  Zaskoczenie  Oczekiwanie  Radość  \\\nAF1.txt        2.0     0.0    0.0     0.0          3.0          0.0     2.0   \nAF10.txt       0.0     1.0    4.0     0.0          0.0          1.0     0.0   \nAF11.txt       0.0     1.0    3.0     1.0          0.0          1.0     0.0   \nAF12.txt       0.0     2.0    4.0     0.0          0.0          0.0     0.0   \nAF13.txt       0.0     2.0    4.0     0.0          0.0          0.0     0.0   \n\n          Smutek                                          RemovedSW  \nAF1.txt      0.0  wczoraj rano przytrafiło miłego przechodziłam ...  \nAF10.txt     2.0  dussel człowiek mówiono umie świetnie radzić d...  \nAF11.txt     2.0  jakbym ciągu dnia słyszała wystarczająco „psst...  \nAF12.txt     0.0  pienię wściekłości wolno okazać chciałabym tup...  \nAF13.txt     3.0  uważają przesadna mówię śmieszna milczę bezcze...  ",
      "text/html": "<div>\n<style scoped>\n    .dataframe tbody tr th:only-of-type {\n        vertical-align: middle;\n    }\n\n    .dataframe tbody tr th {\n        vertical-align: top;\n    }\n\n    .dataframe thead th {\n        text-align: right;\n    }\n</style>\n<table border=\"1\" class=\"dataframe\">\n  <thead>\n    <tr style=\"text-align: right;\">\n      <th></th>\n      <th>OriginalText</th>\n      <th>CleanedText</th>\n      <th>WordList</th>\n      <th>Sentyment</th>\n      <th>Lubienie</th>\n      <th>Wstręt</th>\n      <th>Złość</th>\n      <th>Strach</th>\n      <th>Zaskoczenie</th>\n      <th>Oczekiwanie</th>\n      <th>Radość</th>\n      <th>Smutek</th>\n      <th>RemovedSW</th>\n    </tr>\n  </thead>\n  <tbody>\n    <tr>\n      <th>AF1.txt</th>\n      <td>Wczoraj rano przytrafiło mi się coś miłego. Pr...</td>\n      <td>wczoraj rano przytrafiło mi się coś miłego prz...</td>\n      <td>[wczoraj, rano, przytrafiło, mi, się, coś, mił...</td>\n      <td>5.0</td>\n      <td>2.0</td>\n      <td>0.0</td>\n      <td>0.0</td>\n      <td>0.0</td>\n      <td>3.0</td>\n      <td>0.0</td>\n      <td>2.0</td>\n      <td>0.0</td>\n      <td>wczoraj rano przytrafiło miłego przechodziłam ...</td>\n    </tr>\n    <tr>\n      <th>AF10.txt</th>\n      <td>Pan Dussel, człowiek, o którym zawsze mówiono,...</td>\n      <td>pan dussel człowiek o którym zawsze mówiono że...</td>\n      <td>[pan, dussel, człowiek, o, którym, zawsze, mów...</td>\n      <td>1.0</td>\n      <td>0.0</td>\n      <td>1.0</td>\n      <td>4.0</td>\n      <td>0.0</td>\n      <td>0.0</td>\n      <td>1.0</td>\n      <td>0.0</td>\n      <td>2.0</td>\n      <td>dussel człowiek mówiono umie świetnie radzić d...</td>\n    </tr>\n    <tr>\n      <th>AF11.txt</th>\n      <td>Jakbym w ciągu dnia nie słyszała wystarczająco...</td>\n      <td>jakbym w ciągu dnia nie słyszała wystarczająco...</td>\n      <td>[jakbym, w, ciągu, dnia, nie, słyszała, wystar...</td>\n      <td>1.0</td>\n      <td>0.0</td>\n      <td>1.0</td>\n      <td>3.0</td>\n      <td>1.0</td>\n      <td>0.0</td>\n      <td>1.0</td>\n      <td>0.0</td>\n      <td>2.0</td>\n      <td>jakbym ciągu dnia słyszała wystarczająco „psst...</td>\n    </tr>\n    <tr>\n      <th>AF12.txt</th>\n      <td>Pienię się z wściekłości, a nie wolno mi tego ...</td>\n      <td>pienię się z wściekłości a nie wolno mi tego o...</td>\n      <td>[pienię, się, z, wściekłości, a, nie, wolno, m...</td>\n      <td>1.0</td>\n      <td>0.0</td>\n      <td>2.0</td>\n      <td>4.0</td>\n      <td>0.0</td>\n      <td>0.0</td>\n      <td>0.0</td>\n      <td>0.0</td>\n      <td>0.0</td>\n      <td>pienię wściekłości wolno okazać chciałabym tup...</td>\n    </tr>\n    <tr>\n      <th>AF13.txt</th>\n      <td>Wszyscy uważają, że jestem przesadna, gdy mówi...</td>\n      <td>wszyscy uważają że jestem przesadna gdy mówię ...</td>\n      <td>[wszyscy, uważają, że, jestem, przesadna, gdy,...</td>\n      <td>1.0</td>\n      <td>0.0</td>\n      <td>2.0</td>\n      <td>4.0</td>\n      <td>0.0</td>\n      <td>0.0</td>\n      <td>0.0</td>\n      <td>0.0</td>\n      <td>3.0</td>\n      <td>uważają przesadna mówię śmieszna milczę bezcze...</td>\n    </tr>\n  </tbody>\n</table>\n</div>"
     },
     "execution_count": 33,
     "metadata": {},
     "output_type": "execute_result"
    }
   ],
   "source": [
    "tab2 = []\n",
    "for text in tab:\n",
    "    tab2.append(' '.join(text))\n",
    "df['RemovedSW'] = tab2\n",
    "df.head()\n"
   ],
   "metadata": {
    "collapsed": false,
    "pycharm": {
     "name": "#%%\n"
    }
   }
  }
 ],
 "metadata": {
  "kernelspec": {
   "name": "pycharm-e6d2a138",
   "language": "python",
   "display_name": "PyCharm (CommandFiles)"
  },
  "language_info": {
   "codemirror_mode": {
    "name": "ipython",
    "version": 2
   },
   "file_extension": ".py",
   "mimetype": "text/x-python",
   "name": "python",
   "nbconvert_exporter": "python",
   "pygments_lexer": "ipython2",
   "version": "2.7.6"
  }
 },
 "nbformat": 4,
 "nbformat_minor": 0
}