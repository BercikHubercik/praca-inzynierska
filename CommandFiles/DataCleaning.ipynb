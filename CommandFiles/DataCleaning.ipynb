{
 "cells": [
  {
   "cell_type": "code",
   "execution_count": 36,
   "outputs": [
    {
     "name": "stdout",
     "output_type": "stream",
     "text": [
      "Kilka dni później, kiedy już zadomowiliśmy się w nowym pokoju, tata wyrywa mnie ze snu. – Wstawaj, Francis. Ubieraj się i biegnij po ciocię Aggie. Mama jej potrzebuje. Pospiesz się! Mama stęka w łóżku, ma twarz zupełnie białą. Tata wyciągnął z łóżka Malachy’ego i bliźniaki i posadził na podłodze przy wygasłym ogniu. Biegnę przez ulicę i pukam do drzwi cioci Aggie, dopóki nie zjawia się jęczący i kaszlący wuj Pa Keating. – O co chodzi? – Mama stęka w łóżku. Chyba jest chora. Teraz schodzi ciocia Aggie i narzeka. – Odkąd przyjechaliście z tej Ameryki, tylko z wami kłopoty. – Aggie, daj mu spokój, to tylko dzieciak. Robi to, co mu kazali. Ciocia chce, żeby wujek wrócił do łóżka, bo przecież rano musi iść do pracy, nie tak jak ci z Północy, których nazwisk nie będzie wymieniać. – Nie, idę z tobą, coś się stało Angeli. Tata każe mi usiąść obok braci. Nie wiem, co się stało mamie, bo wszyscy szepczą tak, że ledwo słyszę, jak ciocia Aggie mówi do wuja Pa, że dziecko stracone, biegnij po karetkę. Wujek Pa wybiega za drzwi. Ciocia teraz zwraca się do mamy: – Mów sobie, co chcesz o Limerick, ale karetka przyjeżdża szybko. – Nie odzywa się do ojca, nawet na niego nie patrzy. – Tato, czy mama jest chora? – pyta Malachy. – Wszystko będzie dobrze, synu. Musi ją zobaczyć doktor. Zastanawiam się, jakie dziecko stracone, bo przecież wszyscy tu jesteśmy, raz, dwa, trzy, wszyscy czterej, żadne dziecko nie przepadło. Dlaczego nikt mi nie powie, co się stało mamie? Wraca wujek Pa, a tuż za nim zjawia się karetka. Wchodzi człowiek z noszami, wynoszą mamę, a na podłodze przy łóżku zostają ślady krwi. Kiedy Malachy przygryzł sobie język, też była krew i była także koło psa na ulicy, i umarł. Chcę zapytać taty, czy mama odejdzie na zawsze, tak jak moja siostra Margaret, ale tata jedzie z mamą, a nie ma sensu o cokolwiek pytać cioci Aggie, bo boję się, że mnie skrzyczy. Ciocia wyciera plamy na podłodze, każe nam wracać do łóżka i czekać, aż wróci tata. Jest środek nocy, leżymy we czterech w łóżku, mamy ciepło, więc zasypiamy. Budzi nas tata, by nam powiedzieć, że mamie jest dobrze i wygodnie w szpitalu i że bardzo szybko wróci do domu. \n"
     ]
    }
   ],
   "source": [
    "import os\n",
    "directory = os.path.abspath('..\\OriginalData\\Teksty')\n",
    "\n",
    "filenames = os.listdir(directory)\n",
    "data = {}\n",
    "for filename in filenames:\n",
    "    file_path = os.path.join(directory, filename)\n",
    "    with open(file_path, 'r', encoding=\"utf8\") as file:\n",
    "        data[filename] = file.read().replace('\\n', ' ')\n",
    "\n",
    "print(data['PA1.txt'])"
   ],
   "metadata": {
    "collapsed": false,
    "pycharm": {
     "name": "#%%\n"
    }
   }
  },
  {
   "cell_type": "code",
   "execution_count": 37,
   "outputs": [
    {
     "data": {
      "text/plain": "                                               OriginalText\nAF1.txt   Wczoraj rano przytrafiło mi się coś miłego. Pr...\nAF10.txt  Pan Dussel, człowiek, o którym zawsze mówiono,...\nAF11.txt  Jakbym w ciągu dnia nie słyszała wystarczająco...\nAF12.txt  Pienię się z wściekłości, a nie wolno mi tego ...\nAF13.txt  Wszyscy uważają, że jestem przesadna, gdy mówi...",
      "text/html": "<div>\n<style scoped>\n    .dataframe tbody tr th:only-of-type {\n        vertical-align: middle;\n    }\n\n    .dataframe tbody tr th {\n        vertical-align: top;\n    }\n\n    .dataframe thead th {\n        text-align: right;\n    }\n</style>\n<table border=\"1\" class=\"dataframe\">\n  <thead>\n    <tr style=\"text-align: right;\">\n      <th></th>\n      <th>OriginalText</th>\n    </tr>\n  </thead>\n  <tbody>\n    <tr>\n      <th>AF1.txt</th>\n      <td>Wczoraj rano przytrafiło mi się coś miłego. Pr...</td>\n    </tr>\n    <tr>\n      <th>AF10.txt</th>\n      <td>Pan Dussel, człowiek, o którym zawsze mówiono,...</td>\n    </tr>\n    <tr>\n      <th>AF11.txt</th>\n      <td>Jakbym w ciągu dnia nie słyszała wystarczająco...</td>\n    </tr>\n    <tr>\n      <th>AF12.txt</th>\n      <td>Pienię się z wściekłości, a nie wolno mi tego ...</td>\n    </tr>\n    <tr>\n      <th>AF13.txt</th>\n      <td>Wszyscy uważają, że jestem przesadna, gdy mówi...</td>\n    </tr>\n  </tbody>\n</table>\n</div>"
     },
     "execution_count": 37,
     "metadata": {},
     "output_type": "execute_result"
    }
   ],
   "source": [
    "import pandas as pd\n",
    "text_df = pd.DataFrame.from_dict(data, orient='index')\n",
    "text_df = text_df.rename(columns={0 : \"OriginalText\"})\n",
    "text_df.columns.values\n",
    "text_df.head()"
   ],
   "metadata": {
    "collapsed": false,
    "pycharm": {
     "name": "#%%\n"
    }
   }
  },
  {
   "cell_type": "code",
   "execution_count": 77,
   "outputs": [],
   "source": [
    "import re\n",
    "import string\n",
    "\n",
    "def clean_text(text : str):\n",
    "    '''Make text lowercase, remove punctuation,and non-sensical text '''\n",
    "    text = text.lower()\n",
    "    text = re.sub('[%s]' % re.escape(string.punctuation), '', text)\n",
    "    text = re.sub('[‘’“”…]', '', text)\n",
    "    text = text.replace(' –', '')\n",
    "    text = re.sub('\\n', ' ', text)\n",
    "    return text"
   ],
   "metadata": {
    "collapsed": false,
    "pycharm": {
     "name": "#%%\n"
    }
   }
  },
  {
   "cell_type": "code",
   "execution_count": 81,
   "outputs": [
    {
     "name": "stdout",
     "output_type": "stream",
     "text": [
      "wczoraj rano przytrafiło mi się coś miłego przechodziłam obok przechowalni rowerów gdy ktoś mnie zawołał obejrzałam się i zobaczyłam za sobą przystojnego chłopaka którego spotkałam poprzedniego wieczora u wilmy jest jej dalekim kuzynem a wilma jest koleżanką z początku sądziłam że jest bardzo miła i faktycznie jest ale przez cały dzień nie mówi o niczym innym tylko o chłopakach a to staje się męczące chłopak trochę zmieszany podszedł nieco bliżej i przedstawił się jako hello silberberg byłam trochę zaskoczona i nie wiedziałam za bardzo czego chce ale to się szybko wyjaśniło chciał skorzystać z mojego towarzystwa i odprowadzić mnie do szkoły jeżeli i tak idziesz w tym samym kierunku to pójdę z tobą odpowiedziałam i poszliśmy razem hello ma już szesnaście lat i potrafi w ciekawy sposób opowiadać o przeróżnych rzeczach dziś rano znowu na mnie czekał i od tej pory tak już zostanie \n"
     ]
    },
    {
     "data": {
      "text/plain": "                                               OriginalText  \\\nAF1.txt   Wczoraj rano przytrafiło mi się coś miłego. Pr...   \nAF10.txt  Pan Dussel, człowiek, o którym zawsze mówiono,...   \nAF11.txt  Jakbym w ciągu dnia nie słyszała wystarczająco...   \nAF12.txt  Pienię się z wściekłości, a nie wolno mi tego ...   \nAF13.txt  Wszyscy uważają, że jestem przesadna, gdy mówi...   \n\n                                                CleanedText  \nAF1.txt   wczoraj rano przytrafiło mi się coś miłego prz...  \nAF10.txt  pan dussel człowiek o którym zawsze mówiono że...  \nAF11.txt  jakbym w ciągu dnia nie słyszała wystarczająco...  \nAF12.txt  pienię się z wściekłości a nie wolno mi tego o...  \nAF13.txt  wszyscy uważają że jestem przesadna gdy mówię ...  ",
      "text/html": "<div>\n<style scoped>\n    .dataframe tbody tr th:only-of-type {\n        vertical-align: middle;\n    }\n\n    .dataframe tbody tr th {\n        vertical-align: top;\n    }\n\n    .dataframe thead th {\n        text-align: right;\n    }\n</style>\n<table border=\"1\" class=\"dataframe\">\n  <thead>\n    <tr style=\"text-align: right;\">\n      <th></th>\n      <th>OriginalText</th>\n      <th>CleanedText</th>\n    </tr>\n  </thead>\n  <tbody>\n    <tr>\n      <th>AF1.txt</th>\n      <td>Wczoraj rano przytrafiło mi się coś miłego. Pr...</td>\n      <td>wczoraj rano przytrafiło mi się coś miłego prz...</td>\n    </tr>\n    <tr>\n      <th>AF10.txt</th>\n      <td>Pan Dussel, człowiek, o którym zawsze mówiono,...</td>\n      <td>pan dussel człowiek o którym zawsze mówiono że...</td>\n    </tr>\n    <tr>\n      <th>AF11.txt</th>\n      <td>Jakbym w ciągu dnia nie słyszała wystarczająco...</td>\n      <td>jakbym w ciągu dnia nie słyszała wystarczająco...</td>\n    </tr>\n    <tr>\n      <th>AF12.txt</th>\n      <td>Pienię się z wściekłości, a nie wolno mi tego ...</td>\n      <td>pienię się z wściekłości a nie wolno mi tego o...</td>\n    </tr>\n    <tr>\n      <th>AF13.txt</th>\n      <td>Wszyscy uważają, że jestem przesadna, gdy mówi...</td>\n      <td>wszyscy uważają że jestem przesadna gdy mówię ...</td>\n    </tr>\n  </tbody>\n</table>\n</div>"
     },
     "execution_count": 81,
     "metadata": {},
     "output_type": "execute_result"
    }
   ],
   "source": [
    "tab  = []\n",
    "for text in text_df['OriginalText']:\n",
    "    tab.append(clean_text(text))\n",
    "print(tab[0])\n",
    "text_df['CleanedText'] = tab\n",
    "text_df.head()\n",
    "\n",
    "\n"
   ],
   "metadata": {
    "collapsed": false,
    "pycharm": {
     "name": "#%%\n"
    }
   }
  },
  {
   "cell_type": "code",
   "execution_count": 87,
   "outputs": [
    {
     "name": "stdout",
     "output_type": "stream",
     "text": [
      "['wczoraj', 'rano', 'przytrafiło', 'mi', 'się', 'coś', 'miłego', 'przechodziłam', 'obok', 'przechowalni', 'rowerów', 'gdy', 'ktoś', 'mnie', 'zawołał', 'obejrzałam', 'się', 'i', 'zobaczyłam', 'za', 'sobą', 'przystojnego', 'chłopaka', 'którego', 'spotkałam', 'poprzedniego', 'wieczora', 'u', 'wilmy', 'jest', 'jej', 'dalekim', 'kuzynem', 'a', 'wilma', 'jest', 'koleżanką', 'z', 'początku', 'sądziłam', 'że', 'jest', 'bardzo', 'miła', 'i', 'faktycznie', 'jest', 'ale', 'przez', 'cały', 'dzień', 'nie', 'mówi', 'o', 'niczym', 'innym', 'tylko', 'o', 'chłopakach', 'a', 'to', 'staje', 'się', 'męczące', 'chłopak', 'trochę', 'zmieszany', 'podszedł', 'nieco', 'bliżej', 'i', 'przedstawił', 'się', 'jako', 'hello', 'silberberg', 'byłam', 'trochę', 'zaskoczona', 'i', 'nie', 'wiedziałam', 'za', 'bardzo', 'czego', 'chce', 'ale', 'to', 'się', 'szybko', 'wyjaśniło', 'chciał', 'skorzystać', 'z', 'mojego', 'towarzystwa', 'i', 'odprowadzić', 'mnie', 'do', 'szkoły', 'jeżeli', 'i', 'tak', 'idziesz', 'w', 'tym', 'samym', 'kierunku', 'to', 'pójdę', 'z', 'tobą', 'odpowiedziałam', 'i', 'poszliśmy', 'razem', 'hello', 'ma', 'już', 'szesnaście', 'lat', 'i', 'potrafi', 'w', 'ciekawy', 'sposób', 'opowiadać', 'o', 'przeróżnych', 'rzeczach', 'dziś', 'rano', 'znowu', 'na', 'mnie', 'czekał', 'i', 'od', 'tej', 'pory', 'tak', 'już', 'zostanie']\n"
     ]
    },
    {
     "data": {
      "text/plain": "                                               OriginalText  \\\nAF1.txt   Wczoraj rano przytrafiło mi się coś miłego. Pr...   \nAF10.txt  Pan Dussel, człowiek, o którym zawsze mówiono,...   \nAF11.txt  Jakbym w ciągu dnia nie słyszała wystarczająco...   \nAF12.txt  Pienię się z wściekłości, a nie wolno mi tego ...   \nAF13.txt  Wszyscy uważają, że jestem przesadna, gdy mówi...   \n\n                                                CleanedText  \\\nAF1.txt   wczoraj rano przytrafiło mi się coś miłego prz...   \nAF10.txt  pan dussel człowiek o którym zawsze mówiono że...   \nAF11.txt  jakbym w ciągu dnia nie słyszała wystarczająco...   \nAF12.txt  pienię się z wściekłości a nie wolno mi tego o...   \nAF13.txt  wszyscy uważają że jestem przesadna gdy mówię ...   \n\n                                                   WordList  \nAF1.txt   [wczoraj, rano, przytrafiło, mi, się, coś, mił...  \nAF10.txt  [pan, dussel, człowiek, o, którym, zawsze, mów...  \nAF11.txt  [jakbym, w, ciągu, dnia, nie, słyszała, wystar...  \nAF12.txt  [pienię, się, z, wściekłości, a, nie, wolno, m...  \nAF13.txt  [wszyscy, uważają, że, jestem, przesadna, gdy,...  ",
      "text/html": "<div>\n<style scoped>\n    .dataframe tbody tr th:only-of-type {\n        vertical-align: middle;\n    }\n\n    .dataframe tbody tr th {\n        vertical-align: top;\n    }\n\n    .dataframe thead th {\n        text-align: right;\n    }\n</style>\n<table border=\"1\" class=\"dataframe\">\n  <thead>\n    <tr style=\"text-align: right;\">\n      <th></th>\n      <th>OriginalText</th>\n      <th>CleanedText</th>\n      <th>WordList</th>\n    </tr>\n  </thead>\n  <tbody>\n    <tr>\n      <th>AF1.txt</th>\n      <td>Wczoraj rano przytrafiło mi się coś miłego. Pr...</td>\n      <td>wczoraj rano przytrafiło mi się coś miłego prz...</td>\n      <td>[wczoraj, rano, przytrafiło, mi, się, coś, mił...</td>\n    </tr>\n    <tr>\n      <th>AF10.txt</th>\n      <td>Pan Dussel, człowiek, o którym zawsze mówiono,...</td>\n      <td>pan dussel człowiek o którym zawsze mówiono że...</td>\n      <td>[pan, dussel, człowiek, o, którym, zawsze, mów...</td>\n    </tr>\n    <tr>\n      <th>AF11.txt</th>\n      <td>Jakbym w ciągu dnia nie słyszała wystarczająco...</td>\n      <td>jakbym w ciągu dnia nie słyszała wystarczająco...</td>\n      <td>[jakbym, w, ciągu, dnia, nie, słyszała, wystar...</td>\n    </tr>\n    <tr>\n      <th>AF12.txt</th>\n      <td>Pienię się z wściekłości, a nie wolno mi tego ...</td>\n      <td>pienię się z wściekłości a nie wolno mi tego o...</td>\n      <td>[pienię, się, z, wściekłości, a, nie, wolno, m...</td>\n    </tr>\n    <tr>\n      <th>AF13.txt</th>\n      <td>Wszyscy uważają, że jestem przesadna, gdy mówi...</td>\n      <td>wszyscy uważają że jestem przesadna gdy mówię ...</td>\n      <td>[wszyscy, uważają, że, jestem, przesadna, gdy,...</td>\n    </tr>\n  </tbody>\n</table>\n</div>"
     },
     "execution_count": 87,
     "metadata": {},
     "output_type": "execute_result"
    }
   ],
   "source": [
    "tab = []\n",
    "for text in text_df['CleanedText']:\n",
    "    tab.append(text.split())\n",
    "print(tab[0])\n",
    "text_df['WordList'] = tab\n",
    "text_df.head()"
   ],
   "metadata": {
    "collapsed": false,
    "pycharm": {
     "name": "#%%\n"
    }
   }
  },
  {
   "cell_type": "code",
   "execution_count": 101,
   "outputs": [],
   "source": [
    "text_df.to_pickle(r'data\\text_df.pkl')\n"
   ],
   "metadata": {
    "collapsed": false,
    "pycharm": {
     "name": "#%%\n"
    }
   }
  }
 ],
 "metadata": {
  "kernelspec": {
   "name": "pycharm-e6d2a138",
   "language": "python",
   "display_name": "PyCharm (CommandFiles)"
  },
  "language_info": {
   "codemirror_mode": {
    "name": "ipython",
    "version": 2
   },
   "file_extension": ".py",
   "mimetype": "text/x-python",
   "name": "python",
   "nbconvert_exporter": "python",
   "pygments_lexer": "ipython2",
   "version": "2.7.6"
  }
 },
 "nbformat": 4,
 "nbformat_minor": 0
}