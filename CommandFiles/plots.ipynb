{
 "cells": [
  {
   "cell_type": "code",
   "execution_count": 7,
   "metadata": {
    "collapsed": true
   },
   "outputs": [],
   "source": [
    "\n",
    "from ordinal_classifier import OrdinalClassifier\n",
    "import pandas as pd\n",
    "from DashApp.func import Classifier\n",
    "import plotly.graph_objects as go\n",
    "import plotly.express as px\n",
    "from sklearn.feature_extraction.text import CountVectorizer, TfidfVectorizer\n",
    "from sklearn.metrics import confusion_matrix, accuracy_score, precision_score, recall_score, f1_score\n",
    "from sklearn.model_selection import train_test_split\n",
    "from sklearn.naive_bayes import MultinomialNB\n",
    "import sklearn.metrics\n",
    "from sklearn import svm\n",
    "import copy\n",
    "from sklearn.model_selection import cross_val_predict, cross_validate\n",
    "import matplotlib.pyplot as plt\n",
    "df = pd.read_pickle(r'data\\data_df.pkl')\n",
    "\n",
    "df_BA = pd.read_pickle(r'data\\MNB_all_score.pkl')\n",
    "df_BS = pd.read_pickle(r'data\\MNB_noSW_score.pkl')\n",
    "df_BAO = pd.read_pickle(r'data\\MNB_all_ord_score.pkl')\n",
    "df_BSO = pd.read_pickle(r'data\\MNB_noSW_ord_score.pkl')\n",
    "\n",
    "df_SA = pd.read_pickle(r'data\\SVM_all_score.pkl')\n",
    "df_SS = pd.read_pickle(r'data\\SVM_noSW_score.pkl')\n",
    "df_SAO = pd.read_pickle(r'data\\SVM_all_ord_score.pkl')\n",
    "df_SSO = pd.read_pickle(r'data\\SVM_noSW_ord_score.pkl')\n",
    "df.head()\n",
    "\n",
    "emotions = ['Sentyment_nom', 'Lubienie', 'Wstręt', 'Złość', 'Strach', 'Zaskoczenie', 'Oczekiwanie', 'Radość',\n",
    "                         'Smutek']"
   ]
  },
  {
   "cell_type": "code",
   "execution_count": 8,
   "outputs": [],
   "source": [
    "with pd.ExcelWriter('output.xlsx') as writer:\n",
    "    df_BA.to_excel(writer, sheet_name='Sheet_name_1')\n",
    "    df_BS.to_excel(writer, sheet_name='Sheet_name_2')\n",
    "    df_BAO.to_excel(writer, sheet_name='Sheet_name_3')\n",
    "    df_BSO.to_excel(writer, sheet_name='Sheet_name_4')\n",
    "\n",
    "    df_SA.to_excel(writer, sheet_name='Sheet_name_5')\n",
    "    df_SS.to_excel(writer, sheet_name='Sheet_name_6')\n",
    "    df_SAO.to_excel(writer, sheet_name='Sheet_name_7')\n",
    "    df_SSO.to_excel(writer, sheet_name='Sheet_name_8')\n",
    "\n"
   ],
   "metadata": {
    "collapsed": false,
    "pycharm": {
     "name": "#%%\n"
    }
   }
  },
  {
   "cell_type": "code",
   "execution_count": 9,
   "outputs": [],
   "source": [
    "# for emo in emotions:\n",
    "#     print(emo)\n",
    "#     print(df[emo].value_counts())\n"
   ],
   "metadata": {
    "collapsed": false,
    "pycharm": {
     "name": "#%%\n"
    }
   }
  }
 ],
 "metadata": {
  "kernelspec": {
   "name": "pycharm-e6d2a138",
   "language": "python",
   "display_name": "PyCharm (CommandFiles)"
  },
  "language_info": {
   "codemirror_mode": {
    "name": "ipython",
    "version": 2
   },
   "file_extension": ".py",
   "mimetype": "text/x-python",
   "name": "python",
   "nbconvert_exporter": "python",
   "pygments_lexer": "ipython2",
   "version": "2.7.6"
  }
 },
 "nbformat": 4,
 "nbformat_minor": 0
}