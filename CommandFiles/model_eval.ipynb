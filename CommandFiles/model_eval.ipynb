{
 "cells": [
  {
   "cell_type": "code",
   "execution_count": 71,
   "metadata": {
    "collapsed": true
   },
   "outputs": [
    {
     "data": {
      "text/plain": "                                               OriginalText  \\\nAF1.txt   Wczoraj rano przytrafiło mi się coś miłego. Pr...   \nAF10.txt  Pan Dussel, człowiek, o którym zawsze mówiono,...   \nAF11.txt  Jakbym w ciągu dnia nie słyszała wystarczająco...   \nAF12.txt  Pienię się z wściekłości, a nie wolno mi tego ...   \nAF13.txt  Wszyscy uważają, że jestem przesadna, gdy mówi...   \n\n                                                CleanedText  \\\nAF1.txt   wczoraj rano przytrafiło mi się coś miłego prz...   \nAF10.txt  pan dussel człowiek o którym zawsze mówiono że...   \nAF11.txt  jakbym w ciągu dnia nie słyszała wystarczająco...   \nAF12.txt  pienię się z wściekłości a nie wolno mi tego o...   \nAF13.txt  wszyscy uważają że jestem przesadna gdy mówię ...   \n\n                                                   WordList  Sentyment  \\\nAF1.txt   [wczoraj, rano, przytrafiło, mi, się, coś, mił...        5.0   \nAF10.txt  [pan, dussel, człowiek, o, którym, zawsze, mów...        1.0   \nAF11.txt  [jakbym, w, ciągu, dnia, nie, słyszała, wystar...        1.0   \nAF12.txt  [pienię, się, z, wściekłości, a, nie, wolno, m...        1.0   \nAF13.txt  [wszyscy, uważają, że, jestem, przesadna, gdy,...        1.0   \n\n          Lubienie  Wstręt  Złość  Strach  Zaskoczenie  Oczekiwanie  Radość  \\\nAF1.txt        2.0     0.0    0.0     0.0          3.0          0.0     2.0   \nAF10.txt       0.0     1.0    4.0     0.0          0.0          1.0     0.0   \nAF11.txt       0.0     1.0    3.0     1.0          0.0          1.0     0.0   \nAF12.txt       0.0     2.0    4.0     0.0          0.0          0.0     0.0   \nAF13.txt       0.0     2.0    4.0     0.0          0.0          0.0     0.0   \n\n          Smutek                                          RemovedSW  \\\nAF1.txt      0.0  wczoraj rano przytrafiło miłego przechodziłam ...   \nAF10.txt     2.0  dussel człowiek mówiono umie świetnie radzić d...   \nAF11.txt     2.0  jakbym ciągu dnia słyszała wystarczająco „psst...   \nAF12.txt     0.0  pienię wściekłości wolno okazać chciałabym tup...   \nAF13.txt     3.0  uważają przesadna mówię śmieszna milczę bezcze...   \n\n          Sentyment_nom  \nAF1.txt               1  \nAF10.txt             -1  \nAF11.txt             -1  \nAF12.txt             -1  \nAF13.txt             -1  ",
      "text/html": "<div>\n<style scoped>\n    .dataframe tbody tr th:only-of-type {\n        vertical-align: middle;\n    }\n\n    .dataframe tbody tr th {\n        vertical-align: top;\n    }\n\n    .dataframe thead th {\n        text-align: right;\n    }\n</style>\n<table border=\"1\" class=\"dataframe\">\n  <thead>\n    <tr style=\"text-align: right;\">\n      <th></th>\n      <th>OriginalText</th>\n      <th>CleanedText</th>\n      <th>WordList</th>\n      <th>Sentyment</th>\n      <th>Lubienie</th>\n      <th>Wstręt</th>\n      <th>Złość</th>\n      <th>Strach</th>\n      <th>Zaskoczenie</th>\n      <th>Oczekiwanie</th>\n      <th>Radość</th>\n      <th>Smutek</th>\n      <th>RemovedSW</th>\n      <th>Sentyment_nom</th>\n    </tr>\n  </thead>\n  <tbody>\n    <tr>\n      <th>AF1.txt</th>\n      <td>Wczoraj rano przytrafiło mi się coś miłego. Pr...</td>\n      <td>wczoraj rano przytrafiło mi się coś miłego prz...</td>\n      <td>[wczoraj, rano, przytrafiło, mi, się, coś, mił...</td>\n      <td>5.0</td>\n      <td>2.0</td>\n      <td>0.0</td>\n      <td>0.0</td>\n      <td>0.0</td>\n      <td>3.0</td>\n      <td>0.0</td>\n      <td>2.0</td>\n      <td>0.0</td>\n      <td>wczoraj rano przytrafiło miłego przechodziłam ...</td>\n      <td>1</td>\n    </tr>\n    <tr>\n      <th>AF10.txt</th>\n      <td>Pan Dussel, człowiek, o którym zawsze mówiono,...</td>\n      <td>pan dussel człowiek o którym zawsze mówiono że...</td>\n      <td>[pan, dussel, człowiek, o, którym, zawsze, mów...</td>\n      <td>1.0</td>\n      <td>0.0</td>\n      <td>1.0</td>\n      <td>4.0</td>\n      <td>0.0</td>\n      <td>0.0</td>\n      <td>1.0</td>\n      <td>0.0</td>\n      <td>2.0</td>\n      <td>dussel człowiek mówiono umie świetnie radzić d...</td>\n      <td>-1</td>\n    </tr>\n    <tr>\n      <th>AF11.txt</th>\n      <td>Jakbym w ciągu dnia nie słyszała wystarczająco...</td>\n      <td>jakbym w ciągu dnia nie słyszała wystarczająco...</td>\n      <td>[jakbym, w, ciągu, dnia, nie, słyszała, wystar...</td>\n      <td>1.0</td>\n      <td>0.0</td>\n      <td>1.0</td>\n      <td>3.0</td>\n      <td>1.0</td>\n      <td>0.0</td>\n      <td>1.0</td>\n      <td>0.0</td>\n      <td>2.0</td>\n      <td>jakbym ciągu dnia słyszała wystarczająco „psst...</td>\n      <td>-1</td>\n    </tr>\n    <tr>\n      <th>AF12.txt</th>\n      <td>Pienię się z wściekłości, a nie wolno mi tego ...</td>\n      <td>pienię się z wściekłości a nie wolno mi tego o...</td>\n      <td>[pienię, się, z, wściekłości, a, nie, wolno, m...</td>\n      <td>1.0</td>\n      <td>0.0</td>\n      <td>2.0</td>\n      <td>4.0</td>\n      <td>0.0</td>\n      <td>0.0</td>\n      <td>0.0</td>\n      <td>0.0</td>\n      <td>0.0</td>\n      <td>pienię wściekłości wolno okazać chciałabym tup...</td>\n      <td>-1</td>\n    </tr>\n    <tr>\n      <th>AF13.txt</th>\n      <td>Wszyscy uważają, że jestem przesadna, gdy mówi...</td>\n      <td>wszyscy uważają że jestem przesadna gdy mówię ...</td>\n      <td>[wszyscy, uważają, że, jestem, przesadna, gdy,...</td>\n      <td>1.0</td>\n      <td>0.0</td>\n      <td>2.0</td>\n      <td>4.0</td>\n      <td>0.0</td>\n      <td>0.0</td>\n      <td>0.0</td>\n      <td>0.0</td>\n      <td>3.0</td>\n      <td>uważają przesadna mówię śmieszna milczę bezcze...</td>\n      <td>-1</td>\n    </tr>\n  </tbody>\n</table>\n</div>"
     },
     "execution_count": 71,
     "metadata": {},
     "output_type": "execute_result"
    }
   ],
   "source": [
    "from ordinal_classifier import OrdinalClassifier\n",
    "import pandas as pd\n",
    "from DashApp.func import Classifier\n",
    "import plotly.graph_objects as go\n",
    "import plotly.express as px\n",
    "from sklearn.feature_extraction.text import CountVectorizer, TfidfVectorizer\n",
    "from sklearn.metrics import confusion_matrix, accuracy_score, precision_score, recall_score, f1_score\n",
    "from sklearn.model_selection import train_test_split\n",
    "from sklearn.naive_bayes import MultinomialNB\n",
    "import sklearn.metrics\n",
    "from sklearn import svm\n",
    "import copy\n",
    "from sklearn.model_selection import cross_val_predict, cross_validate\n",
    "df = pd.read_pickle(r'data\\data_df.pkl')\n",
    "df.head()"
   ]
  },
  {
   "cell_type": "code",
   "execution_count": 97,
   "outputs": [],
   "source": [
    "emotions = ['Lubienie', 'Wstręt', 'Złość', 'Strach', 'Zaskoczenie', 'Oczekiwanie', 'Radość',\n",
    "                         'Smutek']\n",
    "X = df['CleanedText']\n",
    "vector = CountVectorizer()\n",
    "X_vec = vector.fit_transform(X).toarray()"
   ],
   "metadata": {
    "collapsed": false,
    "pycharm": {
     "name": "#%%\n"
    }
   }
  },
  {
   "cell_type": "code",
   "execution_count": 70,
   "outputs": [
    {
     "ename": "TypeError",
     "evalue": "Cannot clone object '<ordinal_classifier.OrdinalClassifier object at 0x0000015FC0F71130>' (type <class 'ordinal_classifier.OrdinalClassifier'>): it does not seem to be a scikit-learn estimator as it does not implement a 'get_params' method.",
     "output_type": "error",
     "traceback": [
      "\u001B[1;31m---------------------------------------------------------------------------\u001B[0m",
      "\u001B[1;31mEmpty\u001B[0m                                     Traceback (most recent call last)",
      "\u001B[1;32mD:\\praca-inzynierska\\CommandFiles\\venv\\lib\\site-packages\\joblib\\parallel.py\u001B[0m in \u001B[0;36mdispatch_one_batch\u001B[1;34m(self, iterator)\u001B[0m\n\u001B[0;32m    821\u001B[0m             \u001B[1;32mtry\u001B[0m\u001B[1;33m:\u001B[0m\u001B[1;33m\u001B[0m\u001B[1;33m\u001B[0m\u001B[0m\n\u001B[1;32m--> 822\u001B[1;33m                 \u001B[0mtasks\u001B[0m \u001B[1;33m=\u001B[0m \u001B[0mself\u001B[0m\u001B[1;33m.\u001B[0m\u001B[0m_ready_batches\u001B[0m\u001B[1;33m.\u001B[0m\u001B[0mget\u001B[0m\u001B[1;33m(\u001B[0m\u001B[0mblock\u001B[0m\u001B[1;33m=\u001B[0m\u001B[1;32mFalse\u001B[0m\u001B[1;33m)\u001B[0m\u001B[1;33m\u001B[0m\u001B[1;33m\u001B[0m\u001B[0m\n\u001B[0m\u001B[0;32m    823\u001B[0m             \u001B[1;32mexcept\u001B[0m \u001B[0mqueue\u001B[0m\u001B[1;33m.\u001B[0m\u001B[0mEmpty\u001B[0m\u001B[1;33m:\u001B[0m\u001B[1;33m\u001B[0m\u001B[1;33m\u001B[0m\u001B[0m\n",
      "\u001B[1;32mC:\\Program Files\\Python38\\lib\\queue.py\u001B[0m in \u001B[0;36mget\u001B[1;34m(self, block, timeout)\u001B[0m\n\u001B[0;32m    166\u001B[0m                 \u001B[1;32mif\u001B[0m \u001B[1;32mnot\u001B[0m \u001B[0mself\u001B[0m\u001B[1;33m.\u001B[0m\u001B[0m_qsize\u001B[0m\u001B[1;33m(\u001B[0m\u001B[1;33m)\u001B[0m\u001B[1;33m:\u001B[0m\u001B[1;33m\u001B[0m\u001B[1;33m\u001B[0m\u001B[0m\n\u001B[1;32m--> 167\u001B[1;33m                     \u001B[1;32mraise\u001B[0m \u001B[0mEmpty\u001B[0m\u001B[1;33m\u001B[0m\u001B[1;33m\u001B[0m\u001B[0m\n\u001B[0m\u001B[0;32m    168\u001B[0m             \u001B[1;32melif\u001B[0m \u001B[0mtimeout\u001B[0m \u001B[1;32mis\u001B[0m \u001B[1;32mNone\u001B[0m\u001B[1;33m:\u001B[0m\u001B[1;33m\u001B[0m\u001B[1;33m\u001B[0m\u001B[0m\n",
      "\u001B[1;31mEmpty\u001B[0m: ",
      "\nDuring handling of the above exception, another exception occurred:\n",
      "\u001B[1;31mTypeError\u001B[0m                                 Traceback (most recent call last)",
      "\u001B[1;32m~\\AppData\\Local\\Temp/ipykernel_10356/1062419081.py\u001B[0m in \u001B[0;36m<module>\u001B[1;34m\u001B[0m\n\u001B[0;32m      2\u001B[0m \u001B[1;32mfor\u001B[0m \u001B[0memo\u001B[0m \u001B[1;32min\u001B[0m \u001B[0memotions\u001B[0m\u001B[1;33m:\u001B[0m\u001B[1;33m\u001B[0m\u001B[1;33m\u001B[0m\u001B[0m\n\u001B[0;32m      3\u001B[0m     \u001B[0mylabels\u001B[0m \u001B[1;33m=\u001B[0m \u001B[0mdf\u001B[0m\u001B[1;33m[\u001B[0m\u001B[0memo\u001B[0m\u001B[1;33m]\u001B[0m\u001B[1;33m\u001B[0m\u001B[1;33m\u001B[0m\u001B[0m\n\u001B[1;32m----> 4\u001B[1;33m     \u001B[0mscores\u001B[0m \u001B[1;33m=\u001B[0m \u001B[0mcross_validate\u001B[0m\u001B[1;33m(\u001B[0m\u001B[0mOrdinalClassifier\u001B[0m\u001B[1;33m(\u001B[0m\u001B[0msvm\u001B[0m\u001B[1;33m.\u001B[0m\u001B[0mSVC\u001B[0m\u001B[1;33m(\u001B[0m\u001B[0mprobability\u001B[0m\u001B[1;33m=\u001B[0m\u001B[1;32mTrue\u001B[0m\u001B[1;33m)\u001B[0m\u001B[1;33m)\u001B[0m\u001B[1;33m,\u001B[0m \u001B[0mX_vec\u001B[0m\u001B[1;33m,\u001B[0m \u001B[0mylabels\u001B[0m\u001B[1;33m,\u001B[0m \u001B[0mscoring\u001B[0m\u001B[1;33m=\u001B[0m\u001B[1;33m(\u001B[0m\u001B[1;34m'accuracy'\u001B[0m\u001B[1;33m,\u001B[0m \u001B[1;34m'f1_macro'\u001B[0m\u001B[1;33m,\u001B[0m \u001B[1;34m'precision_macro'\u001B[0m\u001B[1;33m,\u001B[0m \u001B[1;34m'recall_macro'\u001B[0m\u001B[1;33m)\u001B[0m\u001B[1;33m)\u001B[0m\u001B[1;33m\u001B[0m\u001B[1;33m\u001B[0m\u001B[0m\n\u001B[0m\u001B[0;32m      5\u001B[0m     \u001B[1;32mfor\u001B[0m \u001B[0mkeys\u001B[0m \u001B[1;32min\u001B[0m \u001B[0mscores\u001B[0m\u001B[1;33m.\u001B[0m\u001B[0mkeys\u001B[0m\u001B[1;33m(\u001B[0m\u001B[1;33m)\u001B[0m\u001B[1;33m:\u001B[0m\u001B[1;33m\u001B[0m\u001B[1;33m\u001B[0m\u001B[0m\n\u001B[0;32m      6\u001B[0m         \u001B[0mscores\u001B[0m\u001B[1;33m[\u001B[0m\u001B[0mkeys\u001B[0m\u001B[1;33m]\u001B[0m \u001B[1;33m=\u001B[0m \u001B[0mscores\u001B[0m\u001B[1;33m[\u001B[0m\u001B[0mkeys\u001B[0m\u001B[1;33m]\u001B[0m\u001B[1;33m.\u001B[0m\u001B[0mmean\u001B[0m\u001B[1;33m(\u001B[0m\u001B[1;33m)\u001B[0m\u001B[1;33m\u001B[0m\u001B[1;33m\u001B[0m\u001B[0m\n",
      "\u001B[1;32mD:\\praca-inzynierska\\CommandFiles\\venv\\lib\\site-packages\\sklearn\\model_selection\\_validation.py\u001B[0m in \u001B[0;36mcross_validate\u001B[1;34m(estimator, X, y, groups, scoring, cv, n_jobs, verbose, fit_params, pre_dispatch, return_train_score, return_estimator, error_score)\u001B[0m\n\u001B[0;32m    265\u001B[0m     \u001B[1;31m# independent, and that it is pickle-able.\u001B[0m\u001B[1;33m\u001B[0m\u001B[1;33m\u001B[0m\u001B[1;33m\u001B[0m\u001B[0m\n\u001B[0;32m    266\u001B[0m     \u001B[0mparallel\u001B[0m \u001B[1;33m=\u001B[0m \u001B[0mParallel\u001B[0m\u001B[1;33m(\u001B[0m\u001B[0mn_jobs\u001B[0m\u001B[1;33m=\u001B[0m\u001B[0mn_jobs\u001B[0m\u001B[1;33m,\u001B[0m \u001B[0mverbose\u001B[0m\u001B[1;33m=\u001B[0m\u001B[0mverbose\u001B[0m\u001B[1;33m,\u001B[0m \u001B[0mpre_dispatch\u001B[0m\u001B[1;33m=\u001B[0m\u001B[0mpre_dispatch\u001B[0m\u001B[1;33m)\u001B[0m\u001B[1;33m\u001B[0m\u001B[1;33m\u001B[0m\u001B[0m\n\u001B[1;32m--> 267\u001B[1;33m     results = parallel(\n\u001B[0m\u001B[0;32m    268\u001B[0m         delayed(_fit_and_score)(\n\u001B[0;32m    269\u001B[0m             \u001B[0mclone\u001B[0m\u001B[1;33m(\u001B[0m\u001B[0mestimator\u001B[0m\u001B[1;33m)\u001B[0m\u001B[1;33m,\u001B[0m\u001B[1;33m\u001B[0m\u001B[1;33m\u001B[0m\u001B[0m\n",
      "\u001B[1;32mD:\\praca-inzynierska\\CommandFiles\\venv\\lib\\site-packages\\joblib\\parallel.py\u001B[0m in \u001B[0;36m__call__\u001B[1;34m(self, iterable)\u001B[0m\n\u001B[0;32m   1041\u001B[0m             \u001B[1;31m# remaining jobs.\u001B[0m\u001B[1;33m\u001B[0m\u001B[1;33m\u001B[0m\u001B[1;33m\u001B[0m\u001B[0m\n\u001B[0;32m   1042\u001B[0m             \u001B[0mself\u001B[0m\u001B[1;33m.\u001B[0m\u001B[0m_iterating\u001B[0m \u001B[1;33m=\u001B[0m \u001B[1;32mFalse\u001B[0m\u001B[1;33m\u001B[0m\u001B[1;33m\u001B[0m\u001B[0m\n\u001B[1;32m-> 1043\u001B[1;33m             \u001B[1;32mif\u001B[0m \u001B[0mself\u001B[0m\u001B[1;33m.\u001B[0m\u001B[0mdispatch_one_batch\u001B[0m\u001B[1;33m(\u001B[0m\u001B[0miterator\u001B[0m\u001B[1;33m)\u001B[0m\u001B[1;33m:\u001B[0m\u001B[1;33m\u001B[0m\u001B[1;33m\u001B[0m\u001B[0m\n\u001B[0m\u001B[0;32m   1044\u001B[0m                 \u001B[0mself\u001B[0m\u001B[1;33m.\u001B[0m\u001B[0m_iterating\u001B[0m \u001B[1;33m=\u001B[0m \u001B[0mself\u001B[0m\u001B[1;33m.\u001B[0m\u001B[0m_original_iterator\u001B[0m \u001B[1;32mis\u001B[0m \u001B[1;32mnot\u001B[0m \u001B[1;32mNone\u001B[0m\u001B[1;33m\u001B[0m\u001B[1;33m\u001B[0m\u001B[0m\n\u001B[0;32m   1045\u001B[0m \u001B[1;33m\u001B[0m\u001B[0m\n",
      "\u001B[1;32mD:\\praca-inzynierska\\CommandFiles\\venv\\lib\\site-packages\\joblib\\parallel.py\u001B[0m in \u001B[0;36mdispatch_one_batch\u001B[1;34m(self, iterator)\u001B[0m\n\u001B[0;32m    831\u001B[0m                 \u001B[0mbig_batch_size\u001B[0m \u001B[1;33m=\u001B[0m \u001B[0mbatch_size\u001B[0m \u001B[1;33m*\u001B[0m \u001B[0mn_jobs\u001B[0m\u001B[1;33m\u001B[0m\u001B[1;33m\u001B[0m\u001B[0m\n\u001B[0;32m    832\u001B[0m \u001B[1;33m\u001B[0m\u001B[0m\n\u001B[1;32m--> 833\u001B[1;33m                 \u001B[0mislice\u001B[0m \u001B[1;33m=\u001B[0m \u001B[0mlist\u001B[0m\u001B[1;33m(\u001B[0m\u001B[0mitertools\u001B[0m\u001B[1;33m.\u001B[0m\u001B[0mislice\u001B[0m\u001B[1;33m(\u001B[0m\u001B[0miterator\u001B[0m\u001B[1;33m,\u001B[0m \u001B[0mbig_batch_size\u001B[0m\u001B[1;33m)\u001B[0m\u001B[1;33m)\u001B[0m\u001B[1;33m\u001B[0m\u001B[1;33m\u001B[0m\u001B[0m\n\u001B[0m\u001B[0;32m    834\u001B[0m                 \u001B[1;32mif\u001B[0m \u001B[0mlen\u001B[0m\u001B[1;33m(\u001B[0m\u001B[0mislice\u001B[0m\u001B[1;33m)\u001B[0m \u001B[1;33m==\u001B[0m \u001B[1;36m0\u001B[0m\u001B[1;33m:\u001B[0m\u001B[1;33m\u001B[0m\u001B[1;33m\u001B[0m\u001B[0m\n\u001B[0;32m    835\u001B[0m                     \u001B[1;32mreturn\u001B[0m \u001B[1;32mFalse\u001B[0m\u001B[1;33m\u001B[0m\u001B[1;33m\u001B[0m\u001B[0m\n",
      "\u001B[1;32mD:\\praca-inzynierska\\CommandFiles\\venv\\lib\\site-packages\\sklearn\\model_selection\\_validation.py\u001B[0m in \u001B[0;36m<genexpr>\u001B[1;34m(.0)\u001B[0m\n\u001B[0;32m    267\u001B[0m     results = parallel(\n\u001B[0;32m    268\u001B[0m         delayed(_fit_and_score)(\n\u001B[1;32m--> 269\u001B[1;33m             \u001B[0mclone\u001B[0m\u001B[1;33m(\u001B[0m\u001B[0mestimator\u001B[0m\u001B[1;33m)\u001B[0m\u001B[1;33m,\u001B[0m\u001B[1;33m\u001B[0m\u001B[1;33m\u001B[0m\u001B[0m\n\u001B[0m\u001B[0;32m    270\u001B[0m             \u001B[0mX\u001B[0m\u001B[1;33m,\u001B[0m\u001B[1;33m\u001B[0m\u001B[1;33m\u001B[0m\u001B[0m\n\u001B[0;32m    271\u001B[0m             \u001B[0my\u001B[0m\u001B[1;33m,\u001B[0m\u001B[1;33m\u001B[0m\u001B[1;33m\u001B[0m\u001B[0m\n",
      "\u001B[1;32mD:\\praca-inzynierska\\CommandFiles\\venv\\lib\\site-packages\\sklearn\\base.py\u001B[0m in \u001B[0;36mclone\u001B[1;34m(estimator, safe)\u001B[0m\n\u001B[0;32m     74\u001B[0m                 )\n\u001B[0;32m     75\u001B[0m             \u001B[1;32melse\u001B[0m\u001B[1;33m:\u001B[0m\u001B[1;33m\u001B[0m\u001B[1;33m\u001B[0m\u001B[0m\n\u001B[1;32m---> 76\u001B[1;33m                 raise TypeError(\n\u001B[0m\u001B[0;32m     77\u001B[0m                     \u001B[1;34m\"Cannot clone object '%s' (type %s): \"\u001B[0m\u001B[1;33m\u001B[0m\u001B[1;33m\u001B[0m\u001B[0m\n\u001B[0;32m     78\u001B[0m                     \u001B[1;34m\"it does not seem to be a scikit-learn \"\u001B[0m\u001B[1;33m\u001B[0m\u001B[1;33m\u001B[0m\u001B[0m\n",
      "\u001B[1;31mTypeError\u001B[0m: Cannot clone object '<ordinal_classifier.OrdinalClassifier object at 0x0000015FC0F71130>' (type <class 'ordinal_classifier.OrdinalClassifier'>): it does not seem to be a scikit-learn estimator as it does not implement a 'get_params' method."
     ]
    }
   ],
   "source": [
    "dict = {}\n",
    "for emo in emotions:\n",
    "    ylabels = df[emo]\n",
    "    scores = cross_validate(OrdinalClassifier(svm.SVC(probability=True)), X_vec, ylabels, scoring=('accuracy', 'f1_macro', 'precision_macro', 'recall_macro'))\n",
    "    for keys in scores.keys():\n",
    "        scores[keys] = scores[keys].mean()\n",
    "    dict[emo] = scores\n",
    "\n",
    "\n",
    "print(dict)"
   ],
   "metadata": {
    "collapsed": false,
    "pycharm": {
     "name": "#%%\n"
    }
   }
  },
  {
   "cell_type": "code",
   "execution_count": null,
   "outputs": [],
   "source": [
    "score_df = pd.DataFrame(calc_acc(X_vec, emotions, MultinomialNB(), df))\n",
    "score_df.head()"
   ],
   "metadata": {
    "collapsed": false,
    "pycharm": {
     "name": "#%%\n"
    }
   }
  },
  {
   "cell_type": "code",
   "execution_count": null,
   "outputs": [],
   "source": [
    "score_df.drop(['fit_time', 'score_time'],axis=0, inplace=True)\n",
    "score_df.rename(index={'test_accuracy': 'accuracy', 'test_f1_macro' : 'f1', 'test_recall_macro' : 'recall', 'test_precision_macro' : 'precision'}, inplace=True)\n",
    "score_df = score_df.round(decimals=2)\n",
    "score_df.head()"
   ],
   "metadata": {
    "collapsed": false,
    "pycharm": {
     "name": "#%%\n"
    }
   }
  },
  {
   "cell_type": "code",
   "execution_count": null,
   "outputs": [],
   "source": [],
   "metadata": {
    "collapsed": false,
    "pycharm": {
     "name": "#%%\n"
    }
   }
  },
  {
   "cell_type": "code",
   "execution_count": null,
   "outputs": [],
   "source": [
    "score_df.to_pickle(r'data\\SVM_all_score.pkl')"
   ],
   "metadata": {
    "collapsed": false,
    "pycharm": {
     "name": "#%%\n"
    }
   }
  },
  {
   "cell_type": "code",
   "execution_count": 78,
   "outputs": [],
   "source": [
    "def predict_values_vec(X_vec, emotions, clf, df):\n",
    "    val_dict = {}\n",
    "    for emo in emotions:\n",
    "        ylabels = df[emo]\n",
    "        X_train, X_test, y_train, y_test = train_test_split(X_vec, ylabels, test_size=0.3)\n",
    "        ord_clf = OrdinalClassifier(clf)\n",
    "        ord_clf.fit(X_train, y_train)\n",
    "        y_pred = ord_clf.predict(X_test)\n",
    "        val_dict[emo] = (y_pred, y_test)\n",
    "\n",
    "    return val_dict\n",
    "\n",
    "\n",
    "\n",
    "def calc_acc(X_vec, emotions, clf, df):\n",
    "    dict = {}\n",
    "    val_dict = predict_values_vec(X_vec, emotions, clf, df)\n",
    "    for k in val_dict.keys():\n",
    "        y_pred, y_true = val_dict[k]\n",
    "        dict[k] = {'test_accuracy': accuracy_score(y_true, y_pred), 'test_f1_macro' : f1_score(y_true, y_pred, average='macro'), 'test_recall_macro' : recall_score(y_true, y_pred, average='macro'), 'test_precision_macro' : precision_score(y_true, y_pred, average='macro', zero_division=0)}\n",
    "    return dict"
   ],
   "metadata": {
    "collapsed": false,
    "pycharm": {
     "name": "#%%\n"
    }
   }
  },
  {
   "cell_type": "code",
   "execution_count": 98,
   "outputs": [
    {
     "data": {
      "text/plain": "                      Lubienie    Wstręt     Złość    Strach  Zaskoczenie  \\\ntest_accuracy         0.419355  0.354839  0.354839  0.483871     0.419355   \ntest_f1_macro         0.120930  0.104762  0.104762  0.130435     0.177328   \ntest_recall_macro     0.200000  0.183333  0.183333  0.200000     0.244444   \ntest_precision_macro  0.086667  0.073333  0.073333  0.096774     0.181481   \n\n                      Oczekiwanie    Radość    Smutek  \ntest_accuracy            0.516129  0.774194  0.225806  \ntest_f1_macro            0.170213  0.290909  0.116484  \ntest_recall_macro        0.250000  0.333333  0.183333  \ntest_precision_macro     0.129032  0.258065  0.085380  ",
      "text/html": "<div>\n<style scoped>\n    .dataframe tbody tr th:only-of-type {\n        vertical-align: middle;\n    }\n\n    .dataframe tbody tr th {\n        vertical-align: top;\n    }\n\n    .dataframe thead th {\n        text-align: right;\n    }\n</style>\n<table border=\"1\" class=\"dataframe\">\n  <thead>\n    <tr style=\"text-align: right;\">\n      <th></th>\n      <th>Lubienie</th>\n      <th>Wstręt</th>\n      <th>Złość</th>\n      <th>Strach</th>\n      <th>Zaskoczenie</th>\n      <th>Oczekiwanie</th>\n      <th>Radość</th>\n      <th>Smutek</th>\n    </tr>\n  </thead>\n  <tbody>\n    <tr>\n      <th>test_accuracy</th>\n      <td>0.419355</td>\n      <td>0.354839</td>\n      <td>0.354839</td>\n      <td>0.483871</td>\n      <td>0.419355</td>\n      <td>0.516129</td>\n      <td>0.774194</td>\n      <td>0.225806</td>\n    </tr>\n    <tr>\n      <th>test_f1_macro</th>\n      <td>0.120930</td>\n      <td>0.104762</td>\n      <td>0.104762</td>\n      <td>0.130435</td>\n      <td>0.177328</td>\n      <td>0.170213</td>\n      <td>0.290909</td>\n      <td>0.116484</td>\n    </tr>\n    <tr>\n      <th>test_recall_macro</th>\n      <td>0.200000</td>\n      <td>0.183333</td>\n      <td>0.183333</td>\n      <td>0.200000</td>\n      <td>0.244444</td>\n      <td>0.250000</td>\n      <td>0.333333</td>\n      <td>0.183333</td>\n    </tr>\n    <tr>\n      <th>test_precision_macro</th>\n      <td>0.086667</td>\n      <td>0.073333</td>\n      <td>0.073333</td>\n      <td>0.096774</td>\n      <td>0.181481</td>\n      <td>0.129032</td>\n      <td>0.258065</td>\n      <td>0.085380</td>\n    </tr>\n  </tbody>\n</table>\n</div>"
     },
     "execution_count": 98,
     "metadata": {},
     "output_type": "execute_result"
    }
   ],
   "source": [
    "score_df = pd.DataFrame(calc_acc(X_vec, emotions, svm.SVC(probability=True), df))\n",
    "score_df.head()"
   ],
   "metadata": {
    "collapsed": false,
    "pycharm": {
     "name": "#%%\n"
    }
   }
  },
  {
   "cell_type": "code",
   "execution_count": 99,
   "outputs": [
    {
     "data": {
      "text/plain": "           Lubienie  Wstręt  Złość  Strach  Zaskoczenie  Oczekiwanie  Radość  \\\naccuracy       0.42    0.35   0.35    0.48         0.42         0.52    0.77   \nf1             0.12    0.10   0.10    0.13         0.18         0.17    0.29   \nrecall         0.20    0.18   0.18    0.20         0.24         0.25    0.33   \nprecision      0.09    0.07   0.07    0.10         0.18         0.13    0.26   \n\n           Smutek  \naccuracy     0.23  \nf1           0.12  \nrecall       0.18  \nprecision    0.09  ",
      "text/html": "<div>\n<style scoped>\n    .dataframe tbody tr th:only-of-type {\n        vertical-align: middle;\n    }\n\n    .dataframe tbody tr th {\n        vertical-align: top;\n    }\n\n    .dataframe thead th {\n        text-align: right;\n    }\n</style>\n<table border=\"1\" class=\"dataframe\">\n  <thead>\n    <tr style=\"text-align: right;\">\n      <th></th>\n      <th>Lubienie</th>\n      <th>Wstręt</th>\n      <th>Złość</th>\n      <th>Strach</th>\n      <th>Zaskoczenie</th>\n      <th>Oczekiwanie</th>\n      <th>Radość</th>\n      <th>Smutek</th>\n    </tr>\n  </thead>\n  <tbody>\n    <tr>\n      <th>accuracy</th>\n      <td>0.42</td>\n      <td>0.35</td>\n      <td>0.35</td>\n      <td>0.48</td>\n      <td>0.42</td>\n      <td>0.52</td>\n      <td>0.77</td>\n      <td>0.23</td>\n    </tr>\n    <tr>\n      <th>f1</th>\n      <td>0.12</td>\n      <td>0.10</td>\n      <td>0.10</td>\n      <td>0.13</td>\n      <td>0.18</td>\n      <td>0.17</td>\n      <td>0.29</td>\n      <td>0.12</td>\n    </tr>\n    <tr>\n      <th>recall</th>\n      <td>0.20</td>\n      <td>0.18</td>\n      <td>0.18</td>\n      <td>0.20</td>\n      <td>0.24</td>\n      <td>0.25</td>\n      <td>0.33</td>\n      <td>0.18</td>\n    </tr>\n    <tr>\n      <th>precision</th>\n      <td>0.09</td>\n      <td>0.07</td>\n      <td>0.07</td>\n      <td>0.10</td>\n      <td>0.18</td>\n      <td>0.13</td>\n      <td>0.26</td>\n      <td>0.09</td>\n    </tr>\n  </tbody>\n</table>\n</div>"
     },
     "execution_count": 99,
     "metadata": {},
     "output_type": "execute_result"
    }
   ],
   "source": [
    "\n",
    "score_df.rename(index={'test_accuracy': 'accuracy', 'test_f1_macro' : 'f1', 'test_recall_macro' : 'recall', 'test_precision_macro' : 'precision'}, inplace=True)\n",
    "score_df = score_df.round(decimals=2)\n",
    "score_df.head()"
   ],
   "metadata": {
    "collapsed": false,
    "pycharm": {
     "name": "#%%\n"
    }
   }
  },
  {
   "cell_type": "code",
   "execution_count": 99,
   "outputs": [],
   "source": [],
   "metadata": {
    "collapsed": false,
    "pycharm": {
     "name": "#%%\n"
    }
   }
  },
  {
   "cell_type": "code",
   "execution_count": 100,
   "outputs": [],
   "source": [
    "score_df.to_pickle(r'data\\SVM_noSW_ord_score.pkl')"
   ],
   "metadata": {
    "collapsed": false,
    "pycharm": {
     "name": "#%%\n"
    }
   }
  }
 ],
 "metadata": {
  "kernelspec": {
   "name": "pycharm-e6d2a138",
   "language": "python",
   "display_name": "PyCharm (CommandFiles)"
  },
  "language_info": {
   "codemirror_mode": {
    "name": "ipython",
    "version": 2
   },
   "file_extension": ".py",
   "mimetype": "text/x-python",
   "name": "python",
   "nbconvert_exporter": "python",
   "pygments_lexer": "ipython2",
   "version": "2.7.6"
  }
 },
 "nbformat": 4,
 "nbformat_minor": 0
}