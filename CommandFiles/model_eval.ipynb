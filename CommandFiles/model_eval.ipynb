{
 "cells": [
  {
   "cell_type": "code",
   "execution_count": 7,
   "metadata": {
    "collapsed": true
   },
   "outputs": [
    {
     "data": {
      "text/plain": "                                               OriginalText  \\\nAF1.txt   Wczoraj rano przytrafiło mi się coś miłego. Pr...   \nAF10.txt  Pan Dussel, człowiek, o którym zawsze mówiono,...   \nAF11.txt  Jakbym w ciągu dnia nie słyszała wystarczająco...   \nAF12.txt  Pienię się z wściekłości, a nie wolno mi tego ...   \nAF13.txt  Wszyscy uważają, że jestem przesadna, gdy mówi...   \n\n                                                CleanedText  \\\nAF1.txt   wczoraj rano przytrafiło mi się coś miłego prz...   \nAF10.txt  pan dussel człowiek o którym zawsze mówiono że...   \nAF11.txt  jakbym w ciągu dnia nie słyszała wystarczająco...   \nAF12.txt  pienię się z wściekłości a nie wolno mi tego o...   \nAF13.txt  wszyscy uważają że jestem przesadna gdy mówię ...   \n\n                                                   WordList  Sentyment  \\\nAF1.txt   [wczoraj, rano, przytrafiło, mi, się, coś, mił...        5.0   \nAF10.txt  [pan, dussel, człowiek, o, którym, zawsze, mów...        1.0   \nAF11.txt  [jakbym, w, ciągu, dnia, nie, słyszała, wystar...        1.0   \nAF12.txt  [pienię, się, z, wściekłości, a, nie, wolno, m...        1.0   \nAF13.txt  [wszyscy, uważają, że, jestem, przesadna, gdy,...        1.0   \n\n          Lubienie  Wstręt  Złość  Strach  Zaskoczenie  Oczekiwanie  Radość  \\\nAF1.txt        2.0     0.0    0.0     0.0          3.0          0.0     2.0   \nAF10.txt       0.0     1.0    4.0     0.0          0.0          1.0     0.0   \nAF11.txt       0.0     1.0    3.0     1.0          0.0          1.0     0.0   \nAF12.txt       0.0     2.0    4.0     0.0          0.0          0.0     0.0   \nAF13.txt       0.0     2.0    4.0     0.0          0.0          0.0     0.0   \n\n          Smutek                                          RemovedSW  \\\nAF1.txt      0.0  wczoraj rano przytrafiło miłego przechodziłam ...   \nAF10.txt     2.0  dussel człowiek mówiono umie świetnie radzić d...   \nAF11.txt     2.0  jakbym ciągu dnia słyszała wystarczająco „psst...   \nAF12.txt     0.0  pienię wściekłości wolno okazać chciałabym tup...   \nAF13.txt     3.0  uważają przesadna mówię śmieszna milczę bezcze...   \n\n          Sentyment_nom  \nAF1.txt               1  \nAF10.txt             -1  \nAF11.txt             -1  \nAF12.txt             -1  \nAF13.txt             -1  ",
      "text/html": "<div>\n<style scoped>\n    .dataframe tbody tr th:only-of-type {\n        vertical-align: middle;\n    }\n\n    .dataframe tbody tr th {\n        vertical-align: top;\n    }\n\n    .dataframe thead th {\n        text-align: right;\n    }\n</style>\n<table border=\"1\" class=\"dataframe\">\n  <thead>\n    <tr style=\"text-align: right;\">\n      <th></th>\n      <th>OriginalText</th>\n      <th>CleanedText</th>\n      <th>WordList</th>\n      <th>Sentyment</th>\n      <th>Lubienie</th>\n      <th>Wstręt</th>\n      <th>Złość</th>\n      <th>Strach</th>\n      <th>Zaskoczenie</th>\n      <th>Oczekiwanie</th>\n      <th>Radość</th>\n      <th>Smutek</th>\n      <th>RemovedSW</th>\n      <th>Sentyment_nom</th>\n    </tr>\n  </thead>\n  <tbody>\n    <tr>\n      <th>AF1.txt</th>\n      <td>Wczoraj rano przytrafiło mi się coś miłego. Pr...</td>\n      <td>wczoraj rano przytrafiło mi się coś miłego prz...</td>\n      <td>[wczoraj, rano, przytrafiło, mi, się, coś, mił...</td>\n      <td>5.0</td>\n      <td>2.0</td>\n      <td>0.0</td>\n      <td>0.0</td>\n      <td>0.0</td>\n      <td>3.0</td>\n      <td>0.0</td>\n      <td>2.0</td>\n      <td>0.0</td>\n      <td>wczoraj rano przytrafiło miłego przechodziłam ...</td>\n      <td>1</td>\n    </tr>\n    <tr>\n      <th>AF10.txt</th>\n      <td>Pan Dussel, człowiek, o którym zawsze mówiono,...</td>\n      <td>pan dussel człowiek o którym zawsze mówiono że...</td>\n      <td>[pan, dussel, człowiek, o, którym, zawsze, mów...</td>\n      <td>1.0</td>\n      <td>0.0</td>\n      <td>1.0</td>\n      <td>4.0</td>\n      <td>0.0</td>\n      <td>0.0</td>\n      <td>1.0</td>\n      <td>0.0</td>\n      <td>2.0</td>\n      <td>dussel człowiek mówiono umie świetnie radzić d...</td>\n      <td>-1</td>\n    </tr>\n    <tr>\n      <th>AF11.txt</th>\n      <td>Jakbym w ciągu dnia nie słyszała wystarczająco...</td>\n      <td>jakbym w ciągu dnia nie słyszała wystarczająco...</td>\n      <td>[jakbym, w, ciągu, dnia, nie, słyszała, wystar...</td>\n      <td>1.0</td>\n      <td>0.0</td>\n      <td>1.0</td>\n      <td>3.0</td>\n      <td>1.0</td>\n      <td>0.0</td>\n      <td>1.0</td>\n      <td>0.0</td>\n      <td>2.0</td>\n      <td>jakbym ciągu dnia słyszała wystarczająco „psst...</td>\n      <td>-1</td>\n    </tr>\n    <tr>\n      <th>AF12.txt</th>\n      <td>Pienię się z wściekłości, a nie wolno mi tego ...</td>\n      <td>pienię się z wściekłości a nie wolno mi tego o...</td>\n      <td>[pienię, się, z, wściekłości, a, nie, wolno, m...</td>\n      <td>1.0</td>\n      <td>0.0</td>\n      <td>2.0</td>\n      <td>4.0</td>\n      <td>0.0</td>\n      <td>0.0</td>\n      <td>0.0</td>\n      <td>0.0</td>\n      <td>0.0</td>\n      <td>pienię wściekłości wolno okazać chciałabym tup...</td>\n      <td>-1</td>\n    </tr>\n    <tr>\n      <th>AF13.txt</th>\n      <td>Wszyscy uważają, że jestem przesadna, gdy mówi...</td>\n      <td>wszyscy uważają że jestem przesadna gdy mówię ...</td>\n      <td>[wszyscy, uważają, że, jestem, przesadna, gdy,...</td>\n      <td>1.0</td>\n      <td>0.0</td>\n      <td>2.0</td>\n      <td>4.0</td>\n      <td>0.0</td>\n      <td>0.0</td>\n      <td>0.0</td>\n      <td>0.0</td>\n      <td>3.0</td>\n      <td>uważają przesadna mówię śmieszna milczę bezcze...</td>\n      <td>-1</td>\n    </tr>\n  </tbody>\n</table>\n</div>"
     },
     "execution_count": 7,
     "metadata": {},
     "output_type": "execute_result"
    }
   ],
   "source": [
    "from ordinal_classifier import OrdinalClassifier\n",
    "import pandas as pd\n",
    "from DashApp.func import Classifier\n",
    "import plotly.graph_objects as go\n",
    "import plotly.express as px\n",
    "from sklearn.feature_extraction.text import CountVectorizer, TfidfVectorizer\n",
    "from sklearn.metrics import confusion_matrix, accuracy_score, precision_score, recall_score, f1_score\n",
    "from sklearn.model_selection import train_test_split\n",
    "from sklearn.naive_bayes import MultinomialNB\n",
    "import sklearn.metrics\n",
    "from sklearn import svm\n",
    "import copy\n",
    "from sklearn.model_selection import cross_val_predict, cross_validate\n",
    "df = pd.read_pickle(r'data\\data_df.pkl')\n",
    "df.head()"
   ]
  },
  {
   "cell_type": "code",
   "execution_count": 8,
   "outputs": [],
   "source": [
    "emotions = ['Lubienie', 'Wstręt', 'Złość', 'Strach', 'Zaskoczenie', 'Oczekiwanie', 'Radość',\n",
    "                         'Smutek']\n",
    "X = df['CleanedText']\n",
    "vector = CountVectorizer()\n",
    "X_vec = vector.fit_transform(X).toarray()"
   ],
   "metadata": {
    "collapsed": false,
    "pycharm": {
     "name": "#%%\n"
    }
   }
  },
  {
   "cell_type": "code",
   "execution_count": 9,
   "outputs": [
    {
     "name": "stderr",
     "output_type": "stream",
     "text": [
      "D:\\praca-inzynierska\\CommandFiles\\venv\\lib\\site-packages\\sklearn\\metrics\\_classification.py:1318: UndefinedMetricWarning: Precision is ill-defined and being set to 0.0 in labels with no predicted samples. Use `zero_division` parameter to control this behavior.\n",
      "  _warn_prf(average, modifier, msg_start, len(result))\n",
      "D:\\praca-inzynierska\\CommandFiles\\venv\\lib\\site-packages\\sklearn\\metrics\\_classification.py:1318: UndefinedMetricWarning: Precision is ill-defined and being set to 0.0 in labels with no predicted samples. Use `zero_division` parameter to control this behavior.\n",
      "  _warn_prf(average, modifier, msg_start, len(result))\n",
      "D:\\praca-inzynierska\\CommandFiles\\venv\\lib\\site-packages\\sklearn\\metrics\\_classification.py:1318: UndefinedMetricWarning: Precision is ill-defined and being set to 0.0 in labels with no predicted samples. Use `zero_division` parameter to control this behavior.\n",
      "  _warn_prf(average, modifier, msg_start, len(result))\n",
      "D:\\praca-inzynierska\\CommandFiles\\venv\\lib\\site-packages\\sklearn\\metrics\\_classification.py:1318: UndefinedMetricWarning: Precision is ill-defined and being set to 0.0 in labels with no predicted samples. Use `zero_division` parameter to control this behavior.\n",
      "  _warn_prf(average, modifier, msg_start, len(result))\n",
      "D:\\praca-inzynierska\\CommandFiles\\venv\\lib\\site-packages\\sklearn\\metrics\\_classification.py:1318: UndefinedMetricWarning: Precision is ill-defined and being set to 0.0 in labels with no predicted samples. Use `zero_division` parameter to control this behavior.\n",
      "  _warn_prf(average, modifier, msg_start, len(result))\n",
      "D:\\praca-inzynierska\\CommandFiles\\venv\\lib\\site-packages\\sklearn\\metrics\\_classification.py:1318: UndefinedMetricWarning: Precision is ill-defined and being set to 0.0 in labels with no predicted samples. Use `zero_division` parameter to control this behavior.\n",
      "  _warn_prf(average, modifier, msg_start, len(result))\n",
      "D:\\praca-inzynierska\\CommandFiles\\venv\\lib\\site-packages\\sklearn\\metrics\\_classification.py:1318: UndefinedMetricWarning: Precision is ill-defined and being set to 0.0 in labels with no predicted samples. Use `zero_division` parameter to control this behavior.\n",
      "  _warn_prf(average, modifier, msg_start, len(result))\n",
      "D:\\praca-inzynierska\\CommandFiles\\venv\\lib\\site-packages\\sklearn\\metrics\\_classification.py:1318: UndefinedMetricWarning: Precision is ill-defined and being set to 0.0 in labels with no predicted samples. Use `zero_division` parameter to control this behavior.\n",
      "  _warn_prf(average, modifier, msg_start, len(result))\n",
      "D:\\praca-inzynierska\\CommandFiles\\venv\\lib\\site-packages\\sklearn\\metrics\\_classification.py:1318: UndefinedMetricWarning: Precision is ill-defined and being set to 0.0 in labels with no predicted samples. Use `zero_division` parameter to control this behavior.\n",
      "  _warn_prf(average, modifier, msg_start, len(result))\n",
      "D:\\praca-inzynierska\\CommandFiles\\venv\\lib\\site-packages\\sklearn\\metrics\\_classification.py:1318: UndefinedMetricWarning: Precision is ill-defined and being set to 0.0 in labels with no predicted samples. Use `zero_division` parameter to control this behavior.\n",
      "  _warn_prf(average, modifier, msg_start, len(result))\n",
      "D:\\praca-inzynierska\\CommandFiles\\venv\\lib\\site-packages\\sklearn\\metrics\\_classification.py:1318: UndefinedMetricWarning: Precision is ill-defined and being set to 0.0 in labels with no predicted samples. Use `zero_division` parameter to control this behavior.\n",
      "  _warn_prf(average, modifier, msg_start, len(result))\n",
      "D:\\praca-inzynierska\\CommandFiles\\venv\\lib\\site-packages\\sklearn\\metrics\\_classification.py:1318: UndefinedMetricWarning: Precision is ill-defined and being set to 0.0 in labels with no predicted samples. Use `zero_division` parameter to control this behavior.\n",
      "  _warn_prf(average, modifier, msg_start, len(result))\n",
      "D:\\praca-inzynierska\\CommandFiles\\venv\\lib\\site-packages\\sklearn\\metrics\\_classification.py:1318: UndefinedMetricWarning: Precision is ill-defined and being set to 0.0 in labels with no predicted samples. Use `zero_division` parameter to control this behavior.\n",
      "  _warn_prf(average, modifier, msg_start, len(result))\n",
      "D:\\praca-inzynierska\\CommandFiles\\venv\\lib\\site-packages\\sklearn\\metrics\\_classification.py:1318: UndefinedMetricWarning: Precision is ill-defined and being set to 0.0 in labels with no predicted samples. Use `zero_division` parameter to control this behavior.\n",
      "  _warn_prf(average, modifier, msg_start, len(result))\n",
      "D:\\praca-inzynierska\\CommandFiles\\venv\\lib\\site-packages\\sklearn\\metrics\\_classification.py:1318: UndefinedMetricWarning: Precision is ill-defined and being set to 0.0 in labels with no predicted samples. Use `zero_division` parameter to control this behavior.\n",
      "  _warn_prf(average, modifier, msg_start, len(result))\n",
      "D:\\praca-inzynierska\\CommandFiles\\venv\\lib\\site-packages\\sklearn\\metrics\\_classification.py:1318: UndefinedMetricWarning: Precision is ill-defined and being set to 0.0 in labels with no predicted samples. Use `zero_division` parameter to control this behavior.\n",
      "  _warn_prf(average, modifier, msg_start, len(result))\n",
      "D:\\praca-inzynierska\\CommandFiles\\venv\\lib\\site-packages\\sklearn\\metrics\\_classification.py:1318: UndefinedMetricWarning: Precision is ill-defined and being set to 0.0 in labels with no predicted samples. Use `zero_division` parameter to control this behavior.\n",
      "  _warn_prf(average, modifier, msg_start, len(result))\n",
      "D:\\praca-inzynierska\\CommandFiles\\venv\\lib\\site-packages\\sklearn\\metrics\\_classification.py:1318: UndefinedMetricWarning: Precision is ill-defined and being set to 0.0 in labels with no predicted samples. Use `zero_division` parameter to control this behavior.\n",
      "  _warn_prf(average, modifier, msg_start, len(result))\n",
      "D:\\praca-inzynierska\\CommandFiles\\venv\\lib\\site-packages\\sklearn\\metrics\\_classification.py:1318: UndefinedMetricWarning: Precision is ill-defined and being set to 0.0 in labels with no predicted samples. Use `zero_division` parameter to control this behavior.\n",
      "  _warn_prf(average, modifier, msg_start, len(result))\n",
      "D:\\praca-inzynierska\\CommandFiles\\venv\\lib\\site-packages\\sklearn\\metrics\\_classification.py:1318: UndefinedMetricWarning: Precision is ill-defined and being set to 0.0 in labels with no predicted samples. Use `zero_division` parameter to control this behavior.\n",
      "  _warn_prf(average, modifier, msg_start, len(result))\n",
      "D:\\praca-inzynierska\\CommandFiles\\venv\\lib\\site-packages\\sklearn\\metrics\\_classification.py:1318: UndefinedMetricWarning: Precision is ill-defined and being set to 0.0 in labels with no predicted samples. Use `zero_division` parameter to control this behavior.\n",
      "  _warn_prf(average, modifier, msg_start, len(result))\n",
      "D:\\praca-inzynierska\\CommandFiles\\venv\\lib\\site-packages\\sklearn\\metrics\\_classification.py:1318: UndefinedMetricWarning: Precision is ill-defined and being set to 0.0 in labels with no predicted samples. Use `zero_division` parameter to control this behavior.\n",
      "  _warn_prf(average, modifier, msg_start, len(result))\n",
      "D:\\praca-inzynierska\\CommandFiles\\venv\\lib\\site-packages\\sklearn\\metrics\\_classification.py:1318: UndefinedMetricWarning: Precision is ill-defined and being set to 0.0 in labels with no predicted samples. Use `zero_division` parameter to control this behavior.\n",
      "  _warn_prf(average, modifier, msg_start, len(result))\n",
      "D:\\praca-inzynierska\\CommandFiles\\venv\\lib\\site-packages\\sklearn\\metrics\\_classification.py:1318: UndefinedMetricWarning: Precision is ill-defined and being set to 0.0 in labels with no predicted samples. Use `zero_division` parameter to control this behavior.\n",
      "  _warn_prf(average, modifier, msg_start, len(result))\n",
      "D:\\praca-inzynierska\\CommandFiles\\venv\\lib\\site-packages\\sklearn\\metrics\\_classification.py:1318: UndefinedMetricWarning: Precision is ill-defined and being set to 0.0 in labels with no predicted samples. Use `zero_division` parameter to control this behavior.\n",
      "  _warn_prf(average, modifier, msg_start, len(result))\n",
      "D:\\praca-inzynierska\\CommandFiles\\venv\\lib\\site-packages\\sklearn\\model_selection\\_split.py:676: UserWarning: The least populated class in y has only 2 members, which is less than n_splits=5.\n",
      "  warnings.warn(\n",
      "D:\\praca-inzynierska\\CommandFiles\\venv\\lib\\site-packages\\sklearn\\metrics\\_classification.py:1318: UndefinedMetricWarning: Precision is ill-defined and being set to 0.0 in labels with no predicted samples. Use `zero_division` parameter to control this behavior.\n",
      "  _warn_prf(average, modifier, msg_start, len(result))\n",
      "D:\\praca-inzynierska\\CommandFiles\\venv\\lib\\site-packages\\sklearn\\metrics\\_classification.py:1318: UndefinedMetricWarning: Precision is ill-defined and being set to 0.0 in labels with no predicted samples. Use `zero_division` parameter to control this behavior.\n",
      "  _warn_prf(average, modifier, msg_start, len(result))\n",
      "D:\\praca-inzynierska\\CommandFiles\\venv\\lib\\site-packages\\sklearn\\metrics\\_classification.py:1318: UndefinedMetricWarning: Precision is ill-defined and being set to 0.0 in labels with no predicted samples. Use `zero_division` parameter to control this behavior.\n",
      "  _warn_prf(average, modifier, msg_start, len(result))\n",
      "D:\\praca-inzynierska\\CommandFiles\\venv\\lib\\site-packages\\sklearn\\metrics\\_classification.py:1318: UndefinedMetricWarning: Precision is ill-defined and being set to 0.0 in labels with no predicted samples. Use `zero_division` parameter to control this behavior.\n",
      "  _warn_prf(average, modifier, msg_start, len(result))\n",
      "D:\\praca-inzynierska\\CommandFiles\\venv\\lib\\site-packages\\sklearn\\metrics\\_classification.py:1318: UndefinedMetricWarning: Precision is ill-defined and being set to 0.0 in labels with no predicted samples. Use `zero_division` parameter to control this behavior.\n",
      "  _warn_prf(average, modifier, msg_start, len(result))\n",
      "D:\\praca-inzynierska\\CommandFiles\\venv\\lib\\site-packages\\sklearn\\model_selection\\_split.py:676: UserWarning: The least populated class in y has only 4 members, which is less than n_splits=5.\n",
      "  warnings.warn(\n",
      "D:\\praca-inzynierska\\CommandFiles\\venv\\lib\\site-packages\\sklearn\\metrics\\_classification.py:1318: UndefinedMetricWarning: Precision is ill-defined and being set to 0.0 in labels with no predicted samples. Use `zero_division` parameter to control this behavior.\n",
      "  _warn_prf(average, modifier, msg_start, len(result))\n",
      "D:\\praca-inzynierska\\CommandFiles\\venv\\lib\\site-packages\\sklearn\\metrics\\_classification.py:1318: UndefinedMetricWarning: Precision is ill-defined and being set to 0.0 in labels with no predicted samples. Use `zero_division` parameter to control this behavior.\n",
      "  _warn_prf(average, modifier, msg_start, len(result))\n",
      "D:\\praca-inzynierska\\CommandFiles\\venv\\lib\\site-packages\\sklearn\\metrics\\_classification.py:1318: UndefinedMetricWarning: Precision is ill-defined and being set to 0.0 in labels with no predicted samples. Use `zero_division` parameter to control this behavior.\n",
      "  _warn_prf(average, modifier, msg_start, len(result))\n",
      "D:\\praca-inzynierska\\CommandFiles\\venv\\lib\\site-packages\\sklearn\\metrics\\_classification.py:1318: UndefinedMetricWarning: Precision is ill-defined and being set to 0.0 in labels with no predicted samples. Use `zero_division` parameter to control this behavior.\n",
      "  _warn_prf(average, modifier, msg_start, len(result))\n",
      "D:\\praca-inzynierska\\CommandFiles\\venv\\lib\\site-packages\\sklearn\\metrics\\_classification.py:1318: UndefinedMetricWarning: Precision is ill-defined and being set to 0.0 in labels with no predicted samples. Use `zero_division` parameter to control this behavior.\n",
      "  _warn_prf(average, modifier, msg_start, len(result))\n",
      "D:\\praca-inzynierska\\CommandFiles\\venv\\lib\\site-packages\\sklearn\\metrics\\_classification.py:1318: UndefinedMetricWarning: Precision is ill-defined and being set to 0.0 in labels with no predicted samples. Use `zero_division` parameter to control this behavior.\n",
      "  _warn_prf(average, modifier, msg_start, len(result))\n",
      "D:\\praca-inzynierska\\CommandFiles\\venv\\lib\\site-packages\\sklearn\\metrics\\_classification.py:1318: UndefinedMetricWarning: Precision is ill-defined and being set to 0.0 in labels with no predicted samples. Use `zero_division` parameter to control this behavior.\n",
      "  _warn_prf(average, modifier, msg_start, len(result))\n"
     ]
    },
    {
     "name": "stdout",
     "output_type": "stream",
     "text": [
      "{'Lubienie': {'fit_time': 0.025058794021606445, 'score_time': 0.013584232330322266, 'test_accuracy': 0.4257142857142857, 'test_f1_macro': 0.13792657610588646, 'test_precision_macro': 0.11128070175438598, 'test_recall_macro': 0.18666666666666668}, 'Wstręt': {'fit_time': 0.01599993705749512, 'score_time': 0.008751106262207032, 'test_accuracy': 0.40523809523809523, 'test_f1_macro': 0.16383394383394384, 'test_precision_macro': 0.15659442724458206, 'test_recall_macro': 0.20777777777777778}, 'Złość': {'fit_time': 0.021323347091674806, 'score_time': 0.006596136093139649, 'test_accuracy': 0.23714285714285716, 'test_f1_macro': 0.10930390865173475, 'test_precision_macro': 0.08604506604506604, 'test_recall_macro': 0.15333333333333332}, 'Strach': {'fit_time': 0.014717674255371094, 'score_time': 0.0038315296173095704, 'test_accuracy': 0.2471428571428571, 'test_f1_macro': 0.10844717591079148, 'test_precision_macro': 0.08780652680652681, 'test_recall_macro': 0.1433333333333333}, 'Zaskoczenie': {'fit_time': 0.01932039260864258, 'score_time': 0.0036005496978759764, 'test_accuracy': 0.2961904761904762, 'test_f1_macro': 0.1570796942696256, 'test_precision_macro': 0.14833333333333334, 'test_recall_macro': 0.20542857142857143}, 'Oczekiwanie': {'fit_time': 0.0187075138092041, 'score_time': 0.01039433479309082, 'test_accuracy': 0.5147619047619048, 'test_f1_macro': 0.205727655066476, 'test_precision_macro': 0.2141780922895474, 'test_recall_macro': 0.23545454545454544}, 'Radość': {'fit_time': 0.016036081314086913, 'score_time': 0.0060024261474609375, 'test_accuracy': 0.6738095238095239, 'test_f1_macro': 0.1807649956534338, 'test_precision_macro': 0.15817543859649125, 'test_recall_macro': 0.21523809523809523}, 'Smutek': {'fit_time': 0.016745233535766603, 'score_time': 0.006243991851806641, 'test_accuracy': 0.2671428571428571, 'test_f1_macro': 0.14724199983023512, 'test_precision_macro': 0.1275162147793727, 'test_recall_macro': 0.2086666666666667}}\n"
     ]
    },
    {
     "name": "stderr",
     "output_type": "stream",
     "text": [
      "D:\\praca-inzynierska\\CommandFiles\\venv\\lib\\site-packages\\sklearn\\metrics\\_classification.py:1318: UndefinedMetricWarning: Precision is ill-defined and being set to 0.0 in labels with no predicted samples. Use `zero_division` parameter to control this behavior.\n",
      "  _warn_prf(average, modifier, msg_start, len(result))\n",
      "D:\\praca-inzynierska\\CommandFiles\\venv\\lib\\site-packages\\sklearn\\metrics\\_classification.py:1318: UndefinedMetricWarning: Precision is ill-defined and being set to 0.0 in labels with no predicted samples. Use `zero_division` parameter to control this behavior.\n",
      "  _warn_prf(average, modifier, msg_start, len(result))\n"
     ]
    }
   ],
   "source": [
    "dict = {}\n",
    "for emo in emotions:\n",
    "    ylabels = df[emo]\n",
    "    scores = cross_validate(MultinomialNB(), X_vec, ylabels, scoring=('accuracy', 'f1_macro', 'precision_macro', 'recall_macro'))\n",
    "    for keys in scores.keys():\n",
    "        scores[keys] = scores[keys].mean()\n",
    "    dict[emo] = scores\n",
    "\n",
    "\n",
    "print(dict)\n"
   ],
   "metadata": {
    "collapsed": false,
    "pycharm": {
     "name": "#%%\n"
    }
   }
  },
  {
   "cell_type": "code",
   "execution_count": 10,
   "outputs": [],
   "source": [
    "score_df = pd.DataFrame(dict)"
   ],
   "metadata": {
    "collapsed": false,
    "pycharm": {
     "name": "#%%\n"
    }
   }
  },
  {
   "cell_type": "code",
   "execution_count": 11,
   "outputs": [
    {
     "data": {
      "text/plain": "           Lubienie  Wstręt  Złość  Strach  Zaskoczenie  Oczekiwanie  Radość  \\\naccuracy       0.43    0.41   0.24    0.25         0.30         0.51    0.67   \nf1             0.14    0.16   0.11    0.11         0.16         0.21    0.18   \nprecision      0.11    0.16   0.09    0.09         0.15         0.21    0.16   \nrecall         0.19    0.21   0.15    0.14         0.21         0.24    0.22   \n\n           Smutek  \naccuracy     0.27  \nf1           0.15  \nprecision    0.13  \nrecall       0.21  ",
      "text/html": "<div>\n<style scoped>\n    .dataframe tbody tr th:only-of-type {\n        vertical-align: middle;\n    }\n\n    .dataframe tbody tr th {\n        vertical-align: top;\n    }\n\n    .dataframe thead th {\n        text-align: right;\n    }\n</style>\n<table border=\"1\" class=\"dataframe\">\n  <thead>\n    <tr style=\"text-align: right;\">\n      <th></th>\n      <th>Lubienie</th>\n      <th>Wstręt</th>\n      <th>Złość</th>\n      <th>Strach</th>\n      <th>Zaskoczenie</th>\n      <th>Oczekiwanie</th>\n      <th>Radość</th>\n      <th>Smutek</th>\n    </tr>\n  </thead>\n  <tbody>\n    <tr>\n      <th>accuracy</th>\n      <td>0.43</td>\n      <td>0.41</td>\n      <td>0.24</td>\n      <td>0.25</td>\n      <td>0.30</td>\n      <td>0.51</td>\n      <td>0.67</td>\n      <td>0.27</td>\n    </tr>\n    <tr>\n      <th>f1</th>\n      <td>0.14</td>\n      <td>0.16</td>\n      <td>0.11</td>\n      <td>0.11</td>\n      <td>0.16</td>\n      <td>0.21</td>\n      <td>0.18</td>\n      <td>0.15</td>\n    </tr>\n    <tr>\n      <th>precision</th>\n      <td>0.11</td>\n      <td>0.16</td>\n      <td>0.09</td>\n      <td>0.09</td>\n      <td>0.15</td>\n      <td>0.21</td>\n      <td>0.16</td>\n      <td>0.13</td>\n    </tr>\n    <tr>\n      <th>recall</th>\n      <td>0.19</td>\n      <td>0.21</td>\n      <td>0.15</td>\n      <td>0.14</td>\n      <td>0.21</td>\n      <td>0.24</td>\n      <td>0.22</td>\n      <td>0.21</td>\n    </tr>\n  </tbody>\n</table>\n</div>"
     },
     "execution_count": 11,
     "metadata": {},
     "output_type": "execute_result"
    }
   ],
   "source": [
    "score_df.drop(['fit_time', 'score_time'],axis=0, inplace=True)\n",
    "score_df.rename(index={'test_accuracy': 'accuracy', 'test_f1_macro' : 'f1', 'test_recall_macro' : 'recall', 'test_precision_macro' : 'precision'}, inplace=True)\n",
    "score_df = score_df.round(decimals=2)\n",
    "score_df.head()"
   ],
   "metadata": {
    "collapsed": false,
    "pycharm": {
     "name": "#%%\n"
    }
   }
  },
  {
   "cell_type": "code",
   "execution_count": 14,
   "outputs": [
    {
     "data": {
      "text/plain": "accuracy     0.38500\nf1           0.15250\nprecision    0.13750\nrecall       0.19625\ndtype: float64"
     },
     "execution_count": 14,
     "metadata": {},
     "output_type": "execute_result"
    }
   ],
   "source": [
    "\n",
    "mean_f1 = score_df.mean(axis=1)\n",
    "mean_f1.head()"
   ],
   "metadata": {
    "collapsed": false,
    "pycharm": {
     "name": "#%%\n"
    }
   }
  },
  {
   "cell_type": "code",
   "execution_count": null,
   "outputs": [],
   "source": [
    "#score_df.to_pickle(r'data\\SVM_all_score.pkl')"
   ],
   "metadata": {
    "collapsed": false,
    "pycharm": {
     "name": "#%%\n"
    }
   }
  },
  {
   "cell_type": "code",
   "execution_count": null,
   "outputs": [],
   "source": [],
   "metadata": {
    "collapsed": false,
    "pycharm": {
     "name": "#%%\n"
    }
   }
  }
 ],
 "metadata": {
  "kernelspec": {
   "name": "pycharm-e6d2a138",
   "language": "python",
   "display_name": "PyCharm (CommandFiles)"
  },
  "language_info": {
   "codemirror_mode": {
    "name": "ipython",
    "version": 2
   },
   "file_extension": ".py",
   "mimetype": "text/x-python",
   "name": "python",
   "nbconvert_exporter": "python",
   "pygments_lexer": "ipython2",
   "version": "2.7.6"
  }
 },
 "nbformat": 4,
 "nbformat_minor": 0
}