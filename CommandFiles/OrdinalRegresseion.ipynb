{
 "cells": [
  {
   "cell_type": "code",
   "execution_count": 1,
   "metadata": {
    "collapsed": true
   },
   "outputs": [
    {
     "data": {
      "text/plain": "                                               OriginalText  \\\nAF1.txt   Wczoraj rano przytrafiło mi się coś miłego. Pr...   \nAF10.txt  Pan Dussel, człowiek, o którym zawsze mówiono,...   \nAF11.txt  Jakbym w ciągu dnia nie słyszała wystarczająco...   \nAF12.txt  Pienię się z wściekłości, a nie wolno mi tego ...   \nAF13.txt  Wszyscy uważają, że jestem przesadna, gdy mówi...   \n\n                                                CleanedText  \\\nAF1.txt   wczoraj rano przytrafiło mi się coś miłego prz...   \nAF10.txt  pan dussel człowiek o którym zawsze mówiono że...   \nAF11.txt  jakbym w ciągu dnia nie słyszała wystarczająco...   \nAF12.txt  pienię się z wściekłości a nie wolno mi tego o...   \nAF13.txt  wszyscy uważają że jestem przesadna gdy mówię ...   \n\n                                                   WordList  Sentyment  \\\nAF1.txt   [wczoraj, rano, przytrafiło, mi, się, coś, mił...        5.0   \nAF10.txt  [pan, dussel, człowiek, o, którym, zawsze, mów...        1.0   \nAF11.txt  [jakbym, w, ciągu, dnia, nie, słyszała, wystar...        1.0   \nAF12.txt  [pienię, się, z, wściekłości, a, nie, wolno, m...        1.0   \nAF13.txt  [wszyscy, uważają, że, jestem, przesadna, gdy,...        1.0   \n\n          Lubienie  Wstręt  Złość  Strach  Zaskoczenie  Oczekiwanie  Radość  \\\nAF1.txt        2.0     0.0    0.0     0.0          3.0          0.0     2.0   \nAF10.txt       0.0     1.0    4.0     0.0          0.0          1.0     0.0   \nAF11.txt       0.0     1.0    3.0     1.0          0.0          1.0     0.0   \nAF12.txt       0.0     2.0    4.0     0.0          0.0          0.0     0.0   \nAF13.txt       0.0     2.0    4.0     0.0          0.0          0.0     0.0   \n\n          Smutek  \nAF1.txt      0.0  \nAF10.txt     2.0  \nAF11.txt     2.0  \nAF12.txt     0.0  \nAF13.txt     3.0  ",
      "text/html": "<div>\n<style scoped>\n    .dataframe tbody tr th:only-of-type {\n        vertical-align: middle;\n    }\n\n    .dataframe tbody tr th {\n        vertical-align: top;\n    }\n\n    .dataframe thead th {\n        text-align: right;\n    }\n</style>\n<table border=\"1\" class=\"dataframe\">\n  <thead>\n    <tr style=\"text-align: right;\">\n      <th></th>\n      <th>OriginalText</th>\n      <th>CleanedText</th>\n      <th>WordList</th>\n      <th>Sentyment</th>\n      <th>Lubienie</th>\n      <th>Wstręt</th>\n      <th>Złość</th>\n      <th>Strach</th>\n      <th>Zaskoczenie</th>\n      <th>Oczekiwanie</th>\n      <th>Radość</th>\n      <th>Smutek</th>\n    </tr>\n  </thead>\n  <tbody>\n    <tr>\n      <th>AF1.txt</th>\n      <td>Wczoraj rano przytrafiło mi się coś miłego. Pr...</td>\n      <td>wczoraj rano przytrafiło mi się coś miłego prz...</td>\n      <td>[wczoraj, rano, przytrafiło, mi, się, coś, mił...</td>\n      <td>5.0</td>\n      <td>2.0</td>\n      <td>0.0</td>\n      <td>0.0</td>\n      <td>0.0</td>\n      <td>3.0</td>\n      <td>0.0</td>\n      <td>2.0</td>\n      <td>0.0</td>\n    </tr>\n    <tr>\n      <th>AF10.txt</th>\n      <td>Pan Dussel, człowiek, o którym zawsze mówiono,...</td>\n      <td>pan dussel człowiek o którym zawsze mówiono że...</td>\n      <td>[pan, dussel, człowiek, o, którym, zawsze, mów...</td>\n      <td>1.0</td>\n      <td>0.0</td>\n      <td>1.0</td>\n      <td>4.0</td>\n      <td>0.0</td>\n      <td>0.0</td>\n      <td>1.0</td>\n      <td>0.0</td>\n      <td>2.0</td>\n    </tr>\n    <tr>\n      <th>AF11.txt</th>\n      <td>Jakbym w ciągu dnia nie słyszała wystarczająco...</td>\n      <td>jakbym w ciągu dnia nie słyszała wystarczająco...</td>\n      <td>[jakbym, w, ciągu, dnia, nie, słyszała, wystar...</td>\n      <td>1.0</td>\n      <td>0.0</td>\n      <td>1.0</td>\n      <td>3.0</td>\n      <td>1.0</td>\n      <td>0.0</td>\n      <td>1.0</td>\n      <td>0.0</td>\n      <td>2.0</td>\n    </tr>\n    <tr>\n      <th>AF12.txt</th>\n      <td>Pienię się z wściekłości, a nie wolno mi tego ...</td>\n      <td>pienię się z wściekłości a nie wolno mi tego o...</td>\n      <td>[pienię, się, z, wściekłości, a, nie, wolno, m...</td>\n      <td>1.0</td>\n      <td>0.0</td>\n      <td>2.0</td>\n      <td>4.0</td>\n      <td>0.0</td>\n      <td>0.0</td>\n      <td>0.0</td>\n      <td>0.0</td>\n      <td>0.0</td>\n    </tr>\n    <tr>\n      <th>AF13.txt</th>\n      <td>Wszyscy uważają, że jestem przesadna, gdy mówi...</td>\n      <td>wszyscy uważają że jestem przesadna gdy mówię ...</td>\n      <td>[wszyscy, uważają, że, jestem, przesadna, gdy,...</td>\n      <td>1.0</td>\n      <td>0.0</td>\n      <td>2.0</td>\n      <td>4.0</td>\n      <td>0.0</td>\n      <td>0.0</td>\n      <td>0.0</td>\n      <td>0.0</td>\n      <td>3.0</td>\n    </tr>\n  </tbody>\n</table>\n</div>"
     },
     "execution_count": 1,
     "metadata": {},
     "output_type": "execute_result"
    }
   ],
   "source": [
    "import pandas as pd\n",
    "df = pd.read_pickle(r'data\\data_df.pkl')\n",
    "df.head()"
   ]
  },
  {
   "cell_type": "code",
   "execution_count": null,
   "outputs": [],
   "source": [
    "import numpy as np\n",
    "\n",
    "import scipy.stats as stats\n",
    "\n",
    "from statsmodels.miscmodels.ordinal_model import OrderedModel"
   ],
   "metadata": {
    "collapsed": false,
    "pycharm": {
     "name": "#%%\n"
    }
   }
  },
  {
   "cell_type": "code",
   "execution_count": 2,
   "outputs": [
    {
     "name": "stdout",
     "output_type": "stream",
     "text": [
      "AF1.txt     wczoraj rano przytrafiło mi się coś miłego prz...\n",
      "AF10.txt    pan dussel człowiek o którym zawsze mówiono że...\n",
      "AF11.txt    jakbym w ciągu dnia nie słyszała wystarczająco...\n",
      "AF12.txt    pienię się z wściekłości a nie wolno mi tego o...\n",
      "AF13.txt    wszyscy uważają że jestem przesadna gdy mówię ...\n",
      "                                  ...                        \n",
      "PO6.txt     psycha siada mieszkam z dziewczyną od pół roku...\n",
      "PO7.txt     doszło do bardzo nieciekawej sytuacji moja dzi...\n",
      "PO8.txt     próbuje pomóc kumplowi ale już nie wiem co rob...\n",
      "PO9.txt     mam ekipę ok 10 osób że studiów w zasadzie to ...\n",
      "ZO1.txt     kiedy późno w nocy wróciłem do domu światła by...\n",
      "Name: CleanedText, Length: 101, dtype: object\n",
      "0.0    49\n",
      "1.0    20\n",
      "2.0    14\n",
      "3.0    11\n",
      "4.0     7\n",
      "Name: Lubienie, dtype: int64\n"
     ]
    }
   ],
   "source": [
    "X = df['CleanedText']\n",
    "\n",
    "ylabels = df['Lubienie'] # the labels, or answers, we want to test against\n",
    "\n",
    "print(X)\n",
    "print(ylabels.value_counts())\n",
    "from sklearn.feature_extraction.text import CountVectorizer,TfidfVectorizer\n",
    "vector = CountVectorizer()\n",
    "X = vector.fit_transform(X).toarray()"
   ],
   "metadata": {
    "collapsed": false,
    "pycharm": {
     "name": "#%%\n"
    }
   }
  },
  {
   "cell_type": "code",
   "execution_count": 5,
   "outputs": [],
   "source": [
    "y = pd.Series(ylabels, dtype=\"category\")"
   ],
   "metadata": {
    "collapsed": false,
    "pycharm": {
     "name": "#%%\n"
    }
   }
  },
  {
   "cell_type": "code",
   "execution_count": 6,
   "outputs": [
    {
     "name": "stderr",
     "output_type": "stream",
     "text": [
      "D:\\praca-inzynierska\\CommandFiles\\venv\\lib\\site-packages\\statsmodels\\miscmodels\\ordinal_model.py:206: Warning: the endog has ordered == False, risk of capturing a wrong order for the categories. ordered == True preferred.\n",
      "  warnings.warn(\"the endog has ordered == False, \"\n"
     ]
    },
    {
     "ename": "ValueError",
     "evalue": "There should not be a constant in the model",
     "output_type": "error",
     "traceback": [
      "\u001B[1;31m---------------------------------------------------------------------------\u001B[0m",
      "\u001B[1;31mValueError\u001B[0m                                Traceback (most recent call last)",
      "\u001B[1;32m~\\AppData\\Local\\Temp/ipykernel_14208/2932182226.py\u001B[0m in \u001B[0;36m<module>\u001B[1;34m\u001B[0m\n\u001B[0;32m      4\u001B[0m \u001B[1;33m\u001B[0m\u001B[0m\n\u001B[0;32m      5\u001B[0m \u001B[1;32mfrom\u001B[0m \u001B[0mstatsmodels\u001B[0m\u001B[1;33m.\u001B[0m\u001B[0mmiscmodels\u001B[0m\u001B[1;33m.\u001B[0m\u001B[0mordinal_model\u001B[0m \u001B[1;32mimport\u001B[0m \u001B[0mOrderedModel\u001B[0m\u001B[1;33m\u001B[0m\u001B[1;33m\u001B[0m\u001B[0m\n\u001B[1;32m----> 6\u001B[1;33m mod_prob = OrderedModel(y,\n\u001B[0m\u001B[0;32m      7\u001B[0m                         \u001B[0mX\u001B[0m\u001B[1;33m,\u001B[0m\u001B[1;33m\u001B[0m\u001B[1;33m\u001B[0m\u001B[0m\n\u001B[0;32m      8\u001B[0m                         distr='probit')\n",
      "\u001B[1;32mD:\\praca-inzynierska\\CommandFiles\\venv\\lib\\site-packages\\statsmodels\\miscmodels\\ordinal_model.py\u001B[0m in \u001B[0;36m__init__\u001B[1;34m(self, endog, exog, offset, distr, **kwds)\u001B[0m\n\u001B[0;32m    153\u001B[0m \u001B[1;33m\u001B[0m\u001B[0m\n\u001B[0;32m    154\u001B[0m         \u001B[1;32mif\u001B[0m \u001B[0mself\u001B[0m\u001B[1;33m.\u001B[0m\u001B[0mk_constant\u001B[0m \u001B[1;33m>\u001B[0m \u001B[1;36m0\u001B[0m\u001B[1;33m:\u001B[0m\u001B[1;33m\u001B[0m\u001B[1;33m\u001B[0m\u001B[0m\n\u001B[1;32m--> 155\u001B[1;33m             \u001B[1;32mraise\u001B[0m \u001B[0mValueError\u001B[0m\u001B[1;33m(\u001B[0m\u001B[1;34m\"There should not be a constant in the model\"\u001B[0m\u001B[1;33m)\u001B[0m\u001B[1;33m\u001B[0m\u001B[1;33m\u001B[0m\u001B[0m\n\u001B[0m\u001B[0;32m    156\u001B[0m \u001B[1;33m\u001B[0m\u001B[0m\n\u001B[0;32m    157\u001B[0m         \u001B[0mself\u001B[0m\u001B[1;33m.\u001B[0m\u001B[0m_initialize_labels\u001B[0m\u001B[1;33m(\u001B[0m\u001B[0mlabels\u001B[0m\u001B[1;33m,\u001B[0m \u001B[0mk_levels\u001B[0m\u001B[1;33m=\u001B[0m\u001B[0mk_levels\u001B[0m\u001B[1;33m)\u001B[0m\u001B[1;33m\u001B[0m\u001B[1;33m\u001B[0m\u001B[0m\n",
      "\u001B[1;31mValueError\u001B[0m: There should not be a constant in the model"
     ]
    }
   ],
   "source": [
    "import numpy as np\n",
    "\n",
    "import scipy.stats as stats\n",
    "\n",
    "from statsmodels.miscmodels.ordinal_model import OrderedModel\n",
    "mod_prob = OrderedModel(y,\n",
    "                        X,\n",
    "                        distr='probit')\n",
    "\n",
    "res_prob = mod_prob.fit(method='bfgs')\n",
    "res_prob.summary()"
   ],
   "metadata": {
    "collapsed": false,
    "pycharm": {
     "name": "#%%\n"
    }
   }
  }
 ],
 "metadata": {
  "kernelspec": {
   "name": "pycharm-e6d2a138",
   "language": "python",
   "display_name": "PyCharm (CommandFiles)"
  },
  "language_info": {
   "codemirror_mode": {
    "name": "ipython",
    "version": 2
   },
   "file_extension": ".py",
   "mimetype": "text/x-python",
   "name": "python",
   "nbconvert_exporter": "python",
   "pygments_lexer": "ipython2",
   "version": "2.7.6"
  }
 },
 "nbformat": 4,
 "nbformat_minor": 0
}